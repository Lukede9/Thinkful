{
 "cells": [
  {
   "cell_type": "code",
   "execution_count": 1,
   "metadata": {},
   "outputs": [],
   "source": [
    "%matplotlib inline\n",
    "import numpy as np\n",
    "import pandas as pd\n",
    "import scipy\n",
    "import sklearn\n",
    "import matplotlib.pyplot as plt\n",
    "import seaborn as sns"
   ]
  },
  {
   "cell_type": "code",
   "execution_count": 2,
   "metadata": {},
   "outputs": [],
   "source": [
    "#importing the data into two columns\n",
    "orig_data = pd.read_csv('imdb_labelled.txt', sep=('\\n' and '\\t') , header=None)\n",
    "orig_data.columns = ['comment', 'feedback']"
   ]
  },
  {
   "cell_type": "code",
   "execution_count": 3,
   "metadata": {},
   "outputs": [],
   "source": [
    "data = orig_data.copy()"
   ]
  },
  {
   "cell_type": "code",
   "execution_count": 4,
   "metadata": {},
   "outputs": [],
   "source": [
    "#DataFrame of all the negative comments\n",
    "neg_data = data[data['feedback']==0]"
   ]
  },
  {
   "cell_type": "code",
   "execution_count": 5,
   "metadata": {},
   "outputs": [],
   "source": [
    "neg_comments = list(neg_data['comment'])\n",
    "neg_comment_list = [] #a list of 362 sublists. Each sublist is one neg comment split up by words.\n",
    "for comment in neg_comments:\n",
    "    words = comment.split()\n",
    "    neg_comment_list.append(words)\n",
    "neg_word_list = [] #a list of all 7533 words in all the neg comments. With many duplicates\n",
    "for comment in neg_comment_list:\n",
    "    for word in comment:\n",
    "        neg_word_list.append(word)"
   ]
  },
  {
   "cell_type": "code",
   "execution_count": 6,
   "metadata": {},
   "outputs": [],
   "source": [
    "neg_word_freq = {} #a dictionary of all 2484 words in neg comments and how many times they appear\n",
    "for word in neg_word_list:\n",
    "    if word not in neg_word_freq:\n",
    "        neg_word_freq[word] = 1\n",
    "    else:\n",
    "        neg_word_freq[word] += 1"
   ]
  },
  {
   "cell_type": "code",
   "execution_count": 7,
   "metadata": {},
   "outputs": [],
   "source": [
    "from collections import Counter\n",
    "neg_top100_counts = list(Counter(neg_word_freq).most_common(100)) #neg_top100_counts is a list of tuples (word, count)"
   ]
  },
  {
   "cell_type": "code",
   "execution_count": 8,
   "metadata": {},
   "outputs": [],
   "source": [
    "pos_data = data[data['feedback']==1]"
   ]
  },
  {
   "cell_type": "code",
   "execution_count": 9,
   "metadata": {},
   "outputs": [],
   "source": [
    "#let's do the same for positive words\n",
    "pos_comments = list(pos_data['comment'])\n",
    "pos_comment_list = []\n",
    "for comment in pos_comments:\n",
    "    words = comment.split()\n",
    "    pos_comment_list.append(words)\n",
    "pos_word_list = []\n",
    "for comment in pos_comment_list:\n",
    "    for word in comment:\n",
    "        pos_word_list.append(word)"
   ]
  },
  {
   "cell_type": "code",
   "execution_count": 10,
   "metadata": {},
   "outputs": [],
   "source": [
    "pos_word_freq = {}\n",
    "for word in pos_word_list:\n",
    "    if word not in pos_word_freq:\n",
    "        pos_word_freq[word] = 1\n",
    "    else:\n",
    "        pos_word_freq[word] += 1"
   ]
  },
  {
   "cell_type": "code",
   "execution_count": 11,
   "metadata": {},
   "outputs": [],
   "source": [
    "pos_top100_counts = list(Counter(pos_word_freq).most_common(100))"
   ]
  },
  {
   "cell_type": "code",
   "execution_count": 12,
   "metadata": {},
   "outputs": [
    {
     "name": "stdout",
     "output_type": "stream",
     "text": [
      "These words are top 100 positive but not top 100 negative: ['bad', 'even', 'how', 'no', 'only', 'would', \"didn't\", 'plot', 'than', 'your', 'they', 'make', 'There', 'any', 'could', 'bad.', 'little', 'other', 'waste', 'If', 'much', 'real', 'work', 'totally']\n",
      "These words are top 100 negative but not top 100 positive: ['will', 'wonderful', 'when', 'its', 'think', 'best', 'A', 'had', 'movies', 'well', 'do', 'her', 'what', 'their', 'over', 'character', 'look', 'worth', 'actors', 'liked', 'love', 'into', 'many', 'people']\n"
     ]
    }
   ],
   "source": [
    "#making a list each for most common words\n",
    "pos100 = [x for (x,y) in pos_top100_counts]\n",
    "neg100 = [x for (x,y) in neg_top100_counts]\n",
    "\n",
    "neg_unique = [x for x in pos100 if x not in neg100]\n",
    "pos_unique = [x for x in neg100 if x not in pos100]\n",
    "print('These words are top 100 positive but not top 100 negative: {}'.format(pos_unique))\n",
    "print('These words are top 100 negative but not top 100 positive: {}'.format(neg_unique))"
   ]
  },
  {
   "cell_type": "code",
   "execution_count": 13,
   "metadata": {},
   "outputs": [],
   "source": [
    "#creating a list of words I'd expect to see exclusively in negative comments\n",
    "#then creating columns that states whether in comments\n",
    "neg_keywords = ['bad', 'even', 'how', 'no', 'only', 'would', \"didn't\", 'plot', 'than', 'your', 'they', 'make', 'There', 'any', 'could', 'little', 'other', 'waste', 'If', 'much', 'real', 'work', 'totally']\n",
    "\n",
    "for key in neg_keywords:\n",
    "    data[key] = data.comment.str.contains(\n",
    "        str(key),\n",
    "        case=False\n",
    "    )"
   ]
  },
  {
   "cell_type": "code",
   "execution_count": 14,
   "metadata": {},
   "outputs": [],
   "source": [
    "data['feedback_bool_neg'] = data.feedback == 0"
   ]
  },
  {
   "cell_type": "code",
   "execution_count": 15,
   "metadata": {},
   "outputs": [
    {
     "data": {
      "text/plain": [
       "<matplotlib.axes._subplots.AxesSubplot at 0x113da43c8>"
      ]
     },
     "execution_count": 15,
     "metadata": {},
     "output_type": "execute_result"
    },
    {
     "data": {
      "image/png": "[encoded data removed]",
      "text/plain": [
       "<Figure size 432x288 with 2 Axes>"
      ]
     },
     "metadata": {},
     "output_type": "display_data"
    }
   ],
   "source": [
    "sns.heatmap(data.corr())"
   ]
  },
  {
   "cell_type": "code",
   "execution_count": 16,
   "metadata": {},
   "outputs": [],
   "source": [
    "from sklearn.naive_bayes import BernoulliNB"
   ]
  },
  {
   "cell_type": "code",
   "execution_count": 17,
   "metadata": {},
   "outputs": [],
   "source": [
    "bnb = BernoulliNB()"
   ]
  },
  {
   "cell_type": "code",
   "execution_count": 18,
   "metadata": {},
   "outputs": [],
   "source": [
    "test_data = data[neg_keywords]\n",
    "target = data.feedback_bool_neg"
   ]
  },
  {
   "cell_type": "code",
   "execution_count": 19,
   "metadata": {},
   "outputs": [
    {
     "data": {
      "text/plain": [
       "BernoulliNB(alpha=1.0, binarize=0.0, class_prior=None, fit_prior=True)"
      ]
     },
     "execution_count": 19,
     "metadata": {},
     "output_type": "execute_result"
    }
   ],
   "source": [
    "bnb.fit(test_data, target)"
   ]
  },
  {
   "cell_type": "code",
   "execution_count": 20,
   "metadata": {},
   "outputs": [],
   "source": [
    "y_pred = bnb.predict(test_data)"
   ]
  },
  {
   "cell_type": "code",
   "execution_count": 21,
   "metadata": {},
   "outputs": [
    {
     "name": "stdout",
     "output_type": "stream",
     "text": [
      "# of mislabeled comments out of total 748 comments : 239\n"
     ]
    }
   ],
   "source": [
    "print('# of mislabeled comments out of total {} comments : {}'.format(test_data.shape[0], (target != y_pred).sum()))"
   ]
  }
 ],
 "metadata": {
  "kernelspec": {
   "display_name": "Python 3",
   "language": "python",
   "name": "python3"
  },
  "language_info": {
   "codemirror_mode": {
    "name": "ipython",
    "version": 3
   },
   "file_extension": ".py",
   "mimetype": "text/x-python",
   "name": "python",
   "nbconvert_exporter": "python",
   "pygments_lexer": "ipython3",
   "version": "3.6.4"
  }
 },
 "nbformat": 4,
 "nbformat_minor": 2
}
