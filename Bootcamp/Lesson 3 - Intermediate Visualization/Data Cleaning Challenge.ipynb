{
 "cells": [
  {
   "cell_type": "code",
   "execution_count": 605,
   "metadata": {},
   "outputs": [],
   "source": [
    "import numpy as np\n",
    "import pandas as pd"
   ]
  },
  {
   "cell_type": "code",
   "execution_count": 606,
   "metadata": {},
   "outputs": [],
   "source": [
    "wellcome = pd.read_csv(\"WELLCOME.csv\", engine='python')"
   ]
  },
  {
   "cell_type": "markdown",
   "metadata": {},
   "source": [
    "First I am changing the column titles to simplify things a bit."
   ]
  },
  {
   "cell_type": "code",
   "execution_count": 607,
   "metadata": {},
   "outputs": [],
   "source": [
    "wellcome.rename(columns={'PMID/PMCID':'ID', \"Journal title\":\"Journal_Title\", \"Article title\":\"Article_Title\", \"COST (�) charged to Wellcome (inc VAT when charged)\":\"Cost ($)\"}, inplace=True)"
   ]
  },
  {
   "cell_type": "markdown",
   "metadata": {},
   "source": [
    "Removing a symbol in the Cost column that python was not understanding:"
   ]
  },
  {
   "cell_type": "code",
   "execution_count": 608,
   "metadata": {},
   "outputs": [],
   "source": [
    "wellcome['Cost ($)'] = wellcome['Cost ($)'].apply(lambda x: str(x).replace('�', ''))"
   ]
  },
  {
   "cell_type": "code",
   "execution_count": 609,
   "metadata": {},
   "outputs": [],
   "source": [
    "#If Journal Title or Cost is missing, I'm dropping that row. This only drops 1 row.\n",
    "wellcome = wellcome.dropna(subset=['Journal_Title', 'Cost ($)'])"
   ]
  },
  {
   "cell_type": "code",
   "execution_count": 610,
   "metadata": {},
   "outputs": [],
   "source": [
    "#There was a random $ in the column. Removing it.\n",
    "def money(x):\n",
    "    if '$' in x:\n",
    "        return x.replace('$', '')\n",
    "    else: return x"
   ]
  },
  {
   "cell_type": "code",
   "execution_count": 611,
   "metadata": {},
   "outputs": [],
   "source": [
    "wellcome['Cost ($)'] = wellcome['Cost ($)'].apply(lambda x: money(x))"
   ]
  },
  {
   "cell_type": "code",
   "execution_count": 612,
   "metadata": {},
   "outputs": [],
   "source": [
    "wellcome['Cost ($)'] = wellcome['Cost ($)'].astype(float)"
   ]
  },
  {
   "cell_type": "code",
   "execution_count": 613,
   "metadata": {},
   "outputs": [],
   "source": [
    "#Going all caps for Journal Titles because it was too messy.\n",
    "wellcome['Journal_Title'] = wellcome['Journal_Title'].apply(lambda x: x.upper())"
   ]
  },
  {
   "cell_type": "markdown",
   "metadata": {},
   "source": [
    "Small functions to dedupe the Journal Title column:"
   ]
  },
  {
   "cell_type": "code",
   "execution_count": 646,
   "metadata": {},
   "outputs": [],
   "source": [
    "def is_plos(x):\n",
    "    if 'PLOS' in x or 'PUBLIC LIBRARY' in x:\n",
    "        return 'PLOS'\n",
    "    else: return x\n",
    "\n",
    "def is_jbc(x):\n",
    "    if 'JOURNAL OF BIOLOGICAL' in x or 'J BIOL' in x or 'BIOLOGICAL CHEM' in x or \"BIOLOGICIAL CHEM\" in x:\n",
    "        return \"JOURNAL OF BIOLOGICAL CHEMISTRY\"\n",
    "    else: return x\n",
    "    \n",
    "def is_jmc(x):\n",
    "    if 'JOURNAL OF MEDICINAL' in x or 'J MED CHEM' in x:\n",
    "        return \"JOURNAL OF MEDICINAL CHEMISTRY\"\n",
    "    else: return x\n",
    "    \n",
    "def is_bioethics(x):\n",
    "    if 'WORLD BIO' in x:\n",
    "        return \"BIOETHICS\"\n",
    "    else: return x\n",
    "    \n",
    "def is_nucleic_acid(x):\n",
    "    if 'NUCLEIC ACID' in x:\n",
    "        return \"NUCLEIC ACIDS RESEARCH\"\n",
    "    else: return x\n",
    "    \n",
    "def double_space(x):\n",
    "    if '  ' in x:\n",
    "        return x.replace('  ', ' ')\n",
    "    else: return x\n",
    "\n",
    "def is_bmj(x):\n",
    "    if 'BMJ' in x:\n",
    "        return 'BRITISH MEDICAL JOURNAL'\n",
    "    else: return x\n",
    "\n",
    "def journal_typo(x):\n",
    "    if 'JOUNAL' in x:\n",
    "        return x.replace('JOUNAL', 'JOURNAL')\n",
    "    else: return x\n",
    "    \n",
    "def is_human_gen(x):\n",
    "    if 'HUMAN MOL' in x:\n",
    "        return 'HUMAN MOLECULAR GENETICS'\n",
    "    else: return x\n",
    "    \n",
    "def remove_weird_symbol(x):\n",
    "    if '�' in x:\n",
    "        return x.replace('�', '')\n",
    "    else: return x\n",
    "    \n",
    "def sneaky_ampersands(x):\n",
    "    if '&' in x:\n",
    "        return x.replace('&', 'AND')\n",
    "    else: return x\n",
    "\n",
    "def proceedings(x):\n",
    "    if 'PROCEEDINGS' in x or 'PROC NAT' in x or 'NATIONAL ACADEMY' in x:\n",
    "        return 'PROCEEDINGS OF THE NATIONAL ACADEMY OF SCIENCES'\n",
    "    else: return x\n",
    "    \n",
    "def cell_reports(x):\n",
    "    if 'CELL REPORTS' in x:\n",
    "        return \"CELL REPORTS\"\n",
    "    else: return x\n",
    "\n",
    "def americal(x):\n",
    "    if 'AMERICAL' in x:\n",
    "        return x.replace('AMERICAL', \"AMERICAN\")\n",
    "    else: return x\n",
    "    \n",
    "def chemie(x):\n",
    "    if 'CHEMIE' in x:\n",
    "        return \"ANGEWANDTE CHEMIE INTERNATIONAL EDITION\"\n",
    "    else: return x\n",
    "\n",
    "def clinical(x):\n",
    "    if 'CLINICLA' in x:\n",
    "        return x.replace(\"CLINICLA\", \"CLINICAL\")\n",
    "    else: return x\n",
    "\n",
    "def clinical_infectious_diseases(x):\n",
    "    if 'CLINICAL INFECTIOUS DIS' in x:\n",
    "        return 'CLINICAL INFECTIOUS DISEASES'\n",
    "    else: return x\n",
    "\n",
    "def microbial(x):\n",
    "    if 'MICOBIAL' in x:\n",
    "        return x.replace('MICOBIAL', 'MICROBIAL')\n",
    "    else: return x\n",
    "\n",
    "def behavior(x):\n",
    "    if 'BEHAVIOUR' in x:\n",
    "        return x.replace('BEHAVIOUR', 'BEHAVIOR')\n",
    "    else: return x"
   ]
  },
  {
   "cell_type": "markdown",
   "metadata": {},
   "source": [
    "Executing the above functions on the Journal Title column."
   ]
  },
  {
   "cell_type": "code",
   "execution_count": 647,
   "metadata": {},
   "outputs": [],
   "source": [
    "wellcome['Journal_Title'] = wellcome['Journal_Title'].apply(lambda x: is_plos(x))\n",
    "wellcome['Journal_Title'] = wellcome['Journal_Title'].apply(lambda x: is_jbc(x))\n",
    "wellcome['Journal_Title'] = wellcome['Journal_Title'].apply(lambda x: is_jmc(x))\n",
    "wellcome['Journal_Title'] = wellcome['Journal_Title'].apply(lambda x: is_bioethics(x))\n",
    "wellcome['Journal_Title'] = wellcome['Journal_Title'].apply(lambda x: is_nucleic_acid(x))\n",
    "wellcome['Journal_Title'] = wellcome['Journal_Title'].apply(lambda x: x.strip())\n",
    "wellcome['Journal_Title'] = wellcome['Journal_Title'].apply(lambda x: double_space(x))\n",
    "wellcome['Journal_Title'] = wellcome['Journal_Title'].apply(lambda x: is_bmj(x))\n",
    "wellcome['Journal_Title'] = wellcome['Journal_Title'].apply(lambda x: journal_typo(x))\n",
    "wellcome['Journal_Title'] = wellcome['Journal_Title'].apply(lambda x: is_human_gen(x))\n",
    "wellcome['Journal_Title'] = wellcome['Journal_Title'].apply(lambda x: remove_weird_symbol(x))\n",
    "wellcome['Journal_Title'] = wellcome['Journal_Title'].apply(lambda x: sneaky_ampersands(x))\n",
    "wellcome['Journal_Title'] = wellcome['Journal_Title'].apply(lambda x: proceedings(x))\n",
    "wellcome['Journal_Title'] = wellcome['Journal_Title'].apply(lambda x: cell_reports(x))\n",
    "wellcome['Journal_Title'] = wellcome['Journal_Title'].apply(lambda x: americal(x))\n",
    "wellcome['Journal_Title'] = wellcome['Journal_Title'].apply(lambda x: chemie(x))\n",
    "wellcome['Journal_Title'] = wellcome['Journal_Title'].apply(lambda x: clinical(x))\n",
    "wellcome['Journal_Title'] = wellcome['Journal_Title'].apply(lambda x: clinical_infectious_diseases(x))\n",
    "wellcome['Journal_Title'] = wellcome['Journal_Title'].apply(lambda x: microbial(x))\n",
    "wellcome['Journal_Title'] = wellcome['Journal_Title'].apply(lambda x: behavior(x))"
   ]
  },
  {
   "cell_type": "markdown",
   "metadata": {},
   "source": [
    "Getting the Cost column into float format so that I can calculate things."
   ]
  },
  {
   "cell_type": "code",
   "execution_count": 653,
   "metadata": {},
   "outputs": [
    {
     "data": {
      "text/plain": [
       "PLOS                                                                                         300\n",
       "JOURNAL OF BIOLOGICAL CHEMISTRY                                                               73\n",
       "PROCEEDINGS OF THE NATIONAL ACADEMY OF SCIENCES                                               45\n",
       "NEUROIMAGE                                                                                    29\n",
       "NUCLEIC ACIDS RESEARCH                                                                        29\n",
       "BRITISH MEDICAL JOURNAL                                                                       22\n",
       "HUMAN MOLECULAR GENETICS                                                                      21\n",
       "NATURE COMMUNICATIONS                                                                         19\n",
       "BMC PUBLIC HEALTH                                                                             15\n",
       "MOVEMENT DISORDERS                                                                            15\n",
       "BRAIN                                                                                         14\n",
       "JOURNAL OF MEDICINAL CHEMISTRY                                                                13\n",
       "JOURNAL OF NEUROSCIENCE                                                                       13\n",
       "BIOCHEMICAL JOURNAL                                                                           12\n",
       "BIOETHICS                                                                                     12\n",
       "DEVELOPMENTAL CELL                                                                            12\n",
       "JOURNAL OF GENERAL VIROLOGY                                                                   11\n",
       "CELL REPORTS                                                                                  11\n",
       "CURRENT BIOLOGY                                                                               11\n",
       "MALARIA JOURNAL                                                                               10\n",
       "JOURNAL OF VIROLOGY                                                                            9\n",
       "NEURON                                                                                         9\n",
       "DEVELOPMENT                                                                                    9\n",
       "MOLECULAR MICROBIOLOGY                                                                         8\n",
       "JOURNAL OF CLINICAL ENDOCRINOLOGY AND METABOLISM                                               8\n",
       "NEUROBIOLOGY OF AGING                                                                          8\n",
       "EUROPEAN JOURNAL OF IMMUNOLOGY                                                                 8\n",
       "JOURNAL OF PHYSIOLOGY                                                                          8\n",
       "HEPATOLOGY                                                                                     8\n",
       "JOURNAL OF STRUCTURAL BIOLOGY                                                                  8\n",
       "                                                                                            ... \n",
       "JOURNAL OF NEUROINFLAMMATION                                                                   1\n",
       "EUROPEAN NEUROPSYCHOPHARMACOLOGY                                                               1\n",
       "MOLECULAR MEMBRANE BIOLOGY                                                                     1\n",
       "BRITISH MEDICAL BULLETIN                                                                       1\n",
       "PHILOS TRANS R SOC LONDON B BIOL SCI                                                           1\n",
       "CELL ADHESION AND MIGRATION                                                                    1\n",
       "FRONTIERS IN CONSCIOUSNESS RESEARCH                                                            1\n",
       "INT J EPIDEMIOL                                                                                1\n",
       "THE JOURNAL OF INFECTIOUS DISEASES                                                             1\n",
       "AIDS JOURNAL                                                                                   1\n",
       "ANNALS OF SCIENCE                                                                              1\n",
       "BIOMED CENTRAL                                                                                 1\n",
       "FUNGAL ECOLOGY                                                                                 1\n",
       "NEURODEGENERATIVE DISEASES                                                                     1\n",
       "HEALTH: AN INTERDISCIPLINARY JOURNAL FOR THE SOCIAL STUDY OF HEALTH, ILLNESS AND MEDICINE      1\n",
       "LIPIDS IN HEALTH AND DISEASE                                                                   1\n",
       "RESPIRATION                                                                                    1\n",
       "INTERNATIONAL JOURNAL OF MOLECULAR SCIENCES                                                    1\n",
       "CELL JOURNAL                                                                                   1\n",
       "PUBLIC HEALTH ETHICS                                                                           1\n",
       "TRENDS IN NEUROSCIENCE                                                                         1\n",
       "FRONTIERS IN AUDITORY COGNITIVE NEUROSCIENCE                                                   1\n",
       "JOURNAL OF VISULAIZED EXPERMIMENTS                                                             1\n",
       "HEALTH                                                                                         1\n",
       "CLINICAL PROTEOMICS                                                                            1\n",
       "RSTB 2012.0145                                                                                 1\n",
       "JOURNAL OF MICROBIOLOGY                                                                        1\n",
       "NEUROSCIENCE AND BEHAVIORAL REVIEWS                                                            1\n",
       "EUROPEAN RADIOLOGY                                                                             1\n",
       "EXPERIMENTAL PHYSIOLOGY                                                                        1\n",
       "Name: Journal_Title, Length: 821, dtype: int64"
      ]
     },
     "execution_count": 653,
     "metadata": {},
     "output_type": "execute_result"
    }
   ],
   "source": [
    "wellcome['Journal_Title'].value_counts()"
   ]
  },
  {
   "cell_type": "markdown",
   "metadata": {},
   "source": [
    "I will present my answers in a DataFrame. It includes the Title of the Journals"
   ]
  },
  {
   "cell_type": "code",
   "execution_count": 666,
   "metadata": {},
   "outputs": [
    {
     "ename": "SyntaxError",
     "evalue": "invalid syntax (<ipython-input-666-199750cb4beb>, line 2)",
     "output_type": "error",
     "traceback": [
      "\u001b[0;36m  File \u001b[0;32m\"<ipython-input-666-199750cb4beb>\"\u001b[0;36m, line \u001b[0;32m2\u001b[0m\n\u001b[0;31m    'Journal Title': ['PLOS', 'JOURNAL OF BIOLOGICAL CHEMISTRY', 'PROCEEDINGS OF THE NATIONAL ACADEMY OF SCIENCE', 'NEUROIMAGE', 'NUCLEIC ACIDS RESEARCH'],\u001b[0m\n\u001b[0m                   ^\u001b[0m\n\u001b[0;31mSyntaxError\u001b[0m\u001b[0;31m:\u001b[0m invalid syntax\n"
     ]
    }
   ],
   "source": [
    "answers = {\n",
    "    'Journal Title': ['PLOS', 'JOURNAL OF BIOLOGICAL CHEMISTRY', 'PROCEEDINGS OF THE NATIONAL ACADEMY OF SCIENCE', 'NEUROIMAGE', 'NUCLEIC ACIDS RESEARCH'],\n",
    "    '# of Articles': [300, 73, 45, 29, 29],\n",
    "    'Cost Per Article': [np.mean(wellcome[wellcome['Journal_Title']=='PLOS']['Cost ($)']), np.mean(wellcome[wellcome['Journal_Title']=='JOURNAL OF BIOLOGICAL CHEMISTRY']['Cost ($)']), np.mean(wellcome[wellcome['Journal_Title']=='PROCEEDINGS OF THE NATIONAL ACADEMY OF SCIENCES']['Cost ($)']), np.mean(wellcome[wellcome['Journal_Title']=='NEUROIMAGE']['Cost ($)']), np.mean(wellcome[wellcome['Journal_Title']=='NUCLEIC ACIDS RESEARCH']['Cost ($)'])]\n",
    "    }"
   ]
  },
  {
   "cell_type": "code",
   "execution_count": 664,
   "metadata": {},
   "outputs": [],
   "source": [
    "answers_df = pd.DataFrame(answers)"
   ]
  },
  {
   "cell_type": "code",
   "execution_count": 665,
   "metadata": {},
   "outputs": [
    {
     "data": {
      "text/html": [
       "<div>\n",
       "<style scoped>\n",
       "    .dataframe tbody tr th:only-of-type {\n",
       "        vertical-align: middle;\n",
       "    }\n",
       "\n",
       "    .dataframe tbody tr th {\n",
       "        vertical-align: top;\n",
       "    }\n",
       "\n",
       "    .dataframe thead th {\n",
       "        text-align: right;\n",
       "    }\n",
       "</style>\n",
       "<table border=\"1\" class=\"dataframe\">\n",
       "  <thead>\n",
       "    <tr style=\"text-align: right;\">\n",
       "      <th></th>\n",
       "      <th># of Articles</th>\n",
       "      <th>Cost Per Article</th>\n",
       "      <th>Journal Title</th>\n",
       "    </tr>\n",
       "  </thead>\n",
       "  <tbody>\n",
       "    <tr>\n",
       "      <th>0</th>\n",
       "      <td>300</td>\n",
       "      <td>45035.201767</td>\n",
       "      <td>PLOS</td>\n",
       "    </tr>\n",
       "    <tr>\n",
       "      <th>1</th>\n",
       "      <td>73</td>\n",
       "      <td>28753.658356</td>\n",
       "      <td>JOURNAL OF BIOLOGICAL CHEMISTRY</td>\n",
       "    </tr>\n",
       "    <tr>\n",
       "      <th>2</th>\n",
       "      <td>45</td>\n",
       "      <td>1019.731778</td>\n",
       "      <td>PROCEEDINGS OF THE NATIONAL ACADEMY OF SCIENCE</td>\n",
       "    </tr>\n",
       "    <tr>\n",
       "      <th>3</th>\n",
       "      <td>29</td>\n",
       "      <td>2215.168276</td>\n",
       "      <td>NEUROIMAGE</td>\n",
       "    </tr>\n",
       "    <tr>\n",
       "      <th>4</th>\n",
       "      <td>29</td>\n",
       "      <td>1162.344828</td>\n",
       "      <td>NUCLEIC ACIDS RESEARCH</td>\n",
       "    </tr>\n",
       "  </tbody>\n",
       "</table>\n",
       "</div>"
      ],
      "text/plain": [
       "   # of Articles  Cost Per Article  \\\n",
       "0            300      45035.201767   \n",
       "1             73      28753.658356   \n",
       "2             45       1019.731778   \n",
       "3             29       2215.168276   \n",
       "4             29       1162.344828   \n",
       "\n",
       "                                    Journal Title  \n",
       "0                                            PLOS  \n",
       "1                 JOURNAL OF BIOLOGICAL CHEMISTRY  \n",
       "2  PROCEEDINGS OF THE NATIONAL ACADEMY OF SCIENCE  \n",
       "3                                      NEUROIMAGE  \n",
       "4                          NUCLEIC ACIDS RESEARCH  "
      ]
     },
     "execution_count": 665,
     "metadata": {},
     "output_type": "execute_result"
    }
   ],
   "source": [
    "answers_df"
   ]
  },
  {
   "cell_type": "code",
   "execution_count": null,
   "metadata": {},
   "outputs": [],
   "source": []
  }
 ],
 "metadata": {
  "kernelspec": {
   "display_name": "Python 3",
   "language": "python",
   "name": "python3"
  },
  "language_info": {
   "codemirror_mode": {
    "name": "ipython",
    "version": 3
   },
   "file_extension": ".py",
   "mimetype": "text/x-python",
   "name": "python",
   "nbconvert_exporter": "python",
   "pygments_lexer": "ipython3",
   "version": "3.6.4"
  }
 },
 "nbformat": 4,
 "nbformat_minor": 2
}
