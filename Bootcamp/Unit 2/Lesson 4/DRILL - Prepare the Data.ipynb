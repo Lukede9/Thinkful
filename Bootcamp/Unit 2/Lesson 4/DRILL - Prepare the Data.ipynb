{
 "cells": [
  {
   "cell_type": "code",
   "execution_count": 1,
   "metadata": {},
   "outputs": [],
   "source": [
    "import pandas as pd\n",
    "from matplotlib import pyplot as plt\n",
    "import numpy as np\n",
    "from sklearn import linear_model\n",
    "%matplotlib inline\n",
    "pd.options.display.float_format = '{:.3f}'.format\n",
    "import seaborn as sns\n",
    "\n",
    "import math\n",
    "import statsmodels.formula.api as smf\n",
    "from statsmodels.sandbox.regression.predstd import wls_prediction_std\n",
    "# Suppress annoying harmless error.\n",
    "import warnings\n",
    "warnings.filterwarnings(action=\"ignore\", module=\"scipy\", message=\"^internal gelsd\")"
   ]
  },
  {
   "cell_type": "markdown",
   "metadata": {},
   "source": [
    "### Importing and cleaning 2013 NY Crime Data"
   ]
  },
  {
   "cell_type": "code",
   "execution_count": 2,
   "metadata": {},
   "outputs": [],
   "source": [
    "df1 = pd.read_csv(\"NEW_YORK-Offenses_Known_to_Law_Enforcement_by_City_2013 - 13tbl8ny.csv\", skiprows=3, header=1)"
   ]
  },
  {
   "cell_type": "code",
   "execution_count": 3,
   "metadata": {},
   "outputs": [],
   "source": [
    "ny_data = df1.copy()"
   ]
  },
  {
   "cell_type": "code",
   "execution_count": 4,
   "metadata": {},
   "outputs": [],
   "source": [
    "features = ny_data[['Population', 'Murder and\\nnonnegligent\\nmanslaughter', 'Robbery', 'Property\\ncrime']]"
   ]
  },
  {
   "cell_type": "code",
   "execution_count": 5,
   "metadata": {},
   "outputs": [],
   "source": [
    "features = features.rename(columns={'Murder and\\nnonnegligent\\nmanslaughter' : 'Murder', 'Property\\ncrime' : 'Property_crime'})"
   ]
  },
  {
   "cell_type": "code",
   "execution_count": 6,
   "metadata": {},
   "outputs": [],
   "source": [
    "features = features.dropna()"
   ]
  },
  {
   "cell_type": "code",
   "execution_count": 7,
   "metadata": {},
   "outputs": [],
   "source": [
    "def remove_commas(number):\n",
    "    if ',' in number:\n",
    "        return number.replace(',', '')\n",
    "    else:\n",
    "        return number\n",
    "    \n",
    "def crime_categorical(number):\n",
    "    if number > 0:\n",
    "        return 1 \n",
    "    else:\n",
    "        return 0"
   ]
  },
  {
   "cell_type": "code",
   "execution_count": 8,
   "metadata": {},
   "outputs": [],
   "source": [
    "features['Population'] = features.Population.apply(lambda x: remove_commas(x))\n",
    "features['Robbery'] = features.Robbery.apply(lambda x: remove_commas(x))\n",
    "features['Property_crime'] = features['Property_crime'].apply(lambda x: remove_commas(x))\n",
    "\n",
    "features['Population'] = features.Population.apply(lambda x: float(x))\n",
    "features['Robbery'] = features.Robbery.apply(lambda x: int(x))\n",
    "features['Property_crime'] = features['Property_crime'].apply(lambda x: float(x))\n",
    "\n",
    "features['Robbery'] = features['Robbery'].apply(lambda x: crime_categorical(x))\n",
    "features['Murder'] = features['Murder'].apply(lambda x: crime_categorical(x))"
   ]
  },
  {
   "cell_type": "code",
   "execution_count": 9,
   "metadata": {},
   "outputs": [],
   "source": [
    "features['Population_2'] = features['Population']**2"
   ]
  },
  {
   "cell_type": "code",
   "execution_count": 10,
   "metadata": {},
   "outputs": [],
   "source": [
    "#I checked and found that Population had one huge outlier\n",
    "sorted(features['Population'], reverse=True)\n",
    "\n",
    "features = features.drop([216])"
   ]
  },
  {
   "cell_type": "markdown",
   "metadata": {},
   "source": [
    "### Linearly regressing 2013 NY Crime Data"
   ]
  },
  {
   "cell_type": "code",
   "execution_count": 11,
   "metadata": {},
   "outputs": [
    {
     "name": "stderr",
     "output_type": "stream",
     "text": [
      "/Library/Frameworks/Python.framework/Versions/3.6/lib/python3.6/site-packages/sklearn/linear_model/base.py:509: RuntimeWarning: internal gelsd driver lwork query error, required iwork dimension not returned. This is likely the result of LAPACK bug 0038, fixed in LAPACK 3.2.2 (released July 21, 2010). Falling back to 'gelss' driver.\n",
      "  linalg.lstsq(X, y)\n"
     ]
    },
    {
     "data": {
      "text/plain": [
       "array([ 0.76250721,  0.93768962,  0.30362684,  0.82852638,  0.76061806,\n",
       "        0.79761978,  0.55797031,  0.90258876,  0.84926337, -1.60913897])"
      ]
     },
     "execution_count": 11,
     "metadata": {},
     "output_type": "execute_result"
    }
   ],
   "source": [
    "regr = linear_model.LinearRegression()\n",
    "Y = features['Property_crime'].values.reshape(-1, 1) #I'm interested in knowing the point of this reshape and values\n",
    "X = features[['Population', 'Murder', 'Robbery', 'Population_2']]\n",
    "regr.fit(X, Y)\n",
    "\n",
    "from sklearn.model_selection import cross_val_score\n",
    "cross_val_score(regr, X, Y, cv=10)"
   ]
  },
  {
   "cell_type": "code",
   "execution_count": 12,
   "metadata": {
    "scrolled": true
   },
   "outputs": [
    {
     "name": "stdout",
     "output_type": "stream",
     "text": [
      "\n",
      "Coefficients: \n",
      " [[1.29510791e-02 1.95038659e+02 9.28205977e+01 1.14920523e-07]]\n",
      "\n",
      "Intercept: \n",
      " [-16.81574038]\n",
      "\n",
      "R-squared:\n",
      "0.8444937611172963\n"
     ]
    }
   ],
   "source": [
    "print('\\nCoefficients: \\n', regr.coef_)\n",
    "print('\\nIntercept: \\n', regr.intercept_)\n",
    "print('\\nR-squared:')\n",
    "print(regr.score(X, Y))"
   ]
  },
  {
   "cell_type": "markdown",
   "metadata": {},
   "source": [
    "### Importing and cleaning 2013 IL Crime Data"
   ]
  },
  {
   "cell_type": "code",
   "execution_count": 13,
   "metadata": {},
   "outputs": [],
   "source": [
    "il_data = pd.read_excel('ill_crime.xls', header=1, skiprows=3)"
   ]
  },
  {
   "cell_type": "code",
   "execution_count": 14,
   "metadata": {},
   "outputs": [],
   "source": [
    "features1 = il_data[['Population', 'Murder and\\nnonnegligent\\nmanslaughter', 'Robbery', 'Property\\ncrime']]\n",
    "features1 = features1.rename(columns={'Murder and\\nnonnegligent\\nmanslaughter' : 'Murder', 'Property\\ncrime' : 'Property_crime'})\n",
    "features1['Population_2'] = features1['Population']**2\n",
    "features1 = features1.drop([77])\n",
    "features1 = features1.dropna()\n",
    "\n",
    "features1['Robbery'] = features1['Robbery'].apply(lambda x: crime_categorical(x))\n",
    "features1['Murder'] = features1['Murder'].apply(lambda x: crime_categorical(x))"
   ]
  },
  {
   "cell_type": "markdown",
   "metadata": {},
   "source": [
    "### Linearly regressing 2013 IL Crime Data"
   ]
  },
  {
   "cell_type": "code",
   "execution_count": 15,
   "metadata": {
    "scrolled": true
   },
   "outputs": [
    {
     "data": {
      "text/plain": [
       "array([-0.62871748,  0.8519093 ,  0.69939254,  0.57002607,  0.84191766,\n",
       "        0.68766447,  0.35712053,  0.66510634,  0.68718876,  0.775648  ])"
      ]
     },
     "execution_count": 15,
     "metadata": {},
     "output_type": "execute_result"
    }
   ],
   "source": [
    "regr3 = linear_model.LinearRegression()\n",
    "Y3 = features1['Property_crime'].values.reshape(-1, 1) #I'm interested in knowing the point of this reshape and values\n",
    "X3 = features1[['Population', 'Murder', 'Robbery', 'Population_2']]\n",
    "regr3.fit(X3, Y3)\n",
    "\n",
    "cross_val_score(regr3, X3, Y3, cv=10)"
   ]
  },
  {
   "cell_type": "code",
   "execution_count": 16,
   "metadata": {},
   "outputs": [
    {
     "name": "stdout",
     "output_type": "stream",
     "text": [
      "\n",
      "Coefficients: \n",
      " [[2.00996217e-02 9.42297421e+01 3.54619370e+01 2.23355174e-08]]\n",
      "\n",
      "Intercept: \n",
      " [-37.85989268]\n",
      "\n",
      "R-squared:\n",
      "0.6618732608516583\n"
     ]
    }
   ],
   "source": [
    "print('\\nCoefficients: \\n', regr3.coef_)\n",
    "print('\\nIntercept: \\n', regr3.intercept_)\n",
    "print('\\nR-squared:')\n",
    "print(regr.score(X3, Y3))"
   ]
  },
  {
   "cell_type": "markdown",
   "metadata": {},
   "source": [
    "### P-values and R-squared for 2013 NY Crime Data"
   ]
  },
  {
   "cell_type": "code",
   "execution_count": 17,
   "metadata": {},
   "outputs": [],
   "source": [
    "linear_formula = 'Property_crime ~ Population+Murder+Robbery+Population_2'"
   ]
  },
  {
   "cell_type": "code",
   "execution_count": 18,
   "metadata": {},
   "outputs": [],
   "source": [
    "ny_stats = smf.ols(formula=linear_formula, data=features).fit()"
   ]
  },
  {
   "cell_type": "code",
   "execution_count": 19,
   "metadata": {
    "scrolled": true
   },
   "outputs": [
    {
     "name": "stdout",
     "output_type": "stream",
     "text": [
      "ny_stats.params:\n",
      " Intercept      -16.816\n",
      "Population       0.013\n",
      "Murder         195.039\n",
      "Robbery         92.821\n",
      "Population_2     0.000\n",
      "dtype: float64\n",
      "\n",
      "\n",
      "ny_stats.pvalues:\n",
      " Intercept      0.641\n",
      "Population     0.000\n",
      "Murder         0.011\n",
      "Robbery        0.072\n",
      "Population_2   0.000\n",
      "dtype: float64\n",
      "\n",
      "\n",
      "ny_stats.rsquared:\n",
      " 0.8444937611173492\n"
     ]
    }
   ],
   "source": [
    "print('ny_stats.params:\\n', ny_stats.params)\n",
    "print('\\n')\n",
    "print('ny_stats.pvalues:\\n', ny_stats.pvalues)\n",
    "print('\\n')\n",
    "print('ny_stats.rsquared:\\n', ny_stats.rsquared)"
   ]
  },
  {
   "cell_type": "markdown",
   "metadata": {},
   "source": [
    "The cross validation showed a lot of inconsistency in r squared values for the ny_data.\n",
    "\n",
    "Since Robbery has a pvalue over .05, I would like to re-fit the model without it and see what happens."
   ]
  },
  {
   "cell_type": "code",
   "execution_count": 20,
   "metadata": {},
   "outputs": [
    {
     "data": {
      "text/html": [
       "<div>\n",
       "<style scoped>\n",
       "    .dataframe tbody tr th:only-of-type {\n",
       "        vertical-align: middle;\n",
       "    }\n",
       "\n",
       "    .dataframe tbody tr th {\n",
       "        vertical-align: top;\n",
       "    }\n",
       "\n",
       "    .dataframe thead th {\n",
       "        text-align: right;\n",
       "    }\n",
       "</style>\n",
       "<table border=\"1\" class=\"dataframe\">\n",
       "  <thead>\n",
       "    <tr style=\"text-align: right;\">\n",
       "      <th></th>\n",
       "      <th>0</th>\n",
       "      <th>1</th>\n",
       "    </tr>\n",
       "  </thead>\n",
       "  <tbody>\n",
       "    <tr>\n",
       "      <th>Intercept</th>\n",
       "      <td>-87.663</td>\n",
       "      <td>54.031</td>\n",
       "    </tr>\n",
       "    <tr>\n",
       "      <th>Population</th>\n",
       "      <td>0.009</td>\n",
       "      <td>0.017</td>\n",
       "    </tr>\n",
       "    <tr>\n",
       "      <th>Murder</th>\n",
       "      <td>44.290</td>\n",
       "      <td>345.788</td>\n",
       "    </tr>\n",
       "    <tr>\n",
       "      <th>Robbery</th>\n",
       "      <td>-8.358</td>\n",
       "      <td>193.999</td>\n",
       "    </tr>\n",
       "    <tr>\n",
       "      <th>Population_2</th>\n",
       "      <td>0.000</td>\n",
       "      <td>0.000</td>\n",
       "    </tr>\n",
       "  </tbody>\n",
       "</table>\n",
       "</div>"
      ],
      "text/plain": [
       "                   0       1\n",
       "Intercept    -87.663  54.031\n",
       "Population     0.009   0.017\n",
       "Murder        44.290 345.788\n",
       "Robbery       -8.358 193.999\n",
       "Population_2   0.000   0.000"
      ]
     },
     "execution_count": 20,
     "metadata": {},
     "output_type": "execute_result"
    }
   ],
   "source": [
    "ny_stats.conf_int()"
   ]
  },
  {
   "cell_type": "markdown",
   "metadata": {},
   "source": [
    "### P-values and R-squared for 2013 IL Crime Data"
   ]
  },
  {
   "cell_type": "code",
   "execution_count": 21,
   "metadata": {},
   "outputs": [],
   "source": [
    "il_stats = smf.ols(formula=linear_formula, data=features1).fit()"
   ]
  },
  {
   "cell_type": "code",
   "execution_count": 22,
   "metadata": {
    "scrolled": false
   },
   "outputs": [
    {
     "name": "stdout",
     "output_type": "stream",
     "text": [
      "il_stats.params:\n",
      " Intercept      -37.860\n",
      "Population       0.020\n",
      "Murder          94.230\n",
      "Robbery         35.462\n",
      "Population_2     0.000\n",
      "dtype: float64\n",
      "\n",
      "\n",
      "il_stats.pvalues:\n",
      " Intercept      0.089\n",
      "Population     0.000\n",
      "Murder         0.027\n",
      "Robbery        0.304\n",
      "Population_2   0.058\n",
      "dtype: float64\n",
      "\n",
      "\n",
      "il_stats.rsquared:\n",
      " 0.7269039903025829\n"
     ]
    }
   ],
   "source": [
    "print('il_stats.params:\\n', il_stats.params)\n",
    "print('\\n')\n",
    "print('il_stats.pvalues:\\n', il_stats.pvalues)\n",
    "print('\\n')\n",
    "print('il_stats.rsquared:\\n', il_stats.rsquared)"
   ]
  },
  {
   "cell_type": "markdown",
   "metadata": {},
   "source": [
    "Robbery has to go!"
   ]
  },
  {
   "cell_type": "code",
   "execution_count": 23,
   "metadata": {},
   "outputs": [
    {
     "data": {
      "text/html": [
       "<div>\n",
       "<style scoped>\n",
       "    .dataframe tbody tr th:only-of-type {\n",
       "        vertical-align: middle;\n",
       "    }\n",
       "\n",
       "    .dataframe tbody tr th {\n",
       "        vertical-align: top;\n",
       "    }\n",
       "\n",
       "    .dataframe thead th {\n",
       "        text-align: right;\n",
       "    }\n",
       "</style>\n",
       "<table border=\"1\" class=\"dataframe\">\n",
       "  <thead>\n",
       "    <tr style=\"text-align: right;\">\n",
       "      <th></th>\n",
       "      <th>0</th>\n",
       "      <th>1</th>\n",
       "    </tr>\n",
       "  </thead>\n",
       "  <tbody>\n",
       "    <tr>\n",
       "      <th>Intercept</th>\n",
       "      <td>-81.459</td>\n",
       "      <td>5.739</td>\n",
       "    </tr>\n",
       "    <tr>\n",
       "      <th>Population</th>\n",
       "      <td>0.017</td>\n",
       "      <td>0.023</td>\n",
       "    </tr>\n",
       "    <tr>\n",
       "      <th>Murder</th>\n",
       "      <td>10.821</td>\n",
       "      <td>177.639</td>\n",
       "    </tr>\n",
       "    <tr>\n",
       "      <th>Robbery</th>\n",
       "      <td>-32.278</td>\n",
       "      <td>103.201</td>\n",
       "    </tr>\n",
       "    <tr>\n",
       "      <th>Population_2</th>\n",
       "      <td>-0.000</td>\n",
       "      <td>0.000</td>\n",
       "    </tr>\n",
       "  </tbody>\n",
       "</table>\n",
       "</div>"
      ],
      "text/plain": [
       "                   0       1\n",
       "Intercept    -81.459   5.739\n",
       "Population     0.017   0.023\n",
       "Murder        10.821 177.639\n",
       "Robbery      -32.278 103.201\n",
       "Population_2  -0.000   0.000"
      ]
     },
     "execution_count": 23,
     "metadata": {},
     "output_type": "execute_result"
    }
   ],
   "source": [
    "il_stats.conf_int()"
   ]
  },
  {
   "cell_type": "markdown",
   "metadata": {},
   "source": [
    "### Based on what we've seen, it's worth trying without Robbery"
   ]
  },
  {
   "cell_type": "code",
   "execution_count": 24,
   "metadata": {},
   "outputs": [],
   "source": [
    "linear_formula2 = 'Property_crime ~ Population+Murder+Population_2'"
   ]
  },
  {
   "cell_type": "code",
   "execution_count": 25,
   "metadata": {},
   "outputs": [],
   "source": [
    "ny_stats_2 = smf.ols(formula=linear_formula2, data=features).fit()\n",
    "il_stats_2 = smf.ols(formula=linear_formula2, data=features).fit()"
   ]
  },
  {
   "cell_type": "code",
   "execution_count": 26,
   "metadata": {},
   "outputs": [
    {
     "name": "stdout",
     "output_type": "stream",
     "text": [
      "ny_stats_2.params :  Intercept       18.862\n",
      "Population       0.014\n",
      "Murder         206.933\n",
      "Population_2     0.000\n",
      "dtype: float64\n",
      "\n",
      "\n",
      "ny_stats_2.pvalues :  Intercept      0.533\n",
      "Population     0.000\n",
      "Murder         0.007\n",
      "Population_2   0.000\n",
      "dtype: float64\n",
      "\n",
      "\n",
      "ny_stats_2.rsquared :  0.8430132637316969\n"
     ]
    }
   ],
   "source": [
    "print('ny_stats_2.params : ', ny_stats_2.params)\n",
    "print('\\n')\n",
    "print('ny_stats_2.pvalues : ', ny_stats_2.pvalues)\n",
    "print('\\n')\n",
    "print('ny_stats_2.rsquared : ', ny_stats_2.rsquared)"
   ]
  },
  {
   "cell_type": "code",
   "execution_count": 27,
   "metadata": {},
   "outputs": [
    {
     "name": "stdout",
     "output_type": "stream",
     "text": [
      "il_stats_2.params :  Intercept       18.862\n",
      "Population       0.014\n",
      "Murder         206.933\n",
      "Population_2     0.000\n",
      "dtype: float64\n",
      "\n",
      "\n",
      "il_stats_2.pvalues :  Intercept      0.533\n",
      "Population     0.000\n",
      "Murder         0.007\n",
      "Population_2   0.000\n",
      "dtype: float64\n",
      "\n",
      "\n",
      "il_stats_2.rsquared :  0.8430132637316969\n"
     ]
    }
   ],
   "source": [
    "print('il_stats_2.params : ', il_stats_2.params)\n",
    "print('\\n')\n",
    "print('il_stats_2.pvalues : ', il_stats_2.pvalues)\n",
    "print('\\n')\n",
    "print('il_stats_2.rsquared : ', il_stats_2.rsquared)"
   ]
  },
  {
   "cell_type": "code",
   "execution_count": 28,
   "metadata": {},
   "outputs": [
    {
     "data": {
      "text/plain": [
       "array([ 0.76368486,  0.9336631 ,  0.22428639,  0.82206982,  0.73770406,\n",
       "        0.79540662,  0.5492403 ,  0.90178313,  0.85889336, -1.6219337 ])"
      ]
     },
     "execution_count": 28,
     "metadata": {},
     "output_type": "execute_result"
    }
   ],
   "source": [
    "regr2 = linear_model.LinearRegression()\n",
    "Y = features['Property_crime'].values.reshape(-1, 1)\n",
    "X2 = features[['Population', 'Murder', 'Population_2']]\n",
    "regr2.fit(X2, Y)\n",
    "\n",
    "#cross validation with robbery removed\n",
    "cross_val_score(regr2, X2, Y, cv=10)"
   ]
  },
  {
   "cell_type": "markdown",
   "metadata": {},
   "source": [
    "### I like it better without robbery. Everything seems much cleaner."
   ]
  }
 ],
 "metadata": {
  "kernelspec": {
   "display_name": "Python 3",
   "language": "python",
   "name": "python3"
  },
  "language_info": {
   "codemirror_mode": {
    "name": "ipython",
    "version": 3
   },
   "file_extension": ".py",
   "mimetype": "text/x-python",
   "name": "python",
   "nbconvert_exporter": "python",
   "pygments_lexer": "ipython3",
   "version": "3.6.4"
  }
 },
 "nbformat": 4,
 "nbformat_minor": 2
}
