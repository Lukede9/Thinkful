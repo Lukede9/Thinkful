{
 "cells": [
  {
   "cell_type": "markdown",
   "metadata": {},
   "source": [
    "## Give Me Some Credit: Predicting loan repayment delinquencies"
   ]
  },
  {
   "cell_type": "markdown",
   "metadata": {},
   "source": [
    "### Abstract\n",
    "Can we look at a candidate application and tell if they are going to pay back their loans on time with reasonable accuracy?\n",
    "\n",
    "Yes.\n",
    "\n",
    "### Introduction\n",
    "This dataset comes from a [2011 Kaggle competiton](https://www.kaggle.com/c/GiveMeSomeCredit).\n",
    "\n",
    "Here is the competition overview with one corrected typo:\n",
    "\n",
    "\"Banks play a crucial role in market economies. They decide who can get finance and on what terms and can make or break investment decisions. For markets and society to function, individuals and companies need access to credit. \n",
    "\n",
    "Credit scoring algorithms, which make a guess at the probability of default, are the method banks use to determine whether or not a loan should be granted. This competition requires participants to improve on the state of the art in credit scoring, by predicting the probability that somebody will experience financial distress in the next two years.\n",
    "\n",
    "The goal of this competition is to build a model that (lenders) can use to help make the best financial decisions.\"\n",
    "\n",
    "Top scores on the leaderboard were roughly .86."
   ]
  },
  {
   "cell_type": "code",
   "execution_count": 1,
   "metadata": {},
   "outputs": [],
   "source": [
    "# Imports\n",
    "import numpy as np\n",
    "import pandas as pd\n",
    "import matplotlib.pyplot as plt\n",
    "import seaborn as sns\n",
    "import sklearn\n",
    "\n",
    "from sklearn.model_selection import train_test_split\n",
    "\n",
    "# Models\n",
    "from sklearn import ensemble\n",
    "from sklearn.neighbors import KNeighborsClassifier\n",
    "from sklearn.svm import SVC\n",
    "from sklearn import tree\n",
    "from sklearn.linear_model import LogisticRegression\n",
    "\n",
    "# The PipeLine\n",
    "from sklearn.pipeline import Pipeline\n",
    "from sklearn.impute import SimpleImputer\n",
    "from sklearn.preprocessing import MinMaxScaler\n",
    "\n",
    "import scipy.stats as stats\n",
    "\n",
    "%matplotlib inline"
   ]
  },
  {
   "cell_type": "code",
   "execution_count": 2,
   "metadata": {},
   "outputs": [],
   "source": [
    "# Competiton training dataset and outcome variable\n",
    "credit = pd.read_csv('cs-training.csv', index_col=0)\n",
    "delinq = credit.SeriousDlqin2yrs"
   ]
  },
  {
   "cell_type": "markdown",
   "metadata": {},
   "source": [
    "## Brief Data Exploration"
   ]
  },
  {
   "cell_type": "code",
   "execution_count": 3,
   "metadata": {},
   "outputs": [
    {
     "data": {
      "text/html": [
       "<div>\n",
       "<style scoped>\n",
       "    .dataframe tbody tr th:only-of-type {\n",
       "        vertical-align: middle;\n",
       "    }\n",
       "\n",
       "    .dataframe tbody tr th {\n",
       "        vertical-align: top;\n",
       "    }\n",
       "\n",
       "    .dataframe thead th {\n",
       "        text-align: right;\n",
       "    }\n",
       "</style>\n",
       "<table border=\"1\" class=\"dataframe\">\n",
       "  <thead>\n",
       "    <tr style=\"text-align: right;\">\n",
       "      <th></th>\n",
       "      <th>SeriousDlqin2yrs</th>\n",
       "      <th>RevolvingUtilizationOfUnsecuredLines</th>\n",
       "      <th>age</th>\n",
       "      <th>NumberOfTime30-59DaysPastDueNotWorse</th>\n",
       "      <th>DebtRatio</th>\n",
       "      <th>MonthlyIncome</th>\n",
       "      <th>NumberOfOpenCreditLinesAndLoans</th>\n",
       "      <th>NumberOfTimes90DaysLate</th>\n",
       "      <th>NumberRealEstateLoansOrLines</th>\n",
       "      <th>NumberOfTime60-89DaysPastDueNotWorse</th>\n",
       "      <th>NumberOfDependents</th>\n",
       "    </tr>\n",
       "  </thead>\n",
       "  <tbody>\n",
       "    <tr>\n",
       "      <th>1</th>\n",
       "      <td>1</td>\n",
       "      <td>0.766127</td>\n",
       "      <td>45</td>\n",
       "      <td>2</td>\n",
       "      <td>0.802982</td>\n",
       "      <td>9120.0</td>\n",
       "      <td>13</td>\n",
       "      <td>0</td>\n",
       "      <td>6</td>\n",
       "      <td>0</td>\n",
       "      <td>2.0</td>\n",
       "    </tr>\n",
       "    <tr>\n",
       "      <th>2</th>\n",
       "      <td>0</td>\n",
       "      <td>0.957151</td>\n",
       "      <td>40</td>\n",
       "      <td>0</td>\n",
       "      <td>0.121876</td>\n",
       "      <td>2600.0</td>\n",
       "      <td>4</td>\n",
       "      <td>0</td>\n",
       "      <td>0</td>\n",
       "      <td>0</td>\n",
       "      <td>1.0</td>\n",
       "    </tr>\n",
       "    <tr>\n",
       "      <th>3</th>\n",
       "      <td>0</td>\n",
       "      <td>0.658180</td>\n",
       "      <td>38</td>\n",
       "      <td>1</td>\n",
       "      <td>0.085113</td>\n",
       "      <td>3042.0</td>\n",
       "      <td>2</td>\n",
       "      <td>1</td>\n",
       "      <td>0</td>\n",
       "      <td>0</td>\n",
       "      <td>0.0</td>\n",
       "    </tr>\n",
       "    <tr>\n",
       "      <th>4</th>\n",
       "      <td>0</td>\n",
       "      <td>0.233810</td>\n",
       "      <td>30</td>\n",
       "      <td>0</td>\n",
       "      <td>0.036050</td>\n",
       "      <td>3300.0</td>\n",
       "      <td>5</td>\n",
       "      <td>0</td>\n",
       "      <td>0</td>\n",
       "      <td>0</td>\n",
       "      <td>0.0</td>\n",
       "    </tr>\n",
       "    <tr>\n",
       "      <th>5</th>\n",
       "      <td>0</td>\n",
       "      <td>0.907239</td>\n",
       "      <td>49</td>\n",
       "      <td>1</td>\n",
       "      <td>0.024926</td>\n",
       "      <td>63588.0</td>\n",
       "      <td>7</td>\n",
       "      <td>0</td>\n",
       "      <td>1</td>\n",
       "      <td>0</td>\n",
       "      <td>0.0</td>\n",
       "    </tr>\n",
       "  </tbody>\n",
       "</table>\n",
       "</div>"
      ],
      "text/plain": [
       "   SeriousDlqin2yrs  RevolvingUtilizationOfUnsecuredLines  age  \\\n",
       "1                 1                              0.766127   45   \n",
       "2                 0                              0.957151   40   \n",
       "3                 0                              0.658180   38   \n",
       "4                 0                              0.233810   30   \n",
       "5                 0                              0.907239   49   \n",
       "\n",
       "   NumberOfTime30-59DaysPastDueNotWorse  DebtRatio  MonthlyIncome  \\\n",
       "1                                     2   0.802982         9120.0   \n",
       "2                                     0   0.121876         2600.0   \n",
       "3                                     1   0.085113         3042.0   \n",
       "4                                     0   0.036050         3300.0   \n",
       "5                                     1   0.024926        63588.0   \n",
       "\n",
       "   NumberOfOpenCreditLinesAndLoans  NumberOfTimes90DaysLate  \\\n",
       "1                               13                        0   \n",
       "2                                4                        0   \n",
       "3                                2                        1   \n",
       "4                                5                        0   \n",
       "5                                7                        0   \n",
       "\n",
       "   NumberRealEstateLoansOrLines  NumberOfTime60-89DaysPastDueNotWorse  \\\n",
       "1                             6                                     0   \n",
       "2                             0                                     0   \n",
       "3                             0                                     0   \n",
       "4                             0                                     0   \n",
       "5                             1                                     0   \n",
       "\n",
       "   NumberOfDependents  \n",
       "1                 2.0  \n",
       "2                 1.0  \n",
       "3                 0.0  \n",
       "4                 0.0  \n",
       "5                 0.0  "
      ]
     },
     "execution_count": 3,
     "metadata": {},
     "output_type": "execute_result"
    }
   ],
   "source": [
    "credit.head()"
   ]
  },
  {
   "cell_type": "markdown",
   "metadata": {},
   "source": [
    "It looks very nice. The data is pretty clean and it is all numerical. We have a few different kinds of numerical data, though. There are counts (e.g. \"Number of times 90 days late\"), percentages (e.g. Debt Ratio), and quantities (e.g. \"Monthly Income\")."
   ]
  },
  {
   "cell_type": "code",
   "execution_count": 4,
   "metadata": {},
   "outputs": [
    {
     "data": {
      "text/html": [
       "<div>\n",
       "<style scoped>\n",
       "    .dataframe tbody tr th:only-of-type {\n",
       "        vertical-align: middle;\n",
       "    }\n",
       "\n",
       "    .dataframe tbody tr th {\n",
       "        vertical-align: top;\n",
       "    }\n",
       "\n",
       "    .dataframe thead th {\n",
       "        text-align: right;\n",
       "    }\n",
       "</style>\n",
       "<table border=\"1\" class=\"dataframe\">\n",
       "  <thead>\n",
       "    <tr style=\"text-align: right;\">\n",
       "      <th></th>\n",
       "      <th>SeriousDlqin2yrs</th>\n",
       "      <th>RevolvingUtilizationOfUnsecuredLines</th>\n",
       "      <th>age</th>\n",
       "      <th>NumberOfTime30-59DaysPastDueNotWorse</th>\n",
       "      <th>DebtRatio</th>\n",
       "      <th>MonthlyIncome</th>\n",
       "      <th>NumberOfOpenCreditLinesAndLoans</th>\n",
       "      <th>NumberOfTimes90DaysLate</th>\n",
       "      <th>NumberRealEstateLoansOrLines</th>\n",
       "      <th>NumberOfTime60-89DaysPastDueNotWorse</th>\n",
       "      <th>NumberOfDependents</th>\n",
       "    </tr>\n",
       "  </thead>\n",
       "  <tbody>\n",
       "    <tr>\n",
       "      <th>count</th>\n",
       "      <td>150000.000000</td>\n",
       "      <td>150000.000000</td>\n",
       "      <td>150000.000000</td>\n",
       "      <td>150000.000000</td>\n",
       "      <td>150000.000000</td>\n",
       "      <td>1.202690e+05</td>\n",
       "      <td>150000.000000</td>\n",
       "      <td>150000.000000</td>\n",
       "      <td>150000.000000</td>\n",
       "      <td>150000.000000</td>\n",
       "      <td>146076.000000</td>\n",
       "    </tr>\n",
       "    <tr>\n",
       "      <th>mean</th>\n",
       "      <td>0.066840</td>\n",
       "      <td>6.048438</td>\n",
       "      <td>52.295207</td>\n",
       "      <td>0.421033</td>\n",
       "      <td>353.005076</td>\n",
       "      <td>6.670221e+03</td>\n",
       "      <td>8.452760</td>\n",
       "      <td>0.265973</td>\n",
       "      <td>1.018240</td>\n",
       "      <td>0.240387</td>\n",
       "      <td>0.757222</td>\n",
       "    </tr>\n",
       "    <tr>\n",
       "      <th>std</th>\n",
       "      <td>0.249746</td>\n",
       "      <td>249.755371</td>\n",
       "      <td>14.771866</td>\n",
       "      <td>4.192781</td>\n",
       "      <td>2037.818523</td>\n",
       "      <td>1.438467e+04</td>\n",
       "      <td>5.145951</td>\n",
       "      <td>4.169304</td>\n",
       "      <td>1.129771</td>\n",
       "      <td>4.155179</td>\n",
       "      <td>1.115086</td>\n",
       "    </tr>\n",
       "    <tr>\n",
       "      <th>min</th>\n",
       "      <td>0.000000</td>\n",
       "      <td>0.000000</td>\n",
       "      <td>0.000000</td>\n",
       "      <td>0.000000</td>\n",
       "      <td>0.000000</td>\n",
       "      <td>0.000000e+00</td>\n",
       "      <td>0.000000</td>\n",
       "      <td>0.000000</td>\n",
       "      <td>0.000000</td>\n",
       "      <td>0.000000</td>\n",
       "      <td>0.000000</td>\n",
       "    </tr>\n",
       "    <tr>\n",
       "      <th>25%</th>\n",
       "      <td>0.000000</td>\n",
       "      <td>0.029867</td>\n",
       "      <td>41.000000</td>\n",
       "      <td>0.000000</td>\n",
       "      <td>0.175074</td>\n",
       "      <td>3.400000e+03</td>\n",
       "      <td>5.000000</td>\n",
       "      <td>0.000000</td>\n",
       "      <td>0.000000</td>\n",
       "      <td>0.000000</td>\n",
       "      <td>0.000000</td>\n",
       "    </tr>\n",
       "    <tr>\n",
       "      <th>50%</th>\n",
       "      <td>0.000000</td>\n",
       "      <td>0.154181</td>\n",
       "      <td>52.000000</td>\n",
       "      <td>0.000000</td>\n",
       "      <td>0.366508</td>\n",
       "      <td>5.400000e+03</td>\n",
       "      <td>8.000000</td>\n",
       "      <td>0.000000</td>\n",
       "      <td>1.000000</td>\n",
       "      <td>0.000000</td>\n",
       "      <td>0.000000</td>\n",
       "    </tr>\n",
       "    <tr>\n",
       "      <th>75%</th>\n",
       "      <td>0.000000</td>\n",
       "      <td>0.559046</td>\n",
       "      <td>63.000000</td>\n",
       "      <td>0.000000</td>\n",
       "      <td>0.868254</td>\n",
       "      <td>8.249000e+03</td>\n",
       "      <td>11.000000</td>\n",
       "      <td>0.000000</td>\n",
       "      <td>2.000000</td>\n",
       "      <td>0.000000</td>\n",
       "      <td>1.000000</td>\n",
       "    </tr>\n",
       "    <tr>\n",
       "      <th>max</th>\n",
       "      <td>1.000000</td>\n",
       "      <td>50708.000000</td>\n",
       "      <td>109.000000</td>\n",
       "      <td>98.000000</td>\n",
       "      <td>329664.000000</td>\n",
       "      <td>3.008750e+06</td>\n",
       "      <td>58.000000</td>\n",
       "      <td>98.000000</td>\n",
       "      <td>54.000000</td>\n",
       "      <td>98.000000</td>\n",
       "      <td>20.000000</td>\n",
       "    </tr>\n",
       "  </tbody>\n",
       "</table>\n",
       "</div>"
      ],
      "text/plain": [
       "       SeriousDlqin2yrs  RevolvingUtilizationOfUnsecuredLines            age  \\\n",
       "count     150000.000000                         150000.000000  150000.000000   \n",
       "mean           0.066840                              6.048438      52.295207   \n",
       "std            0.249746                            249.755371      14.771866   \n",
       "min            0.000000                              0.000000       0.000000   \n",
       "25%            0.000000                              0.029867      41.000000   \n",
       "50%            0.000000                              0.154181      52.000000   \n",
       "75%            0.000000                              0.559046      63.000000   \n",
       "max            1.000000                          50708.000000     109.000000   \n",
       "\n",
       "       NumberOfTime30-59DaysPastDueNotWorse      DebtRatio  MonthlyIncome  \\\n",
       "count                         150000.000000  150000.000000   1.202690e+05   \n",
       "mean                               0.421033     353.005076   6.670221e+03   \n",
       "std                                4.192781    2037.818523   1.438467e+04   \n",
       "min                                0.000000       0.000000   0.000000e+00   \n",
       "25%                                0.000000       0.175074   3.400000e+03   \n",
       "50%                                0.000000       0.366508   5.400000e+03   \n",
       "75%                                0.000000       0.868254   8.249000e+03   \n",
       "max                               98.000000  329664.000000   3.008750e+06   \n",
       "\n",
       "       NumberOfOpenCreditLinesAndLoans  NumberOfTimes90DaysLate  \\\n",
       "count                    150000.000000            150000.000000   \n",
       "mean                          8.452760                 0.265973   \n",
       "std                           5.145951                 4.169304   \n",
       "min                           0.000000                 0.000000   \n",
       "25%                           5.000000                 0.000000   \n",
       "50%                           8.000000                 0.000000   \n",
       "75%                          11.000000                 0.000000   \n",
       "max                          58.000000                98.000000   \n",
       "\n",
       "       NumberRealEstateLoansOrLines  NumberOfTime60-89DaysPastDueNotWorse  \\\n",
       "count                 150000.000000                         150000.000000   \n",
       "mean                       1.018240                              0.240387   \n",
       "std                        1.129771                              4.155179   \n",
       "min                        0.000000                              0.000000   \n",
       "25%                        0.000000                              0.000000   \n",
       "50%                        1.000000                              0.000000   \n",
       "75%                        2.000000                              0.000000   \n",
       "max                       54.000000                             98.000000   \n",
       "\n",
       "       NumberOfDependents  \n",
       "count       146076.000000  \n",
       "mean             0.757222  \n",
       "std              1.115086  \n",
       "min              0.000000  \n",
       "25%              0.000000  \n",
       "50%              0.000000  \n",
       "75%              1.000000  \n",
       "max             20.000000  "
      ]
     },
     "execution_count": 4,
     "metadata": {},
     "output_type": "execute_result"
    }
   ],
   "source": [
    "credit.describe()"
   ]
  },
  {
   "cell_type": "markdown",
   "metadata": {},
   "source": [
    "The \"max\" row shows some values that do not even appear to be on the same scale. Look at debt ratio. This is supposed to be a percentage, yet someone has reported a debt ratio of 32,966,400%. I'll have to be wary of outliers."
   ]
  },
  {
   "cell_type": "code",
   "execution_count": 5,
   "metadata": {
    "scrolled": true
   },
   "outputs": [
    {
     "name": "stdout",
     "output_type": "stream",
     "text": [
      "<class 'pandas.core.frame.DataFrame'>\n",
      "Int64Index: 150000 entries, 1 to 150000\n",
      "Data columns (total 11 columns):\n",
      "SeriousDlqin2yrs                        150000 non-null int64\n",
      "RevolvingUtilizationOfUnsecuredLines    150000 non-null float64\n",
      "age                                     150000 non-null int64\n",
      "NumberOfTime30-59DaysPastDueNotWorse    150000 non-null int64\n",
      "DebtRatio                               150000 non-null float64\n",
      "MonthlyIncome                           120269 non-null float64\n",
      "NumberOfOpenCreditLinesAndLoans         150000 non-null int64\n",
      "NumberOfTimes90DaysLate                 150000 non-null int64\n",
      "NumberRealEstateLoansOrLines            150000 non-null int64\n",
      "NumberOfTime60-89DaysPastDueNotWorse    150000 non-null int64\n",
      "NumberOfDependents                      146076 non-null float64\n",
      "dtypes: float64(4), int64(7)\n",
      "memory usage: 13.7 MB\n"
     ]
    }
   ],
   "source": [
    "# What will I do with the nulls?\n",
    "credit.info()"
   ]
  },
  {
   "cell_type": "markdown",
   "metadata": {},
   "source": [
    "Roughly 20% of the people in our dataset did not report a monthly income. Some of those did not report their number of dependents either. I am going to exclude them for now. But I do not think it is wise to give up 20% of our business/data. For this reason, I will try to impute values for these later, when I am testing the model. This will allow me to get instant feedback and know if I am making good decisions for the values I impute."
   ]
  },
  {
   "cell_type": "code",
   "execution_count": 6,
   "metadata": {},
   "outputs": [],
   "source": [
    "credit_dropna = credit.dropna()\n",
    "delinq_dropna = credit_dropna['SeriousDlqin2yrs']"
   ]
  },
  {
   "cell_type": "code",
   "execution_count": 7,
   "metadata": {},
   "outputs": [
    {
     "data": {
      "text/plain": [
       "(120269, 11)"
      ]
     },
     "execution_count": 7,
     "metadata": {},
     "output_type": "execute_result"
    }
   ],
   "source": [
    "credit_dropna.shape"
   ]
  },
  {
   "cell_type": "code",
   "execution_count": 8,
   "metadata": {},
   "outputs": [
    {
     "data": {
      "image/png": "[encoded data removed]",
      "text/plain": [
       "<Figure size 864x864 with 12 Axes>"
      ]
     },
     "metadata": {},
     "output_type": "display_data"
    }
   ],
   "source": [
    "credit_dropna.hist(bins=50, figsize=(12,12))\n",
    "plt.show()"
   ]
  },
  {
   "cell_type": "markdown",
   "metadata": {},
   "source": [
    "The above histogram is just a first peek. From it, we can confirm hat most of our variables are heavily skewed right.\n",
    "\n",
    "From what we can see above, age would be normally distributed but we cannot approve loans for little children. And our view of many of the variables is very hard to make out because of the extreme values present.\n",
    "\n",
    "The variables containing these extreme values include:\n",
    "- Debt Ratio\n",
    "- Monthly Income\n",
    "- Number of times 30-59 days past due not worse\n",
    "- Number of times 60-89 days past due not worse\n",
    "- Number of times 90 days late\n",
    "- Number of real estate loans or lines (although this one is not as extreme)\n",
    "- Revoliving utilization of unsecured lines\n",
    "\n",
    "Because so many of my variables are non-normal, I am already starting to lean towards using a model that does not assume normality of the variables. Transforming these variables to try to make them normal, when they are closer to a poisson distribution would not make much sense and be a lot of work.\n",
    "\n",
    "So, what am I going to do about these outliers? I will deal with them at the same time as I deal with the missing values, at the modeling stage.\n",
    "\n",
    "Our binary outcome variable \"SeriousDlqin2yrs\" is showing some class imbalance. This tells me that a standard cross-validation score will not be sufficient and I will need to use the area under the precision-recall curve to measure success."
   ]
  },
  {
   "cell_type": "code",
   "execution_count": 9,
   "metadata": {},
   "outputs": [],
   "source": [
    "# Putting data into stratified train/test groups\n",
    "X_train_dropna, X_test_dropna, y_train_dropna, y_test_dropna = train_test_split(credit_dropna,\n",
    "                                                    delinq_dropna, \n",
    "                                                    test_size=.2, \n",
    "                                                    stratify=delinq_dropna, \n",
    "                                                    random_state=24\n",
    ")"
   ]
  },
  {
   "cell_type": "markdown",
   "metadata": {},
   "source": [
    "### Baseline of performance\n",
    "At this point, I would like to run the raw data through some models to get a performance baseline. For this, I am simply going to drop all the missing values.\n",
    "\n",
    "The models that I will be testing out are K-Nearest Neighbors, Random Forest, and Gradient Boosting. I chose these because they will still perform with non-normal data.\n",
    "\n",
    "Another thing that I need to take into account is the weight. Presumably, it is worse to let someone take a loan and then have them default than it would be for us to decline someone a loan when they actually would have been good for it. But which is worse: denying two good borrowers or accepting one bad borrower (2:1)? Maybe it's more like 5:4? 20:1? This is important information to optimizing the model.\n",
    "\n",
    "The competition specified that the measure for performance will be area under the curve. This pretty much answers the question of the weighting for me.\n",
    "\n",
    "It is important to identify the true negatives as well as the true positives so my measurement will be the area under the ROC rather than the Precision-Recall curve because that does not take true negatives into account and those true negatives are where we are going to be making our money!"
   ]
  },
  {
   "cell_type": "code",
   "execution_count": 10,
   "metadata": {},
   "outputs": [
    {
     "data": {
      "text/plain": [
       "0    22383\n",
       "1     1671\n",
       "Name: SeriousDlqin2yrs, dtype: int64"
      ]
     },
     "execution_count": 10,
     "metadata": {},
     "output_type": "execute_result"
    }
   ],
   "source": [
    "y_test_dropna.value_counts()"
   ]
  },
  {
   "cell_type": "code",
   "execution_count": 11,
   "metadata": {
    "scrolled": true
   },
   "outputs": [
    {
     "data": {
      "text/plain": [
       "0.5080472717055479"
      ]
     },
     "execution_count": 11,
     "metadata": {},
     "output_type": "execute_result"
    }
   ],
   "source": [
    "wontyoube = KNeighborsClassifier()\n",
    "pre_X = X_train_dropna.drop(columns='SeriousDlqin2yrs')\n",
    "pre_y = y_train_dropna\n",
    "wontyoube.fit(pre_X, pre_y)\n",
    "\n",
    "knn_X_test_dropna_pred = wontyoube.predict(X_test_dropna.drop(columns='SeriousDlqin2yrs'))\n",
    "\n",
    "sklearn.metrics.roc_auc_score(y_test_dropna, knn_X_test_dropna_pred)"
   ]
  },
  {
   "cell_type": "code",
   "execution_count": 12,
   "metadata": {},
   "outputs": [
    {
     "data": {
      "text/plain": [
       "0.9323982324061214"
      ]
     },
     "execution_count": 12,
     "metadata": {},
     "output_type": "execute_result"
    }
   ],
   "source": [
    "randfor = ensemble.RandomForestClassifier(n_estimators=10)\n",
    "randfor.fit(pre_X, pre_y)\n",
    "\n",
    "randfor_X_train_dropna_pred = randfor.predict(pre_X)\n",
    "\n",
    "sklearn.metrics.roc_auc_score(y_train_dropna, randfor_X_train_dropna_pred)"
   ]
  },
  {
   "cell_type": "code",
   "execution_count": 13,
   "metadata": {},
   "outputs": [
    {
     "data": {
      "text/plain": [
       "0.5789923681339655"
      ]
     },
     "execution_count": 13,
     "metadata": {},
     "output_type": "execute_result"
    }
   ],
   "source": [
    "randfor_X_test_dropna_pred = randfor.predict(X_test_dropna.drop(columns='SeriousDlqin2yrs'))\n",
    "\n",
    "sklearn.metrics.roc_auc_score(y_test_dropna, randfor_X_test_dropna_pred)"
   ]
  },
  {
   "cell_type": "markdown",
   "metadata": {},
   "source": [
    "Random Forest overfits a lot."
   ]
  },
  {
   "cell_type": "code",
   "execution_count": 14,
   "metadata": {},
   "outputs": [
    {
     "data": {
      "text/plain": [
       "0.5993879627911614"
      ]
     },
     "execution_count": 14,
     "metadata": {},
     "output_type": "execute_result"
    }
   ],
   "source": [
    "gradboost = ensemble.GradientBoostingClassifier()\n",
    "gradboost.fit(pre_X, pre_y)\n",
    "\n",
    "gradboost_X_train_dropna_pred = gradboost.predict(pre_X)\n",
    "\n",
    "sklearn.metrics.roc_auc_score(y_train_dropna, gradboost_X_train_dropna_pred)"
   ]
  },
  {
   "cell_type": "code",
   "execution_count": 15,
   "metadata": {},
   "outputs": [
    {
     "data": {
      "text/plain": [
       "0.5928282885887926"
      ]
     },
     "execution_count": 15,
     "metadata": {},
     "output_type": "execute_result"
    }
   ],
   "source": [
    "gradboost_X_test_dropna_pred = gradboost.predict(X_test_dropna.drop(columns='SeriousDlqin2yrs'))\n",
    "\n",
    "sklearn.metrics.roc_auc_score(y_test_dropna, gradboost_X_test_dropna_pred)"
   ]
  },
  {
   "cell_type": "markdown",
   "metadata": {},
   "source": [
    "GradientBoosting is slightly more accurate on the test data than Random Forest and does not seem to be overfitting."
   ]
  },
  {
   "cell_type": "code",
   "execution_count": 16,
   "metadata": {},
   "outputs": [
    {
     "data": {
      "text/plain": [
       "0.5078867722369768"
      ]
     },
     "execution_count": 16,
     "metadata": {},
     "output_type": "execute_result"
    }
   ],
   "source": [
    "logreg = LogisticRegression(penalty='l1', solver='liblinear')\n",
    "logreg.fit(pre_X, pre_y)\n",
    "\n",
    "logreg_X_test_dropna_pred = logreg.predict(X_test_dropna.drop(columns='SeriousDlqin2yrs'))\n",
    "\n",
    "sklearn.metrics.roc_auc_score(y_test_dropna, logreg_X_test_dropna_pred)\n",
    "\n",
    "# L2 did slightly worse"
   ]
  },
  {
   "cell_type": "markdown",
   "metadata": {},
   "source": [
    "At a glance, we can see that gradient boosting and random forest seem significantly better for this problem than K-Nearest Neighbors and logistic regression. We now have a baseline performance that we can try to improve upon."
   ]
  },
  {
   "cell_type": "markdown",
   "metadata": {},
   "source": [
    "# Feature Engineering\n",
    "Feature Engineering based on the univariate exploration I have done so far.\n",
    "\n",
    "I will do more Feature Engineering based on Bivariate exploration in a later section."
   ]
  },
  {
   "cell_type": "code",
   "execution_count": 17,
   "metadata": {},
   "outputs": [
    {
     "data": {
      "text/plain": [
       "Index(['SeriousDlqin2yrs', 'RevolvingUtilizationOfUnsecuredLines', 'age',\n",
       "       'NumberOfTime30-59DaysPastDueNotWorse', 'DebtRatio', 'MonthlyIncome',\n",
       "       'NumberOfOpenCreditLinesAndLoans', 'NumberOfTimes90DaysLate',\n",
       "       'NumberRealEstateLoansOrLines', 'NumberOfTime60-89DaysPastDueNotWorse',\n",
       "       'NumberOfDependents'],\n",
       "      dtype='object')"
      ]
     },
     "execution_count": 17,
     "metadata": {},
     "output_type": "execute_result"
    }
   ],
   "source": [
    "credit.columns"
   ]
  },
  {
   "cell_type": "code",
   "execution_count": 18,
   "metadata": {
    "scrolled": true
   },
   "outputs": [
    {
     "data": {
      "text/html": [
       "<div>\n",
       "<style scoped>\n",
       "    .dataframe tbody tr th:only-of-type {\n",
       "        vertical-align: middle;\n",
       "    }\n",
       "\n",
       "    .dataframe tbody tr th {\n",
       "        vertical-align: top;\n",
       "    }\n",
       "\n",
       "    .dataframe thead th {\n",
       "        text-align: right;\n",
       "    }\n",
       "</style>\n",
       "<table border=\"1\" class=\"dataframe\">\n",
       "  <thead>\n",
       "    <tr style=\"text-align: right;\">\n",
       "      <th></th>\n",
       "      <th>SeriousDlqin2yrs</th>\n",
       "      <th>RevolvingUtilizationOfUnsecuredLines</th>\n",
       "      <th>age</th>\n",
       "      <th>NumberOfTime30-59DaysPastDueNotWorse</th>\n",
       "      <th>DebtRatio</th>\n",
       "      <th>MonthlyIncome</th>\n",
       "      <th>NumberOfOpenCreditLinesAndLoans</th>\n",
       "      <th>NumberOfTimes90DaysLate</th>\n",
       "      <th>NumberRealEstateLoansOrLines</th>\n",
       "      <th>NumberOfTime60-89DaysPastDueNotWorse</th>\n",
       "      <th>NumberOfDependents</th>\n",
       "    </tr>\n",
       "  </thead>\n",
       "  <tbody>\n",
       "    <tr>\n",
       "      <th>count</th>\n",
       "      <td>150000.000000</td>\n",
       "      <td>150000.000000</td>\n",
       "      <td>150000.000000</td>\n",
       "      <td>150000.000000</td>\n",
       "      <td>150000.000000</td>\n",
       "      <td>1.202690e+05</td>\n",
       "      <td>150000.000000</td>\n",
       "      <td>150000.000000</td>\n",
       "      <td>150000.000000</td>\n",
       "      <td>150000.000000</td>\n",
       "      <td>146076.000000</td>\n",
       "    </tr>\n",
       "    <tr>\n",
       "      <th>mean</th>\n",
       "      <td>0.066840</td>\n",
       "      <td>6.048438</td>\n",
       "      <td>52.295207</td>\n",
       "      <td>0.421033</td>\n",
       "      <td>353.005076</td>\n",
       "      <td>6.670221e+03</td>\n",
       "      <td>8.452760</td>\n",
       "      <td>0.265973</td>\n",
       "      <td>1.018240</td>\n",
       "      <td>0.240387</td>\n",
       "      <td>0.757222</td>\n",
       "    </tr>\n",
       "    <tr>\n",
       "      <th>std</th>\n",
       "      <td>0.249746</td>\n",
       "      <td>249.755371</td>\n",
       "      <td>14.771866</td>\n",
       "      <td>4.192781</td>\n",
       "      <td>2037.818523</td>\n",
       "      <td>1.438467e+04</td>\n",
       "      <td>5.145951</td>\n",
       "      <td>4.169304</td>\n",
       "      <td>1.129771</td>\n",
       "      <td>4.155179</td>\n",
       "      <td>1.115086</td>\n",
       "    </tr>\n",
       "    <tr>\n",
       "      <th>min</th>\n",
       "      <td>0.000000</td>\n",
       "      <td>0.000000</td>\n",
       "      <td>0.000000</td>\n",
       "      <td>0.000000</td>\n",
       "      <td>0.000000</td>\n",
       "      <td>0.000000e+00</td>\n",
       "      <td>0.000000</td>\n",
       "      <td>0.000000</td>\n",
       "      <td>0.000000</td>\n",
       "      <td>0.000000</td>\n",
       "      <td>0.000000</td>\n",
       "    </tr>\n",
       "    <tr>\n",
       "      <th>25%</th>\n",
       "      <td>0.000000</td>\n",
       "      <td>0.029867</td>\n",
       "      <td>41.000000</td>\n",
       "      <td>0.000000</td>\n",
       "      <td>0.175074</td>\n",
       "      <td>3.400000e+03</td>\n",
       "      <td>5.000000</td>\n",
       "      <td>0.000000</td>\n",
       "      <td>0.000000</td>\n",
       "      <td>0.000000</td>\n",
       "      <td>0.000000</td>\n",
       "    </tr>\n",
       "    <tr>\n",
       "      <th>50%</th>\n",
       "      <td>0.000000</td>\n",
       "      <td>0.154181</td>\n",
       "      <td>52.000000</td>\n",
       "      <td>0.000000</td>\n",
       "      <td>0.366508</td>\n",
       "      <td>5.400000e+03</td>\n",
       "      <td>8.000000</td>\n",
       "      <td>0.000000</td>\n",
       "      <td>1.000000</td>\n",
       "      <td>0.000000</td>\n",
       "      <td>0.000000</td>\n",
       "    </tr>\n",
       "    <tr>\n",
       "      <th>75%</th>\n",
       "      <td>0.000000</td>\n",
       "      <td>0.559046</td>\n",
       "      <td>63.000000</td>\n",
       "      <td>0.000000</td>\n",
       "      <td>0.868254</td>\n",
       "      <td>8.249000e+03</td>\n",
       "      <td>11.000000</td>\n",
       "      <td>0.000000</td>\n",
       "      <td>2.000000</td>\n",
       "      <td>0.000000</td>\n",
       "      <td>1.000000</td>\n",
       "    </tr>\n",
       "    <tr>\n",
       "      <th>max</th>\n",
       "      <td>1.000000</td>\n",
       "      <td>50708.000000</td>\n",
       "      <td>109.000000</td>\n",
       "      <td>98.000000</td>\n",
       "      <td>329664.000000</td>\n",
       "      <td>3.008750e+06</td>\n",
       "      <td>58.000000</td>\n",
       "      <td>98.000000</td>\n",
       "      <td>54.000000</td>\n",
       "      <td>98.000000</td>\n",
       "      <td>20.000000</td>\n",
       "    </tr>\n",
       "  </tbody>\n",
       "</table>\n",
       "</div>"
      ],
      "text/plain": [
       "       SeriousDlqin2yrs  RevolvingUtilizationOfUnsecuredLines            age  \\\n",
       "count     150000.000000                         150000.000000  150000.000000   \n",
       "mean           0.066840                              6.048438      52.295207   \n",
       "std            0.249746                            249.755371      14.771866   \n",
       "min            0.000000                              0.000000       0.000000   \n",
       "25%            0.000000                              0.029867      41.000000   \n",
       "50%            0.000000                              0.154181      52.000000   \n",
       "75%            0.000000                              0.559046      63.000000   \n",
       "max            1.000000                          50708.000000     109.000000   \n",
       "\n",
       "       NumberOfTime30-59DaysPastDueNotWorse      DebtRatio  MonthlyIncome  \\\n",
       "count                         150000.000000  150000.000000   1.202690e+05   \n",
       "mean                               0.421033     353.005076   6.670221e+03   \n",
       "std                                4.192781    2037.818523   1.438467e+04   \n",
       "min                                0.000000       0.000000   0.000000e+00   \n",
       "25%                                0.000000       0.175074   3.400000e+03   \n",
       "50%                                0.000000       0.366508   5.400000e+03   \n",
       "75%                                0.000000       0.868254   8.249000e+03   \n",
       "max                               98.000000  329664.000000   3.008750e+06   \n",
       "\n",
       "       NumberOfOpenCreditLinesAndLoans  NumberOfTimes90DaysLate  \\\n",
       "count                    150000.000000            150000.000000   \n",
       "mean                          8.452760                 0.265973   \n",
       "std                           5.145951                 4.169304   \n",
       "min                           0.000000                 0.000000   \n",
       "25%                           5.000000                 0.000000   \n",
       "50%                           8.000000                 0.000000   \n",
       "75%                          11.000000                 0.000000   \n",
       "max                          58.000000                98.000000   \n",
       "\n",
       "       NumberRealEstateLoansOrLines  NumberOfTime60-89DaysPastDueNotWorse  \\\n",
       "count                 150000.000000                         150000.000000   \n",
       "mean                       1.018240                              0.240387   \n",
       "std                        1.129771                              4.155179   \n",
       "min                        0.000000                              0.000000   \n",
       "25%                        0.000000                              0.000000   \n",
       "50%                        1.000000                              0.000000   \n",
       "75%                        2.000000                              0.000000   \n",
       "max                       54.000000                             98.000000   \n",
       "\n",
       "       NumberOfDependents  \n",
       "count       146076.000000  \n",
       "mean             0.757222  \n",
       "std              1.115086  \n",
       "min              0.000000  \n",
       "25%              0.000000  \n",
       "50%              0.000000  \n",
       "75%              1.000000  \n",
       "max             20.000000  "
      ]
     },
     "execution_count": 18,
     "metadata": {},
     "output_type": "execute_result"
    }
   ],
   "source": [
    "credit.describe()"
   ]
  },
  {
   "cell_type": "code",
   "execution_count": 19,
   "metadata": {},
   "outputs": [],
   "source": [
    "# Functions for creating categorical variables\n",
    "def late_cat(times_late):\n",
    "    \"\"\"Takes count of times_late, returns one of four categories\"\"\"\n",
    "    if times_late == 0:\n",
    "        return \"0\"\n",
    "    elif times_late < 6:\n",
    "        return \"1-5\"\n",
    "    elif times_late < 20:\n",
    "        return \"6-19\"\n",
    "    else:\n",
    "        return \"> 19\"\n",
    "    \n",
    "def debt_cat(debtratio):\n",
    "    if debtratio == 0:\n",
    "        return \"0\"\n",
    "    elif debtratio < .4:\n",
    "        return \"< .4\"\n",
    "    elif debtratio < 1:\n",
    "        return \".4-1\"\n",
    "    elif debtratio < 5:\n",
    "        return \"1-5\"\n",
    "    elif debtratio < 40:\n",
    "        return \"5-40\"\n",
    "    else:\n",
    "        return \"> 40\"\n",
    "    \n",
    "def income_cat(monthlyincome):\n",
    "    if monthlyincome < 600:\n",
    "        return \"< 600\"\n",
    "    elif monthlyincome < 1200:\n",
    "        return \"600-1200\"\n",
    "    elif monthlyincome < 1800:\n",
    "        return \"1200-1800\"\n",
    "    elif monthlyincome < 3000:\n",
    "        return \"1800-3000\"\n",
    "    elif monthlyincome < 4800:\n",
    "        return \"3000-4800\"\n",
    "    elif monthlyincome < 6600:\n",
    "        return \"4800-6600\"\n",
    "    elif monthlyincome < 10000:\n",
    "        return \"6600-10000\"\n",
    "    else:\n",
    "        return \"> 10000\"\n",
    "    \n",
    "def revolving_cat(revolvinguse):\n",
    "    if revolvinguse == 0:\n",
    "        return \"0\"\n",
    "    elif revolvinguse < .4:\n",
    "        return \"< .4\"\n",
    "    elif revolvinguse < 1:\n",
    "        return \".4-1\"\n",
    "    elif revolvinguse < 5:\n",
    "        return \"1-5\"\n",
    "    elif revolvinguse < 40:\n",
    "        return \"5-40\"\n",
    "    else:\n",
    "        return \"> 40\"    \n",
    "    \n",
    "def lines_cat(linesandloans):\n",
    "    if linesandloans == 0:\n",
    "        return \"0\"\n",
    "    elif linesandloans < 4:\n",
    "        return \"1-3\"\n",
    "    elif linesandloans < 10:\n",
    "        return \"4-9\"\n",
    "    elif linesandloans < 18:\n",
    "        return \"10-17\"\n",
    "    else:\n",
    "        return \"> 17\"\n",
    "    \n",
    "def real_estate_cat(realestateloans):\n",
    "    if realestateloans == 0:\n",
    "        return \"0\"\n",
    "    elif realestateloans < 4:\n",
    "        return \"1-3\"\n",
    "    elif realestateloans < 10:\n",
    "        return \"4-9\"\n",
    "    elif realestateloans < 18:\n",
    "        return \"10-17\"\n",
    "    else:\n",
    "        return \"> 17\"\n",
    "    \n",
    "def age_cat(age):\n",
    "    if age < 20:\n",
    "        return \"< 24\"\n",
    "    elif age < 30:\n",
    "        return \"< 30\"\n",
    "    elif age < 40:\n",
    "        return \"30-39\"\n",
    "    elif age < 50:\n",
    "        return \"40-49\"\n",
    "    elif age < 60:\n",
    "        return \"50-59\"\n",
    "    elif age < 70:\n",
    "        return \"60-69\"\n",
    "    elif age < 80:\n",
    "        return \"80-89\"\n",
    "    else:\n",
    "        return \"> 89\"\n",
    "    \n",
    "def dependents_cat(dependents):\n",
    "    if dependents == 0:\n",
    "        return \"0\"\n",
    "    elif dependents == 1:\n",
    "        return \"1\"\n",
    "    elif dependents < 5:\n",
    "        return \"2-4\"\n",
    "    elif dependents < 8:\n",
    "        return \"5-7\"\n",
    "    elif dependents < 12:\n",
    "        return \"8-11\"\n",
    "    else:\n",
    "        return \"> 11\"\n",
    "    "
   ]
  },
  {
   "cell_type": "markdown",
   "metadata": {},
   "source": [
    "I have now created functions for making the variables into categorical ones. I will explore the different categories next."
   ]
  },
  {
   "cell_type": "code",
   "execution_count": 20,
   "metadata": {},
   "outputs": [],
   "source": [
    "# Winsorize\n",
    "def winsorize(number, cutoff):\n",
    "    if number > cutoff:\n",
    "        return cutoff\n",
    "    else:\n",
    "        return number\n",
    "\n",
    "# Impute monthly income to $3400\n",
    "income_imputer3400 = SimpleImputer(strategy='constant', fill_value=3400.0)\n",
    "\n",
    "# Impute number of dependents to mean\n",
    "dependent_imputer_mean = SimpleImputer()\n",
    "\n",
    "# Min/Max Scaler\n",
    "scaler = MinMaxScaler()"
   ]
  },
  {
   "cell_type": "code",
   "execution_count": 21,
   "metadata": {},
   "outputs": [],
   "source": [
    "def lateness_df(df, col_list=['NumberOfTime30-59DaysPastDueNotWorse',\n",
    "                              'NumberOfTime60-89DaysPastDueNotWorse',\n",
    "                              'NumberOfTimes90DaysLate']):\n",
    "    \"\"\"Takes DataFrame, returns w/ categorical lateness columns\"\"\"\n",
    "    for col in col_list:\n",
    "        df[col] = df[col].apply(lambda x: lateness(x))\n",
    "    return df\n",
    "\n",
    "def winsorized_df(df, cutoff_list):\n",
    "    \"\"\"Takes DataFrame, returns w/ cutoff_list columns winsorized\"\"\"\n",
    "    for col, cutoff in cutoff_list:\n",
    "        df[col] = df[col].apply(lambda x: winsorize(x, cutoff))\n",
    "    return df\n",
    "\n",
    "def imputed_df(df, col='MonthlyIncome'):\n",
    "    \"\"\"Takes DataFrame, returns DataFrame w/ MonthlyIncome imputed to fill_val\"\"\"\n",
    "    df[col] = income_imputer3400.fit_transform(df[col].values.reshape(-1, 1))\n",
    "    return df\n",
    "\n",
    "def imputed_dependents_df(df, col='NumberOfDependents'):\n",
    "    \"\"\"Takes DataFrame, returns DataFrame w/ NumberOfDependents nulls imputed to mean\"\"\"\n",
    "    df[col] = SimpleImputer().fit_transform(df[col].values.reshape(-1, 1))\n",
    "    return df\n",
    "    \n",
    "def min_max_df(df):\n",
    "    \"\"\"Takes DataFrame, returns min/max scaled DataFrame\"\"\"\n",
    "    df[df.columns] = scaler.fit_transform(df[df.columns])\n",
    "    return df"
   ]
  },
  {
   "cell_type": "code",
   "execution_count": 22,
   "metadata": {},
   "outputs": [],
   "source": [
    "winsorize_cutoffs = [('DebtRatio', 100), \n",
    "                     ('MonthlyIncome', 20000),\n",
    "                     ('RevolvingUtilizationOfUnsecuredLines', 1)]\n",
    "\n",
    "lateness_cutoffs = [('NumberOfTime30-59DaysPastDueNotWorse', 10),\n",
    "                    ('NumberOfTime60-89DaysPastDueNotWorse', 10),\n",
    "                    ('NumberOfTimes90DaysLate', 10)]"
   ]
  },
  {
   "cell_type": "code",
   "execution_count": 23,
   "metadata": {},
   "outputs": [],
   "source": [
    "# Re-usable functions to create various DataFrames for model testing.\n",
    "\n",
    "def impute_scale(df):\n",
    "    \"\"\"Takes df, returns df with imputed nulls and min/max scaled\"\"\"\n",
    "    df = imputed_df(df)\n",
    "    df = imputed_dependents_df(df)\n",
    "    df = min_max_df(df)\n",
    "    return(df)\n",
    "\n",
    "def impute_win_scale(df):\n",
    "    \"\"\"Takes df, imputes nulls, winsorizes outliers, min/max scales\"\"\"\n",
    "    df = imputed_df(df)\n",
    "    df = imputed_dependents_df(df)\n",
    "    df = winsorized_df(df, winsorize_cutoffs)\n",
    "    df = min_max_df(df)\n",
    "    return df\n",
    "\n"
   ]
  },
  {
   "cell_type": "markdown",
   "metadata": {},
   "source": [
    "# Model Testing with Univariate Feature Engineering"
   ]
  },
  {
   "cell_type": "code",
   "execution_count": 24,
   "metadata": {},
   "outputs": [],
   "source": [
    "uni = credit.copy()"
   ]
  },
  {
   "cell_type": "code",
   "execution_count": 25,
   "metadata": {},
   "outputs": [
    {
     "name": "stderr",
     "output_type": "stream",
     "text": [
      "/Library/Frameworks/Python.framework/Versions/3.6/lib/python3.6/site-packages/sklearn/preprocessing/data.py:323: DataConversionWarning: Data with input dtype int64, float64 were all converted to float64 by MinMaxScaler.\n",
      "  return self.partial_fit(X, y)\n"
     ]
    }
   ],
   "source": [
    "# Original data with imputed nulls and scaled\n",
    "uni_impute_scale = impute_scale(uni)\n",
    "\n",
    "# Original data with imputed nulls, winsorized, and scaled\n",
    "uni_impute_win_scale = impute_win_scale(uni)"
   ]
  },
  {
   "cell_type": "code",
   "execution_count": 26,
   "metadata": {},
   "outputs": [],
   "source": [
    "# Putting data into stratified train/test groups\n",
    "uniX_train, uniX_test, uniy_train, uniy_test = train_test_split(uni_impute_scale,\n",
    "                                                    delinq, \n",
    "                                                    test_size=.2, \n",
    "                                                    stratify=delinq, \n",
    "                                                    random_state=24\n",
    ")\n",
    "\n",
    "uni_features = uniX_train.copy()\n",
    "uni_features = uni_features.drop(columns='SeriousDlqin2yrs')"
   ]
  },
  {
   "cell_type": "code",
   "execution_count": 27,
   "metadata": {},
   "outputs": [
    {
     "data": {
      "text/html": [
       "<div>\n",
       "<style scoped>\n",
       "    .dataframe tbody tr th:only-of-type {\n",
       "        vertical-align: middle;\n",
       "    }\n",
       "\n",
       "    .dataframe tbody tr th {\n",
       "        vertical-align: top;\n",
       "    }\n",
       "\n",
       "    .dataframe thead th {\n",
       "        text-align: right;\n",
       "    }\n",
       "</style>\n",
       "<table border=\"1\" class=\"dataframe\">\n",
       "  <thead>\n",
       "    <tr style=\"text-align: right;\">\n",
       "      <th></th>\n",
       "      <th>SeriousDlqin2yrs</th>\n",
       "      <th>RevolvingUtilizationOfUnsecuredLines</th>\n",
       "      <th>age</th>\n",
       "      <th>NumberOfTime30-59DaysPastDueNotWorse</th>\n",
       "      <th>DebtRatio</th>\n",
       "      <th>MonthlyIncome</th>\n",
       "      <th>NumberOfOpenCreditLinesAndLoans</th>\n",
       "      <th>NumberOfTimes90DaysLate</th>\n",
       "      <th>NumberRealEstateLoansOrLines</th>\n",
       "      <th>NumberOfTime60-89DaysPastDueNotWorse</th>\n",
       "      <th>NumberOfDependents</th>\n",
       "    </tr>\n",
       "  </thead>\n",
       "  <tbody>\n",
       "    <tr>\n",
       "      <th>20615</th>\n",
       "      <td>0.0</td>\n",
       "      <td>0.000000e+00</td>\n",
       "      <td>0.743119</td>\n",
       "      <td>0.0</td>\n",
       "      <td>0.000000</td>\n",
       "      <td>0.001130</td>\n",
       "      <td>0.017241</td>\n",
       "      <td>0.0</td>\n",
       "      <td>0.000000</td>\n",
       "      <td>0.000000</td>\n",
       "      <td>0.000000</td>\n",
       "    </tr>\n",
       "    <tr>\n",
       "      <th>49850</th>\n",
       "      <td>0.0</td>\n",
       "      <td>3.320241e-06</td>\n",
       "      <td>0.605505</td>\n",
       "      <td>0.0</td>\n",
       "      <td>0.000085</td>\n",
       "      <td>0.001130</td>\n",
       "      <td>0.086207</td>\n",
       "      <td>0.0</td>\n",
       "      <td>0.000000</td>\n",
       "      <td>0.000000</td>\n",
       "      <td>0.037861</td>\n",
       "    </tr>\n",
       "    <tr>\n",
       "      <th>14721</th>\n",
       "      <td>0.0</td>\n",
       "      <td>2.441152e-07</td>\n",
       "      <td>0.532110</td>\n",
       "      <td>0.0</td>\n",
       "      <td>0.002797</td>\n",
       "      <td>0.001130</td>\n",
       "      <td>0.051724</td>\n",
       "      <td>0.0</td>\n",
       "      <td>0.018519</td>\n",
       "      <td>0.000000</td>\n",
       "      <td>0.037861</td>\n",
       "    </tr>\n",
       "    <tr>\n",
       "      <th>23443</th>\n",
       "      <td>0.0</td>\n",
       "      <td>7.533155e-06</td>\n",
       "      <td>0.422018</td>\n",
       "      <td>0.0</td>\n",
       "      <td>0.000002</td>\n",
       "      <td>0.000997</td>\n",
       "      <td>0.120690</td>\n",
       "      <td>0.0</td>\n",
       "      <td>0.018519</td>\n",
       "      <td>0.000000</td>\n",
       "      <td>0.000000</td>\n",
       "    </tr>\n",
       "    <tr>\n",
       "      <th>53360</th>\n",
       "      <td>0.0</td>\n",
       "      <td>9.397297e-06</td>\n",
       "      <td>0.559633</td>\n",
       "      <td>0.0</td>\n",
       "      <td>0.000001</td>\n",
       "      <td>0.002216</td>\n",
       "      <td>0.206897</td>\n",
       "      <td>0.0</td>\n",
       "      <td>0.037037</td>\n",
       "      <td>0.010204</td>\n",
       "      <td>0.000000</td>\n",
       "    </tr>\n",
       "  </tbody>\n",
       "</table>\n",
       "</div>"
      ],
      "text/plain": [
       "       SeriousDlqin2yrs  RevolvingUtilizationOfUnsecuredLines       age  \\\n",
       "20615               0.0                          0.000000e+00  0.743119   \n",
       "49850               0.0                          3.320241e-06  0.605505   \n",
       "14721               0.0                          2.441152e-07  0.532110   \n",
       "23443               0.0                          7.533155e-06  0.422018   \n",
       "53360               0.0                          9.397297e-06  0.559633   \n",
       "\n",
       "       NumberOfTime30-59DaysPastDueNotWorse  DebtRatio  MonthlyIncome  \\\n",
       "20615                                   0.0   0.000000       0.001130   \n",
       "49850                                   0.0   0.000085       0.001130   \n",
       "14721                                   0.0   0.002797       0.001130   \n",
       "23443                                   0.0   0.000002       0.000997   \n",
       "53360                                   0.0   0.000001       0.002216   \n",
       "\n",
       "       NumberOfOpenCreditLinesAndLoans  NumberOfTimes90DaysLate  \\\n",
       "20615                         0.017241                      0.0   \n",
       "49850                         0.086207                      0.0   \n",
       "14721                         0.051724                      0.0   \n",
       "23443                         0.120690                      0.0   \n",
       "53360                         0.206897                      0.0   \n",
       "\n",
       "       NumberRealEstateLoansOrLines  NumberOfTime60-89DaysPastDueNotWorse  \\\n",
       "20615                      0.000000                              0.000000   \n",
       "49850                      0.000000                              0.000000   \n",
       "14721                      0.018519                              0.000000   \n",
       "23443                      0.018519                              0.000000   \n",
       "53360                      0.037037                              0.010204   \n",
       "\n",
       "       NumberOfDependents  \n",
       "20615            0.000000  \n",
       "49850            0.037861  \n",
       "14721            0.037861  \n",
       "23443            0.000000  \n",
       "53360            0.000000  "
      ]
     },
     "execution_count": 27,
     "metadata": {},
     "output_type": "execute_result"
    }
   ],
   "source": [
    "uniX_test.head()"
   ]
  },
  {
   "cell_type": "code",
   "execution_count": 28,
   "metadata": {},
   "outputs": [
    {
     "data": {
      "text/plain": [
       "0.5"
      ]
     },
     "execution_count": 28,
     "metadata": {},
     "output_type": "execute_result"
    }
   ],
   "source": [
    "# This is a test of random forest on the data with nulls imputed and variables scaled\n",
    "uni_randfor = ensemble.RandomForestClassifier(n_estimators=20)\n",
    "uni_randfor.fit(uni_features, uniy_train)\n",
    "\n",
    "uni_randfor_X_train_pred = randfor.predict(uniX_test.drop(columns='SeriousDlqin2yrs'))\n",
    "\n",
    "sklearn.metrics.roc_auc_score(uniy_test, uni_randfor_X_train_pred)"
   ]
  },
  {
   "cell_type": "code",
   "execution_count": 29,
   "metadata": {},
   "outputs": [
    {
     "data": {
      "text/plain": [
       "0.5855413261808864"
      ]
     },
     "execution_count": 29,
     "metadata": {},
     "output_type": "execute_result"
    }
   ],
   "source": [
    "# This is a test of gradient boosting on the data with nulls imputed and variables scaled\n",
    "uni_gradboost = ensemble.GradientBoostingClassifier()\n",
    "uni_gradboost.fit(uni_features, uniy_train)\n",
    "\n",
    "uni_gradboost_X_train_pred = uni_gradboost.predict(uniX_test.drop(columns='SeriousDlqin2yrs'))\n",
    "\n",
    "sklearn.metrics.roc_auc_score(uniy_test, uni_gradboost_X_train_pred)"
   ]
  },
  {
   "cell_type": "markdown",
   "metadata": {},
   "source": [
    "Well, ok, it seems that my univariate attempts did nothing."
   ]
  },
  {
   "cell_type": "markdown",
   "metadata": {},
   "source": [
    "I should consider making as many of the original variables into categories as possible."
   ]
  },
  {
   "cell_type": "markdown",
   "metadata": {},
   "source": [
    "# Bivariate data exploration"
   ]
  },
  {
   "cell_type": "markdown",
   "metadata": {},
   "source": [
    "I explored the individual variables and decided to winsorize them. I also created a new DF to keep track of those I changed but at this point, I don't think it tells us anything.\n",
    "\n",
    "I still need to:\n",
    "- Keep in mind the choices I made\n",
    "    \n",
    "    - The number of people who were late a lot don't have many credit lines open.\n",
    "    - Debt ratio seems fishy\n",
    "    - I need to do something about the missing values in the # of dependents variable\n",
    "    \n",
    "    - Some variables probably only matter when combined logically with other variables.\n",
    "\n",
    "    - Maybe I should consider pre-qualifying many of the candidates to shrink down the dataset.\n",
    "        - Or do algorithms need this/do this?"
   ]
  }
 ],
 "metadata": {
  "kernelspec": {
   "display_name": "Python 3",
   "language": "python",
   "name": "python3"
  },
  "language_info": {
   "codemirror_mode": {
    "name": "ipython",
    "version": 3
   },
   "file_extension": ".py",
   "mimetype": "text/x-python",
   "name": "python",
   "nbconvert_exporter": "python",
   "pygments_lexer": "ipython3",
   "version": "3.6.4"
  }
 },
 "nbformat": 4,
 "nbformat_minor": 2
}
