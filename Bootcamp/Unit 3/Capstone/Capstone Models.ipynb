{
 "cells": [
  {
   "cell_type": "code",
   "execution_count": 45,
   "metadata": {},
   "outputs": [],
   "source": [
    "# Imports\n",
    "import numpy as np\n",
    "import pandas as pd\n",
    "import matplotlib.pyplot as plt\n",
    "import seaborn as sns\n",
    "import sklearn\n",
    "import math\n",
    "\n",
    "from sklearn.model_selection import train_test_split\n",
    "\n",
    "# Models\n",
    "from sklearn import ensemble\n",
    "from sklearn.neighbors import KNeighborsClassifier\n",
    "from sklearn.svm import SVC\n",
    "from sklearn import tree\n",
    "from sklearn.linear_model import LogisticRegression\n",
    "\n",
    "from sklearn.metrics import roc_auc_score, roc_curve\n",
    "\n",
    "from sklearn.model_selection import GridSearchCV\n",
    "from sklearn.preprocessing import MinMaxScaler, StandardScaler\n",
    "\n",
    "%matplotlib inline"
   ]
  },
  {
   "cell_type": "code",
   "execution_count": 46,
   "metadata": {},
   "outputs": [],
   "source": [
    "credit = pd.read_csv('explore.csv', index_col=0)\n",
    "explore = credit.copy()"
   ]
  },
  {
   "cell_type": "code",
   "execution_count": 47,
   "metadata": {},
   "outputs": [
    {
     "data": {
      "text/plain": [
       "Index(['SeriousDlqin2yrs', 'RevolvingUtilizationOfUnsecuredLines', 'age',\n",
       "       'NumberOfTime30-59DaysPastDueNotWorse', 'DebtRatio', 'MonthlyIncome',\n",
       "       'NumberOfOpenCreditLinesAndLoans', 'NumberOfTimes90DaysLate',\n",
       "       'NumberRealEstateLoansOrLines', 'NumberOfTime60-89DaysPastDueNotWorse',\n",
       "       'NumberOfDependents', 'bi_combined_late'],\n",
       "      dtype='object')"
      ]
     },
     "execution_count": 47,
     "metadata": {},
     "output_type": "execute_result"
    }
   ],
   "source": [
    "explore.columns"
   ]
  },
  {
   "cell_type": "code",
   "execution_count": 48,
   "metadata": {},
   "outputs": [],
   "source": [
    "def plot_roc_curve(fp_rate, tp_rate):\n",
    "    '''Plot the ROC Curve given the false positive and true positive rates'''\n",
    "    plt.figure(figsize=(8,8))\n",
    "    plt.plot(fp_rate, tp_rate)\n",
    "    plt.plot([0,1],[0,1], \"k--\")\n",
    "    plt.axis([0,1,0,1])\n",
    "    plt.xlabel(\"False Positive Rate\")\n",
    "    plt.ylabel(\"True Positive rate\")"
   ]
  },
  {
   "cell_type": "code",
   "execution_count": 49,
   "metadata": {},
   "outputs": [
    {
     "name": "stderr",
     "output_type": "stream",
     "text": [
      "/Library/Frameworks/Python.framework/Versions/3.6/lib/python3.6/site-packages/sklearn/preprocessing/data.py:617: DataConversionWarning: Data with input dtype int64, float64 were all converted to float64 by StandardScaler.\n",
      "  return self.partial_fit(X, y)\n",
      "/Library/Frameworks/Python.framework/Versions/3.6/lib/python3.6/site-packages/sklearn/preprocessing/data.py:617: DataConversionWarning: Data with input dtype int64, float64 were all converted to float64 by StandardScaler.\n",
      "  return self.partial_fit(X, y)\n",
      "/Library/Frameworks/Python.framework/Versions/3.6/lib/python3.6/site-packages/sklearn/base.py:462: DataConversionWarning: Data with input dtype int64, float64 were all converted to float64 by StandardScaler.\n",
      "  return self.fit(X, **fit_params).transform(X)\n",
      "/Library/Frameworks/Python.framework/Versions/3.6/lib/python3.6/site-packages/sklearn/preprocessing/data.py:617: DataConversionWarning: Data with input dtype int64, float64 were all converted to float64 by StandardScaler.\n",
      "  return self.partial_fit(X, y)\n",
      "/Library/Frameworks/Python.framework/Versions/3.6/lib/python3.6/site-packages/sklearn/base.py:462: DataConversionWarning: Data with input dtype int64, float64 were all converted to float64 by StandardScaler.\n",
      "  return self.fit(X, **fit_params).transform(X)\n"
     ]
    }
   ],
   "source": [
    "X_train, X_test, y_train, y_test = train_test_split(explore,\n",
    "                                                   explore['SeriousDlqin2yrs'],\n",
    "                                                   test_size=.2,\n",
    "                                                   stratify=explore['SeriousDlqin2yrs'],\n",
    "                                                   random_state=24)\n",
    "scaler = StandardScaler().fit(X_train)\n",
    "\n",
    "X_train = X_train.drop(columns='SeriousDlqin2yrs')\n",
    "X_test = X_test.drop(columns='SeriousDlqin2yrs')\n",
    "\n",
    "X_train_scaled = scaler.fit_transform(X_train)\n",
    "X_test_scaled = scaler.fit_transform(X_test)"
   ]
  },
  {
   "cell_type": "markdown",
   "metadata": {},
   "source": [
    "### Logistic Regression"
   ]
  },
  {
   "cell_type": "markdown",
   "metadata": {},
   "source": [
    "#### Default Parameter Logistic Regression"
   ]
  },
  {
   "cell_type": "code",
   "execution_count": 50,
   "metadata": {},
   "outputs": [
    {
     "name": "stderr",
     "output_type": "stream",
     "text": [
      "/Library/Frameworks/Python.framework/Versions/3.6/lib/python3.6/site-packages/sklearn/linear_model/logistic.py:432: FutureWarning: Default solver will be changed to 'lbfgs' in 0.22. Specify a solver to silence this warning.\n",
      "  FutureWarning)\n"
     ]
    },
    {
     "name": "stdout",
     "output_type": "stream",
     "text": [
      "logR Training ROC Score: 0.8101381050774722\n"
     ]
    }
   ],
   "source": [
    "logR = LogisticRegression()\n",
    "\n",
    "logR.fit(X_train_scaled, y_train)\n",
    "\n",
    "logR_pred_proba = logR.predict_proba(X_train_scaled)\n",
    "logR_pred = logR_pred_proba[:, 1]\n",
    "\n",
    "print('logR Training ROC Score:', sklearn.metrics.roc_auc_score(y_train, logR_pred))"
   ]
  },
  {
   "cell_type": "code",
   "execution_count": 51,
   "metadata": {
    "scrolled": true
   },
   "outputs": [
    {
     "name": "stdout",
     "output_type": "stream",
     "text": [
      "logR Testing ROC Score: 0.8098425128463\n"
     ]
    }
   ],
   "source": [
    "logR_test_proba = logR.predict_proba(X_test_scaled)\n",
    "logR_test_pred = logR_test_proba[:, 1]\n",
    "\n",
    "logR_roc = sklearn.metrics.roc_auc_score(y_test, logR_test_pred)\n",
    "\n",
    "print('logR Testing ROC Score:', logR_roc)"
   ]
  },
  {
   "cell_type": "markdown",
   "metadata": {},
   "source": [
    "#### Fine-tuned Logistic Regression"
   ]
  },
  {
   "cell_type": "code",
   "execution_count": 52,
   "metadata": {},
   "outputs": [
    {
     "name": "stderr",
     "output_type": "stream",
     "text": [
      "/Library/Frameworks/Python.framework/Versions/3.6/lib/python3.6/site-packages/sklearn/model_selection/_split.py:1943: FutureWarning: You should specify a value for 'cv' instead of relying on the default value. The default value will change from 3 to 5 in version 0.22.\n",
      "  warnings.warn(CV_WARNING, FutureWarning)\n"
     ]
    },
    {
     "data": {
      "text/plain": [
       "GridSearchCV(cv='warn', error_score='raise-deprecating',\n",
       "       estimator=LogisticRegression(C=1.0, class_weight=None, dual=False, fit_intercept=True,\n",
       "          intercept_scaling=1, max_iter=100, multi_class='warn',\n",
       "          n_jobs=None, penalty='l2', random_state=None, solver='warn',\n",
       "          tol=0.0001, verbose=0, warm_start=False),\n",
       "       fit_params=None, iid='warn', n_jobs=None,\n",
       "       param_grid=[{'penalty': ['l1', 'l2'], 'C': [0.001, 1, 1000], 'class_weight': ['balanced'], 'max_iter': [100, 500], 'solver': ['saga']}],\n",
       "       pre_dispatch='2*n_jobs', refit=True, return_train_score='warn',\n",
       "       scoring='roc_auc', verbose=0)"
      ]
     },
     "execution_count": 52,
     "metadata": {},
     "output_type": "execute_result"
    }
   ],
   "source": [
    "log_params = [{'penalty' : ['l1', 'l2'], \n",
    "               'C' : [.001, 1, 1000], \n",
    "               'class_weight' : ['balanced'], \n",
    "               'max_iter' : [100, 500],\n",
    "               'solver' : ['saga']\n",
    "}]\n",
    "\n",
    "log_search = GridSearchCV(estimator=logR, param_grid=log_params, scoring='roc_auc')\n",
    "log_search.fit(X_train_scaled, y_train)"
   ]
  },
  {
   "cell_type": "code",
   "execution_count": 53,
   "metadata": {},
   "outputs": [
    {
     "name": "stdout",
     "output_type": "stream",
     "text": [
      "tuned_logR Testing ROC Score: 0.8192658913530605\n"
     ]
    }
   ],
   "source": [
    "tuned_logR = log_search.best_estimator_\n",
    "tuned_logR.fit(X_train_scaled, y_train)\n",
    "tuned_logR_test_proba = tuned_logR.predict_proba(X_test_scaled)\n",
    "tuned_logR_test_pred = tuned_logR_test_proba[:, 1]\n",
    "\n",
    "tuned_logR_roc = sklearn.metrics.roc_auc_score(y_test, tuned_logR_test_pred)\n",
    "\n",
    "print('tuned_logR Testing ROC Score:', tuned_logR_roc)"
   ]
  },
  {
   "cell_type": "code",
   "execution_count": 54,
   "metadata": {},
   "outputs": [],
   "source": [
    "fpr_tuned_logR, tpr_tuned_logR, thresh_tuned_logR = roc_curve(y_test, tuned_logR_test_pred)"
   ]
  },
  {
   "cell_type": "code",
   "execution_count": 55,
   "metadata": {
    "scrolled": true
   },
   "outputs": [
    {
     "data": {
      "text/plain": [
       "Text(0.5,1,'tuned_logR ROC Curve')"
      ]
     },
     "execution_count": 55,
     "metadata": {},
     "output_type": "execute_result"
    },
    {
     "data": {
      "image/png": "[encoded data removed]",
      "text/plain": [
       "<Figure size 576x576 with 1 Axes>"
      ]
     },
     "metadata": {},
     "output_type": "display_data"
    }
   ],
   "source": [
    "plot_roc_curve(fpr_tuned_logR, tpr_tuned_logR)\n",
    "plt.title('tuned_logR ROC Curve')"
   ]
  },
  {
   "cell_type": "markdown",
   "metadata": {},
   "source": [
    "The Logistic Regression Model gets a .819 ROC AUC score on the validation set when fine-tuned.\n",
    "\n",
    "Interestingly, this is hardly better than the results with the default parameters."
   ]
  },
  {
   "cell_type": "code",
   "execution_count": 56,
   "metadata": {},
   "outputs": [
    {
     "name": "stdout",
     "output_type": "stream",
     "text": [
      "The best parameters for logistic regression: {'C': 1000, 'class_weight': 'balanced', 'max_iter': 100, 'penalty': 'l1', 'solver': 'saga'}\n"
     ]
    }
   ],
   "source": [
    "print('The best parameters for logistic regression:', log_search.best_params_)"
   ]
  },
  {
   "cell_type": "markdown",
   "metadata": {},
   "source": [
    "### K-Nearest Neighbors"
   ]
  },
  {
   "cell_type": "markdown",
   "metadata": {},
   "source": [
    "#### Default Parameter KNN"
   ]
  },
  {
   "cell_type": "code",
   "execution_count": 57,
   "metadata": {},
   "outputs": [
    {
     "data": {
      "text/plain": [
       "KNeighborsClassifier(algorithm='auto', leaf_size=30, metric='minkowski',\n",
       "           metric_params=None, n_jobs=None, n_neighbors=5, p=2,\n",
       "           weights='uniform')"
      ]
     },
     "execution_count": 57,
     "metadata": {},
     "output_type": "execute_result"
    }
   ],
   "source": [
    "knn = KNeighborsClassifier()\n",
    "knn.fit(X_train_scaled, y_train)"
   ]
  },
  {
   "cell_type": "code",
   "execution_count": 58,
   "metadata": {},
   "outputs": [
    {
     "name": "stdout",
     "output_type": "stream",
     "text": [
      "knn Training ROC Score: 0.9486169780803124\n"
     ]
    }
   ],
   "source": [
    "knn_pred_proba = knn.predict_proba(X_train_scaled)\n",
    "knn_pred = knn_pred_proba[:, 1]\n",
    "\n",
    "print('knn Training ROC Score:', sklearn.metrics.roc_auc_score(y_train, knn_pred))"
   ]
  },
  {
   "cell_type": "code",
   "execution_count": 59,
   "metadata": {},
   "outputs": [
    {
     "name": "stdout",
     "output_type": "stream",
     "text": [
      "knn Testing ROC Score: 0.7168888192093441\n"
     ]
    }
   ],
   "source": [
    "knn_test_proba = knn.predict_proba(X_test_scaled)\n",
    "knn_test_pred = knn_test_proba[:, 1]\n",
    "\n",
    "knn_roc = sklearn.metrics.roc_auc_score(y_test, knn_test_pred)\n",
    "\n",
    "print('knn Testing ROC Score:', knn_roc)"
   ]
  },
  {
   "cell_type": "markdown",
   "metadata": {},
   "source": [
    "#### Fine-tuned KNN"
   ]
  },
  {
   "cell_type": "markdown",
   "metadata": {},
   "source": [
    "k = [3, 5]\n",
    "knn_params = [{'n_neighbors' : k\n",
    "}]\n",
    "\n",
    "knn_search = GridSearchCV(estimator=knn, param_grid=knn_params, scoring='roc_auc')\n",
    "knn_search.fit(X_train_scaled, y_train)"
   ]
  },
  {
   "cell_type": "markdown",
   "metadata": {},
   "source": [
    "tuned_knn = knn_search.best_estimator_\n",
    "tuned_knn.fit(X_train_scaled, y_train)\n",
    "tuned_knn_test_proba = tuned_knn.predict_proba(X_test_scaled)\n",
    "tuned_knn_test_pred = tuned_knn_test_proba[:, 1]"
   ]
  },
  {
   "cell_type": "markdown",
   "metadata": {},
   "source": [
    "fpr_tuned_knn, tpr_tuned_knn, thresh_tuned_knn = roc_curve(y_test, tuned_knn_test_pred)\n",
    "plot_roc_curve(fpr_tuned_knn, tpr_tuned_knn)\n",
    "plt.title('Tuned knn ROC Curve')"
   ]
  },
  {
   "cell_type": "markdown",
   "metadata": {},
   "source": [
    "tuned_knn_test_proba = tuned_knn.predict_proba(X_test_scaled)\n",
    "tuned_knn_test_pred = tuned_knn_test_proba[:, 1]\n",
    "\n",
    "print('tuned_logR Testing ROC Score:', sklearn.metrics.roc_auc_score(y_test, tuned_knn_test_pred))"
   ]
  },
  {
   "cell_type": "markdown",
   "metadata": {},
   "source": [
    "K-Nearest Neighbors has overfit problem, is less accurate, and slower. In fact, it is so slow, I'm never running it again and you'll just have to take my word for it."
   ]
  },
  {
   "cell_type": "markdown",
   "metadata": {},
   "source": [
    "### Random Forest Classifier"
   ]
  },
  {
   "cell_type": "markdown",
   "metadata": {},
   "source": [
    "#### Default Parameter Random Forest"
   ]
  },
  {
   "cell_type": "code",
   "execution_count": 60,
   "metadata": {},
   "outputs": [
    {
     "name": "stderr",
     "output_type": "stream",
     "text": [
      "/Library/Frameworks/Python.framework/Versions/3.6/lib/python3.6/site-packages/sklearn/ensemble/forest.py:248: FutureWarning: The default value of n_estimators will change from 10 in version 0.20 to 100 in 0.22.\n",
      "  \"10 in version 0.20 to 100 in 0.22.\", FutureWarning)\n"
     ]
    },
    {
     "data": {
      "text/plain": [
       "RandomForestClassifier(bootstrap=True, class_weight=None, criterion='gini',\n",
       "            max_depth=None, max_features='auto', max_leaf_nodes=None,\n",
       "            min_impurity_decrease=0.0, min_impurity_split=None,\n",
       "            min_samples_leaf=1, min_samples_split=2,\n",
       "            min_weight_fraction_leaf=0.0, n_estimators=10, n_jobs=None,\n",
       "            oob_score=False, random_state=24, verbose=0, warm_start=False)"
      ]
     },
     "execution_count": 60,
     "metadata": {},
     "output_type": "execute_result"
    }
   ],
   "source": [
    "rfc = ensemble.RandomForestClassifier(random_state=24)\n",
    "rfc.fit(X_train, y_train)"
   ]
  },
  {
   "cell_type": "code",
   "execution_count": 61,
   "metadata": {},
   "outputs": [
    {
     "name": "stdout",
     "output_type": "stream",
     "text": [
      "rfc Training ROC Score: 0.9997036173760558\n"
     ]
    }
   ],
   "source": [
    "rfc_pred_proba = rfc.predict_proba(X_train)\n",
    "rfc_pred = rfc_pred_proba[:, 1]\n",
    "\n",
    "print('rfc Training ROC Score:', sklearn.metrics.roc_auc_score(y_train, rfc_pred))"
   ]
  },
  {
   "cell_type": "code",
   "execution_count": 62,
   "metadata": {},
   "outputs": [
    {
     "name": "stdout",
     "output_type": "stream",
     "text": [
      "rfc Testing ROC Score: 0.7757775145989285\n"
     ]
    }
   ],
   "source": [
    "rfc_test_proba = rfc.predict_proba(X_test)\n",
    "rfc_test_pred = rfc_test_proba[:, 1]\n",
    "\n",
    "rfc_roc = sklearn.metrics.roc_auc_score(y_test, rfc_test_pred)\n",
    "\n",
    "print('rfc Testing ROC Score:', rfc_roc)"
   ]
  },
  {
   "cell_type": "markdown",
   "metadata": {},
   "source": [
    "rfc_params =[{'n_estimators':[10,],\n",
    "             'max_features':['auto', 'sqrt', 'log2'],\n",
    "             'min_samples_split':[2,8,20],\n",
    "             'bootstrap':[True, False],\n",
    "             'max_depth':[None,5,6,7,8]\n",
    "}]"
   ]
  },
  {
   "cell_type": "code",
   "execution_count": 63,
   "metadata": {},
   "outputs": [
    {
     "data": {
      "text/plain": [
       "RandomForestClassifier(bootstrap=True, class_weight='balanced',\n",
       "            criterion='gini', max_depth=None, max_features='auto',\n",
       "            max_leaf_nodes=None, min_impurity_decrease=0.0,\n",
       "            min_impurity_split=None, min_samples_leaf=1,\n",
       "            min_samples_split=2, min_weight_fraction_leaf=0.0,\n",
       "            n_estimators=1000, n_jobs=None, oob_score=False,\n",
       "            random_state=24, verbose=0, warm_start=False)"
      ]
     },
     "execution_count": 63,
     "metadata": {},
     "output_type": "execute_result"
    }
   ],
   "source": [
    "tuned_rfc = ensemble.RandomForestClassifier(random_state=24, n_estimators=1000, class_weight='balanced')\n",
    "tuned_rfc.fit(X_train, y_train)"
   ]
  },
  {
   "cell_type": "code",
   "execution_count": 64,
   "metadata": {},
   "outputs": [
    {
     "name": "stdout",
     "output_type": "stream",
     "text": [
      "tuned_rfc Training ROC Score: 0.9998854794223638\n",
      "tuned_rfc Testing ROC Score: 0.8462978738187573\n"
     ]
    }
   ],
   "source": [
    "tuned_rfc_pred_proba = tuned_rfc.predict_proba(X_train)\n",
    "tuned_rfc_pred = tuned_rfc_pred_proba[:, 1]\n",
    "\n",
    "print('tuned_rfc Training ROC Score:', sklearn.metrics.roc_auc_score(y_train, tuned_rfc_pred))\n",
    "\n",
    "tuned_rfc_test_proba = tuned_rfc.predict_proba(X_test)\n",
    "tuned_rfc_test_pred = tuned_rfc_test_proba[:, 1]\n",
    "\n",
    "tuned_rfc_roc = sklearn.metrics.roc_auc_score(y_test, tuned_rfc_test_pred)\n",
    "\n",
    "print('tuned_rfc Testing ROC Score:', tuned_rfc_roc)"
   ]
  },
  {
   "cell_type": "code",
   "execution_count": 65,
   "metadata": {
    "scrolled": true
   },
   "outputs": [
    {
     "data": {
      "text/plain": [
       "Text(0.5,1,'Tuned rfc ROC Curve')"
      ]
     },
     "execution_count": 65,
     "metadata": {},
     "output_type": "execute_result"
    },
    {
     "data": {
      "image/png": "[encoded data removed]",
      "text/plain": [
       "<Figure size 576x576 with 1 Axes>"
      ]
     },
     "metadata": {},
     "output_type": "display_data"
    }
   ],
   "source": [
    "tuned_fpr_rfc, tuned_tpr_rfc, tuned_thresh_rfc = roc_curve(y_test, tuned_rfc_test_pred)\n",
    "plot_roc_curve(tuned_fpr_rfc, tuned_tpr_rfc)\n",
    "plt.title('Tuned rfc ROC Curve')"
   ]
  },
  {
   "cell_type": "markdown",
   "metadata": {},
   "source": [
    "Random forest also overfits but still manages to do significantly better than K-Nearest Neighbors. Running Gridsearch on random forest takes so long to do on my computer that I have just replaced it with the best parameters that it gave me."
   ]
  },
  {
   "cell_type": "markdown",
   "metadata": {},
   "source": [
    "### Gradient Boosting Classifier"
   ]
  },
  {
   "cell_type": "markdown",
   "metadata": {},
   "source": [
    "#### Default Parameter Gradient Boosting Classifier"
   ]
  },
  {
   "cell_type": "code",
   "execution_count": 66,
   "metadata": {},
   "outputs": [
    {
     "data": {
      "text/plain": [
       "GradientBoostingClassifier(criterion='friedman_mse', init=None,\n",
       "              learning_rate=0.1, loss='deviance', max_depth=3,\n",
       "              max_features=None, max_leaf_nodes=None,\n",
       "              min_impurity_decrease=0.0, min_impurity_split=None,\n",
       "              min_samples_leaf=1, min_samples_split=2,\n",
       "              min_weight_fraction_leaf=0.0, n_estimators=200,\n",
       "              n_iter_no_change=None, presort='auto', random_state=24,\n",
       "              subsample=1.0, tol=0.0001, validation_fraction=0.1,\n",
       "              verbose=0, warm_start=False)"
      ]
     },
     "execution_count": 66,
     "metadata": {},
     "output_type": "execute_result"
    }
   ],
   "source": [
    "gbc = ensemble.GradientBoostingClassifier(random_state=24, n_estimators=200)\n",
    "gbc.fit(X_train, y_train)"
   ]
  },
  {
   "cell_type": "code",
   "execution_count": 67,
   "metadata": {},
   "outputs": [
    {
     "name": "stdout",
     "output_type": "stream",
     "text": [
      "gbc Training ROC Score: 0.8725324741776976\n"
     ]
    }
   ],
   "source": [
    "gbc_pred_proba = gbc.predict_proba(X_train)\n",
    "gbc_pred = gbc_pred_proba[:, 1]\n",
    "\n",
    "print(\"gbc Training ROC Score:\", sklearn.metrics.roc_auc_score(y_train, gbc_pred))"
   ]
  },
  {
   "cell_type": "code",
   "execution_count": 68,
   "metadata": {
    "scrolled": true
   },
   "outputs": [
    {
     "name": "stdout",
     "output_type": "stream",
     "text": [
      "gbc Testing ROC Score: 0.868585127643474\n"
     ]
    }
   ],
   "source": [
    "gbc_test_proba = gbc.predict_proba(X_test)\n",
    "gbc_test_pred = gbc_test_proba[:, 1]\n",
    "\n",
    "gbc_roc = sklearn.metrics.roc_auc_score(y_test, gbc_test_pred)\n",
    "\n",
    "print(\"gbc Testing ROC Score:\", gbc_roc)"
   ]
  },
  {
   "cell_type": "markdown",
   "metadata": {},
   "source": [
    "#### Fine-tuned Gradient Boosting Classifier"
   ]
  },
  {
   "cell_type": "code",
   "execution_count": 69,
   "metadata": {},
   "outputs": [
    {
     "name": "stderr",
     "output_type": "stream",
     "text": [
      "/Library/Frameworks/Python.framework/Versions/3.6/lib/python3.6/site-packages/sklearn/model_selection/_split.py:1943: FutureWarning: You should specify a value for 'cv' instead of relying on the default value. The default value will change from 3 to 5 in version 0.22.\n",
      "  warnings.warn(CV_WARNING, FutureWarning)\n"
     ]
    },
    {
     "data": {
      "text/plain": [
       "GridSearchCV(cv='warn', error_score='raise-deprecating',\n",
       "       estimator=GradientBoostingClassifier(criterion='friedman_mse', init=None,\n",
       "              learning_rate=0.1, loss='deviance', max_depth=3,\n",
       "              max_features=None, max_leaf_nodes=None,\n",
       "              min_impurity_decrease=0.0, min_impurity_split=None,\n",
       "              min_samples_leaf=1, min_sampl...      subsample=1.0, tol=0.0001, validation_fraction=0.1,\n",
       "              verbose=0, warm_start=False),\n",
       "       fit_params=None, iid='warn', n_jobs=None,\n",
       "       param_grid=[{'learning_rate': [0.05, 0.1], 'n_estimators': [100, 200]}],\n",
       "       pre_dispatch='2*n_jobs', refit=True, return_train_score='warn',\n",
       "       scoring='roc_auc', verbose=0)"
      ]
     },
     "execution_count": 69,
     "metadata": {},
     "output_type": "execute_result"
    }
   ],
   "source": [
    "gbc_params = [{'learning_rate' : [.05, .1], \n",
    "               'n_estimators' : [100, 200]\n",
    "}]\n",
    "\n",
    "search_gbc = GridSearchCV(estimator=gbc, param_grid=gbc_params, scoring='roc_auc')\n",
    "search_gbc.fit(X_train, y_train)"
   ]
  },
  {
   "cell_type": "code",
   "execution_count": 70,
   "metadata": {
    "scrolled": true
   },
   "outputs": [
    {
     "data": {
      "text/plain": [
       "GradientBoostingClassifier(criterion='friedman_mse', init=None,\n",
       "              learning_rate=0.1, loss='deviance', max_depth=3,\n",
       "              max_features=None, max_leaf_nodes=None,\n",
       "              min_impurity_decrease=0.0, min_impurity_split=None,\n",
       "              min_samples_leaf=1, min_samples_split=2,\n",
       "              min_weight_fraction_leaf=0.0, n_estimators=200,\n",
       "              n_iter_no_change=None, presort='auto', random_state=24,\n",
       "              subsample=1.0, tol=0.0001, validation_fraction=0.1,\n",
       "              verbose=0, warm_start=False)"
      ]
     },
     "execution_count": 70,
     "metadata": {},
     "output_type": "execute_result"
    }
   ],
   "source": [
    "tuned_gbc = search_gbc.best_estimator_\n",
    "tuned_gbc"
   ]
  },
  {
   "cell_type": "code",
   "execution_count": 71,
   "metadata": {},
   "outputs": [
    {
     "name": "stdout",
     "output_type": "stream",
     "text": [
      "tuned_gbc Testing ROC Score: 0.7670713108281271\n"
     ]
    }
   ],
   "source": [
    "tuned_gbc.fit(X_train, y_train)\n",
    "tuned_gbc_test_proba = tuned_gbc.predict_proba(X_test_scaled)\n",
    "tuned_gbc_test_pred = tuned_gbc_test_proba[:, 1]\n",
    "\n",
    "tuned_gbc_roc = sklearn.metrics.roc_auc_score(y_test, tuned_gbc_test_pred)\n",
    "\n",
    "print('tuned_gbc Testing ROC Score:', tuned_gbc_roc)"
   ]
  },
  {
   "cell_type": "code",
   "execution_count": 72,
   "metadata": {
    "scrolled": true
   },
   "outputs": [
    {
     "data": {
      "text/plain": [
       "Text(0.5,1,'Tuned gbc ROC Curve')"
      ]
     },
     "execution_count": 72,
     "metadata": {},
     "output_type": "execute_result"
    },
    {
     "data": {
      "image/png": "[encoded data removed]",
      "text/plain": [
       "<Figure size 576x576 with 1 Axes>"
      ]
     },
     "metadata": {},
     "output_type": "display_data"
    }
   ],
   "source": [
    "fpr_gbc, tpr_gbc, thresh_gbc = roc_curve(y_test, gbc_test_pred)\n",
    "plot_roc_curve(fpr_gbc, tpr_gbc)\n",
    "plt.title('Tuned gbc ROC Curve')"
   ]
  },
  {
   "cell_type": "markdown",
   "metadata": {},
   "source": [
    "Unbelievably, GridSearchCV actually makes gradient boosting somehow less accurate. Which makes no sense because the default parameters were included in the param grid, so it should, at worst, tie the default scores."
   ]
  },
  {
   "cell_type": "code",
   "execution_count": 73,
   "metadata": {},
   "outputs": [],
   "source": [
    "tuned_knn_roc = \"Takes too long\"\n"
   ]
  },
  {
   "cell_type": "code",
   "execution_count": 74,
   "metadata": {},
   "outputs": [],
   "source": [
    "results = pd.DataFrame([[logR_roc, tuned_logR_roc],  [knn_roc, tuned_knn_roc],  [rfc_roc, tuned_rfc_roc], [gbc_roc, tuned_gbc_roc]])"
   ]
  },
  {
   "cell_type": "code",
   "execution_count": 76,
   "metadata": {},
   "outputs": [],
   "source": [
    "results.columns = ['Default Params', 'Tuned Params']\n",
    "results.index = ['LogR', 'knn', 'rfc', 'gbc']"
   ]
  },
  {
   "cell_type": "code",
   "execution_count": 79,
   "metadata": {},
   "outputs": [
    {
     "data": {
      "text/html": [
       "<div>\n",
       "<style scoped>\n",
       "    .dataframe tbody tr th:only-of-type {\n",
       "        vertical-align: middle;\n",
       "    }\n",
       "\n",
       "    .dataframe tbody tr th {\n",
       "        vertical-align: top;\n",
       "    }\n",
       "\n",
       "    .dataframe thead th {\n",
       "        text-align: right;\n",
       "    }\n",
       "</style>\n",
       "<table border=\"1\" class=\"dataframe\">\n",
       "  <thead>\n",
       "    <tr style=\"text-align: right;\">\n",
       "      <th></th>\n",
       "      <th>Default Params</th>\n",
       "      <th>Tuned Params</th>\n",
       "    </tr>\n",
       "  </thead>\n",
       "  <tbody>\n",
       "    <tr>\n",
       "      <th>LogR</th>\n",
       "      <td>0.809843</td>\n",
       "      <td>0.819266</td>\n",
       "    </tr>\n",
       "    <tr>\n",
       "      <th>knn</th>\n",
       "      <td>0.716889</td>\n",
       "      <td>Takes too long</td>\n",
       "    </tr>\n",
       "    <tr>\n",
       "      <th>rfc</th>\n",
       "      <td>0.775778</td>\n",
       "      <td>0.846298</td>\n",
       "    </tr>\n",
       "    <tr>\n",
       "      <th>gbc</th>\n",
       "      <td>0.868585</td>\n",
       "      <td>0.767071</td>\n",
       "    </tr>\n",
       "  </tbody>\n",
       "</table>\n",
       "</div>"
      ],
      "text/plain": [
       "      Default Params    Tuned Params\n",
       "LogR        0.809843        0.819266\n",
       "knn         0.716889  Takes too long\n",
       "rfc         0.775778        0.846298\n",
       "gbc         0.868585        0.767071"
      ]
     },
     "execution_count": 79,
     "metadata": {},
     "output_type": "execute_result"
    }
   ],
   "source": [
    "results"
   ]
  },
  {
   "cell_type": "code",
   "execution_count": 78,
   "metadata": {},
   "outputs": [],
   "source": [
    "results.to_csv('capstone_model_results.csv')"
   ]
  }
 ],
 "metadata": {
  "kernelspec": {
   "display_name": "Python 3",
   "language": "python",
   "name": "python3"
  },
  "language_info": {
   "codemirror_mode": {
    "name": "ipython",
    "version": 3
   },
   "file_extension": ".py",
   "mimetype": "text/x-python",
   "name": "python",
   "nbconvert_exporter": "python",
   "pygments_lexer": "ipython3",
   "version": "3.6.4"
  }
 },
 "nbformat": 4,
 "nbformat_minor": 2
}
