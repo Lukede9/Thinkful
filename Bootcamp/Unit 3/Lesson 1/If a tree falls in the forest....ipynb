{
 "cells": [
  {
   "cell_type": "markdown",
   "metadata": {},
   "source": [
    "Dataset is 2014 Washington State housing prices."
   ]
  },
  {
   "cell_type": "code",
   "execution_count": 1,
   "metadata": {},
   "outputs": [],
   "source": [
    "import pandas as pd\n",
    "import numpy as np\n",
    "import scipy\n",
    "import matplotlib.pyplot as plt\n",
    "import sklearn\n",
    "import seaborn as sns\n",
    "import datetime\n",
    "from scipy import stats\n",
    "%matplotlib inline\n",
    "\n",
    "from sklearn import tree\n",
    "from sklearn import ensemble\n",
    "\n",
    "from sklearn.model_selection import cross_val_score"
   ]
  },
  {
   "cell_type": "code",
   "execution_count": 2,
   "metadata": {},
   "outputs": [],
   "source": [
    "df = pd.read_csv('house_price_prediction.csv')"
   ]
  },
  {
   "cell_type": "code",
   "execution_count": 3,
   "metadata": {},
   "outputs": [],
   "source": [
    "house = df.copy()"
   ]
  },
  {
   "cell_type": "code",
   "execution_count": 4,
   "metadata": {},
   "outputs": [],
   "source": [
    "# Can't predict without the outcome variable...\n",
    "# Also just removing huge and small prices.\n",
    "house = house[house.price != 0]\n",
    "house = house[house.price < 1000000]\n",
    "house = house[house.price > 80000]"
   ]
  },
  {
   "cell_type": "code",
   "execution_count": 5,
   "metadata": {},
   "outputs": [],
   "source": [
    "house = house.drop(columns=['street', 'city', 'statezip', 'country', 'date'])"
   ]
  },
  {
   "cell_type": "code",
   "execution_count": 6,
   "metadata": {},
   "outputs": [],
   "source": [
    "# I think the target variable had to be categorical\n",
    "price_range_low = list(range(100000, 1000000, 50000))\n",
    "price_range_high = list(range(150000, 1050000, 50000))\n",
    "price_range = list(zip(price_range_low, price_range_high))\n",
    "\n",
    "def get_price_range(price):\n",
    "    for low, high in reversed(price_range):\n",
    "        if low <= price < high:\n",
    "            return str(low) + '-' + str(high)\n",
    "        \n",
    "house['price_range'] = house.price.apply(lambda x: get_price_range(x))"
   ]
  },
  {
   "cell_type": "code",
   "execution_count": 7,
   "metadata": {},
   "outputs": [],
   "source": [
    "target = house.price_range\n",
    "data = house.drop(columns=['price', 'price_range'])"
   ]
  },
  {
   "cell_type": "code",
   "execution_count": 8,
   "metadata": {},
   "outputs": [],
   "source": [
    "from sklearn import preprocessing\n",
    "le = preprocessing.LabelEncoder()\n",
    "target = le.fit_transform(target.astype(str))"
   ]
  },
  {
   "cell_type": "code",
   "execution_count": 9,
   "metadata": {},
   "outputs": [
    {
     "name": "stdout",
     "output_type": "stream",
     "text": [
      "--- 0.28833603858947754 seconds ---\n"
     ]
    }
   ],
   "source": [
    "import time\n",
    "start_time = time.time()\n",
    "\n",
    "tree_house = tree.DecisionTreeClassifier()\n",
    "X = data\n",
    "Y = target\n",
    "tree_house.fit(X, Y)\n",
    "\n",
    "cross_val_score(tree_house, X, Y, cv=5)\n",
    "\n",
    "print(\"--- %s seconds ---\" % (time.time() - start_time))"
   ]
  },
  {
   "cell_type": "code",
   "execution_count": 10,
   "metadata": {},
   "outputs": [
    {
     "name": "stdout",
     "output_type": "stream",
     "text": [
      "--- 0.560387134552002 seconds ---\n"
     ]
    }
   ],
   "source": [
    "start_time = time.time()\n",
    "\n",
    "rfc = ensemble.RandomForestClassifier()\n",
    "X1 = data\n",
    "Y1 = target\n",
    "\n",
    "cross_val_score(rfc, X1, Y1, cv=5)\n",
    "\n",
    "print(\"--- %s seconds ---\" % (time.time() - start_time))"
   ]
  },
  {
   "cell_type": "markdown",
   "metadata": {},
   "source": [
    "It took over twice as long and this is very simple data."
   ]
  }
 ],
 "metadata": {
  "kernelspec": {
   "display_name": "Python 3",
   "language": "python",
   "name": "python3"
  },
  "language_info": {
   "codemirror_mode": {
    "name": "ipython",
    "version": 3
   },
   "file_extension": ".py",
   "mimetype": "text/x-python",
   "name": "python",
   "nbconvert_exporter": "python",
   "pygments_lexer": "ipython3",
   "version": "3.6.4"
  }
 },
 "nbformat": 4,
 "nbformat_minor": 2
}
