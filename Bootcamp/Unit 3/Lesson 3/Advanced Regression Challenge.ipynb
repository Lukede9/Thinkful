{
 "cells": [
  {
   "cell_type": "code",
   "execution_count": 1,
   "metadata": {},
   "outputs": [],
   "source": [
    "import pandas as pd\n",
    "from matplotlib import pyplot as plt\n",
    "import numpy as np\n",
    "import math\n",
    "import seaborn as sns\n",
    "import sklearn\n",
    "from sklearn import linear_model\n",
    "from sklearn import preprocessing\n",
    "%matplotlib inline\n",
    "sns.set_style('white')\n",
    "\n",
    "import statsmodels.api as sm\n",
    "from sklearn.linear_model import LogisticRegression"
   ]
  },
  {
   "cell_type": "code",
   "execution_count": 2,
   "metadata": {},
   "outputs": [],
   "source": [
    "# Import\n",
    "il_data = pd.read_excel('ill_crime_copy.xls', header=1, skiprows=3)"
   ]
  },
  {
   "cell_type": "code",
   "execution_count": 3,
   "metadata": {},
   "outputs": [],
   "source": [
    "# Clean\n",
    "il_data = il_data.rename(columns={'Violent\\ncrime':'Violent_crime',\n",
    "                    'Murder and\\nnonnegligent\\nmanslaughter':'Murder',\n",
    "                    'Aggravated\\nassault':'Aggravated_assault',\n",
    "                    'Motor\\nvehicle\\ntheft':'Motor_vehicle_theft',\n",
    "                    'Rape\\n(revised\\ndefinition)1':'Rape_revised',\n",
    "                    'Rape\\n(legacy\\ndefinition)2':'Rape_legacy',\n",
    "                    'Larceny-\\ntheft':'Larceny_theft',\n",
    "                    'Property\\ncrime':'Property_crime'\n",
    "})\n",
    "il_data = il_data.drop(columns=['Rape_revised'])"
   ]
  },
  {
   "cell_type": "markdown",
   "metadata": {},
   "source": [
    "I have decided that violent crime will be the binary outcome variable and based on that stat, I will assign the cities to either \"dangerous\" or \"safe.\""
   ]
  },
  {
   "cell_type": "code",
   "execution_count": 4,
   "metadata": {},
   "outputs": [],
   "source": [
    "# Create outcome variable\n",
    "def binarize_crime(vcrime):\n",
    "    '''Cities with more than 10 violent crimes are dangerous'''\n",
    "    if vcrime > 10:\n",
    "        return 'Dangerous'\n",
    "    else:\n",
    "        return 'Safe'\n",
    "    \n",
    "il_data['Bi_violent_crime'] = il_data['Violent_crime'].apply(lambda x: binarize_crime(x))"
   ]
  },
  {
   "cell_type": "markdown",
   "metadata": {},
   "source": [
    "Ok now I need to turn these into features, do logistic regression, logistic ridge regression, and logistic lasso regression and decide which one works the best.\n",
    "\n",
    "In order to do this I need to figure out how to format my outcome variable because the assignment seems to say I need to convert it from the binary variables to the odds. But I don't see how to do that."
   ]
  },
  {
   "cell_type": "code",
   "execution_count": 5,
   "metadata": {},
   "outputs": [],
   "source": [
    "# Population squared column and clean some more\n",
    "il_data['Pop_squared'] = il_data['Population']**2\n",
    "il_data = il_data.dropna()"
   ]
  },
  {
   "cell_type": "code",
   "execution_count": 6,
   "metadata": {},
   "outputs": [],
   "source": [
    "# X and Y for my logistic regression\n",
    "X = il_data.drop(columns=['Violent_crime','Bi_violent_crime', 'City'])\n",
    "Y = il_data['Bi_violent_crime']"
   ]
  },
  {
   "cell_type": "code",
   "execution_count": 7,
   "metadata": {},
   "outputs": [],
   "source": [
    "# Creating a logistic regression\n",
    "logreg = LogisticRegression()\n",
    "fit = logreg.fit(X, Y)"
   ]
  },
  {
   "cell_type": "code",
   "execution_count": 8,
   "metadata": {},
   "outputs": [
    {
     "name": "stdout",
     "output_type": "stream",
     "text": [
      "Coefficients\n",
      "[[-4.42288999e-14 -7.61398630e-18 -1.08110020e-16 -2.91168898e-16\n",
      "  -6.24933886e-16 -5.42553337e-15 -1.21702143e-15 -3.93973235e-15\n",
      "  -2.68779585e-16 -3.15969056e-17 -2.83126437e-09]]\n",
      "[3.9721406e-17]\n",
      "\n",
      "Accuracy by Danger level\n",
      "Bi_violent_crime  Dangerous  Safe\n",
      "row_0                            \n",
      "Dangerous               236   268\n",
      "\n",
      "Percentage accuracy\n",
      "0.46825396825396826\n"
     ]
    }
   ],
   "source": [
    "# Display.\n",
    "print('Coefficients')\n",
    "print(fit.coef_)\n",
    "print(fit.intercept_)\n",
    "pred_y_sklearn = logreg.predict(X)\n",
    "\n",
    "print('\\nAccuracy by Danger level')\n",
    "print(pd.crosstab(pred_y_sklearn, Y))\n",
    "\n",
    "print('\\nPercentage accuracy')\n",
    "print(logreg.score(X, Y))"
   ]
  },
  {
   "cell_type": "code",
   "execution_count": 9,
   "metadata": {},
   "outputs": [],
   "source": [
    "# Regression with L2 penalty (same thing as above)\n",
    "ridgereg = LogisticRegression(penalty='l2')\n",
    "ridgid = ridgereg.fit(X, Y)"
   ]
  },
  {
   "cell_type": "code",
   "execution_count": 10,
   "metadata": {},
   "outputs": [
    {
     "name": "stdout",
     "output_type": "stream",
     "text": [
      "Coefficients:\n",
      "[[-4.42288999e-14 -7.61398630e-18 -1.08110020e-16 -2.91168898e-16\n",
      "  -6.24933886e-16 -5.42553337e-15 -1.21702143e-15 -3.93973235e-15\n",
      "  -2.68779585e-16 -3.15969056e-17 -2.83126437e-09]]\n",
      "[3.9721406e-17]\n",
      "\n",
      "Accuracy by Danger level\n",
      "Bi_violent_crime  Dangerous  Safe\n",
      "row_0                            \n",
      "Dangerous               236   268\n",
      "\n",
      "Percentage accuracy\n",
      "0.46825396825396826\n"
     ]
    }
   ],
   "source": [
    "print(\"Coefficients:\")\n",
    "print(ridgid.coef_)\n",
    "print(ridgid.intercept_)\n",
    "pred_y_sklearn = ridgereg.predict(X)\n",
    "\n",
    "print('\\nAccuracy by Danger level')\n",
    "print(pd.crosstab(pred_y_sklearn, Y))\n",
    "\n",
    "print('\\nPercentage accuracy')\n",
    "print(ridgid.score(X, Y))"
   ]
  },
  {
   "cell_type": "code",
   "execution_count": 11,
   "metadata": {},
   "outputs": [],
   "source": [
    "# Regression wtih L1 penalty. Doesn't call all dangerous for first time.\n",
    "lassoreg = LogisticRegression(penalty='l1')\n",
    "lasseau = lassoreg.fit(X, Y)"
   ]
  },
  {
   "cell_type": "code",
   "execution_count": 12,
   "metadata": {},
   "outputs": [
    {
     "name": "stdout",
     "output_type": "stream",
     "text": [
      "Coefficients:\n",
      "[[-4.28218242e-05  0.00000000e+00 -8.29862464e-01 -8.61586662e-01\n",
      "  -7.47093398e-01 -5.31089531e-04 -9.27243634e-04  2.78716697e-03\n",
      "   1.14479595e-01  1.21007936e-01 -2.56048285e-10]]\n",
      "[7.73602408]\n",
      "\n",
      "Accuracy by Danger level\n",
      "Bi_violent_crime  Dangerous  Safe\n",
      "row_0                            \n",
      "Dangerous               234     2\n",
      "Safe                      2   266\n",
      "\n",
      "Percentage accuracy\n",
      "0.9920634920634921\n"
     ]
    }
   ],
   "source": [
    "print(\"Coefficients:\")\n",
    "print(lasseau.coef_)\n",
    "print(lasseau.intercept_)\n",
    "pred_y_sklearn = lassoreg.predict(X)\n",
    "\n",
    "print('\\nAccuracy by Danger level')\n",
    "print(pd.crosstab(pred_y_sklearn, Y))\n",
    "\n",
    "print('\\nPercentage accuracy')\n",
    "print(lasseau.score(X, Y))"
   ]
  },
  {
   "cell_type": "markdown",
   "metadata": {},
   "source": [
    "#### Gotta try it with different data too"
   ]
  },
  {
   "cell_type": "code",
   "execution_count": 13,
   "metadata": {},
   "outputs": [],
   "source": [
    "ny_data = pd.read_csv('ny_crime_copy.csv', skiprows=3, header=1)\n",
    "ny_data = ny_data.rename(columns={'Violent\\ncrime':'Violent_crime',\n",
    "                    'Murder and\\nnonnegligent\\nmanslaughter':'Murder',\n",
    "                    'Aggravated\\nassault':'Aggravated_assault',\n",
    "                    'Motor\\nvehicle\\ntheft':'Motor_vehicle_theft',\n",
    "                    'Rape\\n(revised\\ndefinition)1':'Rape_revised',\n",
    "                    'Rape\\n(legacy\\ndefinition)2':'Rape_legacy',\n",
    "                    'Larceny-\\ntheft':'Larceny_theft',\n",
    "                    'Property\\ncrime':'Property_crime',\n",
    "                    'Arson3':'Arson'\n",
    "})\n",
    "ny_data = ny_data.drop(columns=['Rape_revised'])"
   ]
  },
  {
   "cell_type": "code",
   "execution_count": 14,
   "metadata": {},
   "outputs": [],
   "source": [
    "# I am going to assume that if there is no reporting that is because there was no crime.\n",
    "ny_data.Arson = ny_data.Arson.fillna(value=0)\n",
    "\n",
    "# If missing population or outcome variable, I want to drop that row because it's too important\n",
    "ny_data = ny_data.dropna(subset=['Population', 'Violent_crime'])"
   ]
  },
  {
   "cell_type": "code",
   "execution_count": 15,
   "metadata": {},
   "outputs": [],
   "source": [
    "dtype_float = ['Violent_crime', 'Aggravated_assault', 'Motor_vehicle_theft', 'Rape_legacy', 'Larceny_theft', 'Property_crime', 'Robbery', 'Population', 'Burglary']\n",
    "\n",
    "def remove_commas(number):\n",
    "    if ',' in number:\n",
    "        return number.replace(',', '')\n",
    "    else:\n",
    "        return number\n",
    "    \n",
    "for item in dtype_float:\n",
    "    ny_data[item] = ny_data[item].apply(lambda x: remove_commas(x))\n",
    "    ny_data[item] = ny_data[item].apply(lambda x: float(x))\n",
    "# Gotta fix all the ny_data dtypes"
   ]
  },
  {
   "cell_type": "code",
   "execution_count": 16,
   "metadata": {},
   "outputs": [],
   "source": [
    "# Adding 'dangerous'/'safe' outcome variable\n",
    "ny_data['Bi_violent_crime'] = ny_data['Violent_crime'].apply(lambda x: binarize_crime(x))"
   ]
  },
  {
   "cell_type": "code",
   "execution_count": 17,
   "metadata": {},
   "outputs": [],
   "source": [
    "ny_data['Pop_squared'] = ny_data['Population']**2"
   ]
  },
  {
   "cell_type": "code",
   "execution_count": 18,
   "metadata": {},
   "outputs": [],
   "source": [
    "X1 = ny_data.drop(columns=['Violent_crime','Bi_violent_crime', 'City'])\n",
    "Y1 = ny_data['Bi_violent_crime']"
   ]
  },
  {
   "cell_type": "code",
   "execution_count": 19,
   "metadata": {},
   "outputs": [
    {
     "name": "stdout",
     "output_type": "stream",
     "text": [
      "Coefficients\n",
      "[[-4.42288999e-14 -7.61398630e-18 -1.08110020e-16 -2.91168898e-16\n",
      "  -6.24933886e-16 -5.42553337e-15 -1.21702143e-15 -3.93973235e-15\n",
      "  -2.68779585e-16 -3.15969056e-17 -2.83126437e-09]]\n",
      "[3.9721406e-17]\n",
      "\n",
      "Accuracy by Danger level\n",
      "Bi_violent_crime  Dangerous  Safe\n",
      "row_0                            \n",
      "Dangerous               141   207\n",
      "\n",
      "Percentage accuracy\n",
      "0.4051724137931034\n"
     ]
    }
   ],
   "source": [
    "# Display.\n",
    "print('Coefficients')\n",
    "print(fit.coef_)\n",
    "print(fit.intercept_)\n",
    "ny_pred_y_sklearn = logreg.predict(X1)\n",
    "\n",
    "print('\\nAccuracy by Danger level')\n",
    "print(pd.crosstab(ny_pred_y_sklearn, Y1))\n",
    "\n",
    "print('\\nPercentage accuracy')\n",
    "print(logreg.score(X1, Y1))"
   ]
  },
  {
   "cell_type": "code",
   "execution_count": 20,
   "metadata": {},
   "outputs": [
    {
     "name": "stdout",
     "output_type": "stream",
     "text": [
      "Coefficients\n",
      "[[-4.28218242e-05  0.00000000e+00 -8.29862464e-01 -8.61586662e-01\n",
      "  -7.47093398e-01 -5.31089531e-04 -9.27243634e-04  2.78716697e-03\n",
      "   1.14479595e-01  1.21007936e-01 -2.56048285e-10]]\n",
      "[7.73602408]\n",
      "\n",
      "Accuracy by Danger level\n",
      "Bi_violent_crime  Dangerous  Safe\n",
      "row_0                            \n",
      "Dangerous               141     2\n",
      "Safe                      0   205\n",
      "\n",
      "Percentage accuracy\n",
      "0.9942528735632183\n"
     ]
    }
   ],
   "source": [
    "# Let's see if lasso is much better for ny data as well\n",
    "print('Coefficients')\n",
    "print(lasseau.coef_)\n",
    "print(lasseau.intercept_)\n",
    "ny_pred_y_sklearn = lassoreg.predict(X1)\n",
    "\n",
    "print('\\nAccuracy by Danger level')\n",
    "print(pd.crosstab(ny_pred_y_sklearn, Y1))\n",
    "\n",
    "print('\\nPercentage accuracy')\n",
    "print(lassoreg.score(X1, Y1))"
   ]
  },
  {
   "cell_type": "markdown",
   "metadata": {},
   "source": [
    "## What happened:\n",
    "\n",
    "I used Illinois data because that is my home state. I cleaned it up, added a population^2 column and ran logistic, ridge, and lasso regression on it. Ridge and logistic are actually the same thing because of the default value for \"penalty\" in logistic regression. They both predicted that every city was \"dangerous.\" Somehow Lasso was 99% accurate. I assume this was the design of the assignment.\n",
    "\n",
    "Then I imported New York data and tested my Illinois predictors on the ny_data and ran into the same results. The Ridge and Logistic both predicted \"dangerous\" for every city in NY but the Lasso regression was remarkably accurate.\n",
    "\n",
    "I take this assignment as a good example of a certain type of regression-classifier (in this case Lasso) outshining the others."
   ]
  }
 ],
 "metadata": {
  "kernelspec": {
   "display_name": "Python 3",
   "language": "python",
   "name": "python3"
  },
  "language_info": {
   "codemirror_mode": {
    "name": "ipython",
    "version": 3
   },
   "file_extension": ".py",
   "mimetype": "text/x-python",
   "name": "python",
   "nbconvert_exporter": "python",
   "pygments_lexer": "ipython3",
   "version": "3.6.4"
  }
 },
 "nbformat": 4,
 "nbformat_minor": 2
}
