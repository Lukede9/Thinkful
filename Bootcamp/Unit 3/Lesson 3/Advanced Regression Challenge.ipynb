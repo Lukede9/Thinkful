{
 "cells": [
  {
   "cell_type": "code",
   "execution_count": 41,
   "metadata": {},
   "outputs": [],
   "source": [
    "import pandas as pd\n",
    "from matplotlib import pyplot as plt\n",
    "import numpy as np\n",
    "import math\n",
    "import seaborn as sns\n",
    "import sklearn\n",
    "from sklearn import linear_model\n",
    "from sklearn import preprocessing\n",
    "%matplotlib inline\n",
    "sns.set_style('white')\n",
    "\n",
    "import statsmodels.api as sm\n",
    "from sklearn.linear_model import LogisticRegression"
   ]
  },
  {
   "cell_type": "code",
   "execution_count": 36,
   "metadata": {},
   "outputs": [],
   "source": [
    "il_data = pd.read_excel('ill_crime_copy.xls', header=1, skiprows=3)"
   ]
  },
  {
   "cell_type": "code",
   "execution_count": 37,
   "metadata": {},
   "outputs": [],
   "source": [
    "il_data = il_data.rename(columns={'Violent\\ncrime':'Violent_crime',\n",
    "                    'Murder and\\nnonnegligent\\nmanslaughter':'Murder',\n",
    "                    'Aggravated\\nassault':'Aggravated_assault',\n",
    "                    'Motor\\nvehicle\\ntheft':'Motor_vehicle_theft',\n",
    "                    'Rape\\n(revised\\ndefinition)1':'Rape_revised',\n",
    "                    'Rape\\n(legacy\\ndefinition)2':'Rape_legacy',\n",
    "                    'Larceny-\\ntheft':'Larceny_theft',\n",
    "                    'Property\\ncrime':'Property_crime'\n",
    "})\n",
    "il_data = il_data.drop(columns=['Rape_revised'])"
   ]
  },
  {
   "cell_type": "code",
   "execution_count": 38,
   "metadata": {},
   "outputs": [
    {
     "name": "stdout",
     "output_type": "stream",
     "text": [
      "City 510\n",
      "Population 499\n",
      "Violent_crime 102\n",
      "Murder 12\n",
      "Rape_legacy 34\n",
      "Robbery 57\n",
      "Aggravated_assault 81\n",
      "Property_crime 308\n",
      "Burglary 139\n",
      "Larceny_theft 283\n",
      "Motor_vehicle_theft 70\n",
      "Arson 25\n"
     ]
    }
   ],
   "source": [
    "for col in il_data.columns:\n",
    "    print(col, len(il_data[col].unique()))"
   ]
  },
  {
   "cell_type": "markdown",
   "metadata": {},
   "source": [
    "I have decided that violent crime will be the binary outcome variable and based on that stat, I will assign the cities to either \"dangerous\" or \"safe.\""
   ]
  },
  {
   "cell_type": "code",
   "execution_count": 39,
   "metadata": {},
   "outputs": [],
   "source": [
    "def binarize_crime(vcrime):\n",
    "    '''Cities with more than 10 violent crimes are dangerous'''\n",
    "    if vcrime > 10:\n",
    "        return 'Dangerous'\n",
    "    else:\n",
    "        return 'Safe'\n",
    "    \n",
    "il_data['Bi_violent_crime'] = il_data['Violent_crime'].apply(lambda x: binarize_crime(x))"
   ]
  },
  {
   "cell_type": "code",
   "execution_count": 40,
   "metadata": {
    "scrolled": true
   },
   "outputs": [
    {
     "data": {
      "text/html": [
       "<div>\n",
       "<style scoped>\n",
       "    .dataframe tbody tr th:only-of-type {\n",
       "        vertical-align: middle;\n",
       "    }\n",
       "\n",
       "    .dataframe tbody tr th {\n",
       "        vertical-align: top;\n",
       "    }\n",
       "\n",
       "    .dataframe thead th {\n",
       "        text-align: right;\n",
       "    }\n",
       "</style>\n",
       "<table border=\"1\" class=\"dataframe\">\n",
       "  <thead>\n",
       "    <tr style=\"text-align: right;\">\n",
       "      <th></th>\n",
       "      <th>City</th>\n",
       "      <th>Population</th>\n",
       "      <th>Violent_crime</th>\n",
       "      <th>Murder</th>\n",
       "      <th>Rape_legacy</th>\n",
       "      <th>Robbery</th>\n",
       "      <th>Aggravated_assault</th>\n",
       "      <th>Property_crime</th>\n",
       "      <th>Burglary</th>\n",
       "      <th>Larceny_theft</th>\n",
       "      <th>Motor_vehicle_theft</th>\n",
       "      <th>Arson</th>\n",
       "      <th>Bi_violent_crime</th>\n",
       "    </tr>\n",
       "  </thead>\n",
       "  <tbody>\n",
       "    <tr>\n",
       "      <th>0</th>\n",
       "      <td>Addison</td>\n",
       "      <td>37378.0</td>\n",
       "      <td>40.0</td>\n",
       "      <td>1.0</td>\n",
       "      <td>8.0</td>\n",
       "      <td>5.0</td>\n",
       "      <td>26.0</td>\n",
       "      <td>640.0</td>\n",
       "      <td>97.0</td>\n",
       "      <td>527.0</td>\n",
       "      <td>16.0</td>\n",
       "      <td>5.0</td>\n",
       "      <td>Dangerous</td>\n",
       "    </tr>\n",
       "    <tr>\n",
       "      <th>1</th>\n",
       "      <td>Albany</td>\n",
       "      <td>878.0</td>\n",
       "      <td>0.0</td>\n",
       "      <td>0.0</td>\n",
       "      <td>0.0</td>\n",
       "      <td>0.0</td>\n",
       "      <td>0.0</td>\n",
       "      <td>5.0</td>\n",
       "      <td>0.0</td>\n",
       "      <td>5.0</td>\n",
       "      <td>0.0</td>\n",
       "      <td>0.0</td>\n",
       "      <td>Safe</td>\n",
       "    </tr>\n",
       "    <tr>\n",
       "      <th>2</th>\n",
       "      <td>Albers</td>\n",
       "      <td>1187.0</td>\n",
       "      <td>0.0</td>\n",
       "      <td>0.0</td>\n",
       "      <td>0.0</td>\n",
       "      <td>0.0</td>\n",
       "      <td>0.0</td>\n",
       "      <td>0.0</td>\n",
       "      <td>0.0</td>\n",
       "      <td>0.0</td>\n",
       "      <td>0.0</td>\n",
       "      <td>0.0</td>\n",
       "      <td>Safe</td>\n",
       "    </tr>\n",
       "    <tr>\n",
       "      <th>3</th>\n",
       "      <td>Albion</td>\n",
       "      <td>1975.0</td>\n",
       "      <td>0.0</td>\n",
       "      <td>0.0</td>\n",
       "      <td>0.0</td>\n",
       "      <td>0.0</td>\n",
       "      <td>0.0</td>\n",
       "      <td>33.0</td>\n",
       "      <td>8.0</td>\n",
       "      <td>22.0</td>\n",
       "      <td>3.0</td>\n",
       "      <td>1.0</td>\n",
       "      <td>Safe</td>\n",
       "    </tr>\n",
       "    <tr>\n",
       "      <th>4</th>\n",
       "      <td>Algonquin</td>\n",
       "      <td>29980.0</td>\n",
       "      <td>18.0</td>\n",
       "      <td>0.0</td>\n",
       "      <td>3.0</td>\n",
       "      <td>2.0</td>\n",
       "      <td>13.0</td>\n",
       "      <td>519.0</td>\n",
       "      <td>33.0</td>\n",
       "      <td>475.0</td>\n",
       "      <td>11.0</td>\n",
       "      <td>6.0</td>\n",
       "      <td>Dangerous</td>\n",
       "    </tr>\n",
       "  </tbody>\n",
       "</table>\n",
       "</div>"
      ],
      "text/plain": [
       "        City  Population  Violent_crime  Murder  Rape_legacy  Robbery  \\\n",
       "0    Addison     37378.0           40.0     1.0          8.0      5.0   \n",
       "1     Albany       878.0            0.0     0.0          0.0      0.0   \n",
       "2     Albers      1187.0            0.0     0.0          0.0      0.0   \n",
       "3     Albion      1975.0            0.0     0.0          0.0      0.0   \n",
       "4  Algonquin     29980.0           18.0     0.0          3.0      2.0   \n",
       "\n",
       "   Aggravated_assault  Property_crime  Burglary  Larceny_theft  \\\n",
       "0                26.0           640.0      97.0          527.0   \n",
       "1                 0.0             5.0       0.0            5.0   \n",
       "2                 0.0             0.0       0.0            0.0   \n",
       "3                 0.0            33.0       8.0           22.0   \n",
       "4                13.0           519.0      33.0          475.0   \n",
       "\n",
       "   Motor_vehicle_theft  Arson Bi_violent_crime  \n",
       "0                 16.0    5.0        Dangerous  \n",
       "1                  0.0    0.0             Safe  \n",
       "2                  0.0    0.0             Safe  \n",
       "3                  3.0    1.0             Safe  \n",
       "4                 11.0    6.0        Dangerous  "
      ]
     },
     "execution_count": 40,
     "metadata": {},
     "output_type": "execute_result"
    }
   ],
   "source": [
    "il_data.head()"
   ]
  },
  {
   "cell_type": "markdown",
   "metadata": {},
   "source": [
    "Ok now I need to turn these into features, do logistic regression, logistic ridge regression, and logistic lasso regression and decide which one works the best.\n",
    "\n",
    "In order to do this I need to figure out how to format my outcome variable because the assignment seems to say I need to convert it from the binary variables to the odds. But I don't see how to do that."
   ]
  },
  {
   "cell_type": "code",
   "execution_count": 49,
   "metadata": {},
   "outputs": [],
   "source": [
    "features = il_data.drop(columns=['City'])\n",
    "features = features.dropna()"
   ]
  },
  {
   "cell_type": "code",
   "execution_count": 50,
   "metadata": {},
   "outputs": [],
   "source": [
    "features['Pop_squared'] = features['Population']**2\n",
    "\n",
    "X = features.drop(columns=['Bi_violent_crime'])\n",
    "Y = features['Bi_violent_crime']"
   ]
  },
  {
   "cell_type": "code",
   "execution_count": 51,
   "metadata": {},
   "outputs": [
    {
     "data": {
      "text/plain": [
       "Pop_squared            0\n",
       "Bi_violent_crime       0\n",
       "Arson                  0\n",
       "Motor_vehicle_theft    0\n",
       "Larceny_theft          0\n",
       "Burglary               0\n",
       "Property_crime         0\n",
       "Aggravated_assault     0\n",
       "Robbery                0\n",
       "Rape_legacy            0\n",
       "Murder                 0\n",
       "Violent_crime          0\n",
       "Population             0\n",
       "dtype: int64"
      ]
     },
     "execution_count": 51,
     "metadata": {},
     "output_type": "execute_result"
    }
   ],
   "source": [
    "# Ok so I could fill these features in with the means or something.\n",
    "features_na = features.isnull().sum(axis = 0)\n",
    "features_na.sort_values(ascending=False)"
   ]
  },
  {
   "cell_type": "code",
   "execution_count": 53,
   "metadata": {},
   "outputs": [],
   "source": [
    "logreg = LogisticRegression()\n",
    "fit = logreg.fit(X, Y)"
   ]
  },
  {
   "cell_type": "code",
   "execution_count": 64,
   "metadata": {},
   "outputs": [
    {
     "name": "stdout",
     "output_type": "stream",
     "text": [
      "Coefficients\n",
      "[[-4.42288999e-14 -1.03182679e-15 -7.61398630e-18 -1.08110020e-16\n",
      "  -2.91168898e-16 -6.24933886e-16 -5.42553337e-15 -1.21702143e-15\n",
      "  -3.93973236e-15 -2.68779585e-16 -3.15969056e-17 -2.83126437e-09]]\n",
      "[3.9721406e-17]\n",
      "\n",
      "Accuracy by Danger level\n",
      "Bi_violent_crime  Dangerous  Safe\n",
      "row_0                            \n",
      "Dangerous               236   268\n",
      "\n",
      "Percentage accuracy\n",
      "0.46825396825396826\n"
     ]
    }
   ],
   "source": [
    "# Display.\n",
    "print('Coefficients')\n",
    "print(fit.coef_)\n",
    "print(fit.intercept_)\n",
    "pred_y_sklearn = logreg.predict(X)\n",
    "\n",
    "print('\\nAccuracy by Danger level')\n",
    "print(pd.crosstab(pred_y_sklearn, Y))\n",
    "\n",
    "print('\\nPercentage accuracy')\n",
    "print(logreg.score(X, Y))"
   ]
  },
  {
   "cell_type": "code",
   "execution_count": 60,
   "metadata": {},
   "outputs": [],
   "source": [
    "ridgereg = LogisticRegression(penalty='l2')\n",
    "ridgid = ridgereg.fit(X, Y)"
   ]
  },
  {
   "cell_type": "code",
   "execution_count": 65,
   "metadata": {},
   "outputs": [
    {
     "name": "stdout",
     "output_type": "stream",
     "text": [
      "Coefficients:\n",
      "[[-4.42288999e-14 -1.03182679e-15 -7.61398630e-18 -1.08110020e-16\n",
      "  -2.91168898e-16 -6.24933886e-16 -5.42553337e-15 -1.21702143e-15\n",
      "  -3.93973236e-15 -2.68779585e-16 -3.15969056e-17 -2.83126437e-09]]\n",
      "[3.9721406e-17]\n",
      "\n",
      "Accuracy by Danger level\n",
      "Bi_violent_crime  Dangerous  Safe\n",
      "row_0                            \n",
      "Dangerous               236   268\n",
      "\n",
      "Percentage accuracy\n",
      "0.46825396825396826\n"
     ]
    }
   ],
   "source": [
    "print(\"Coefficients:\")\n",
    "print(ridgid.coef_)\n",
    "print(ridgid.intercept_)\n",
    "pred_y_sklearn = logreg.predict(X)\n",
    "\n",
    "print('\\nAccuracy by Danger level')\n",
    "print(pd.crosstab(pred_y_sklearn, Y))\n",
    "\n",
    "print('\\nPercentage accuracy')\n",
    "print(logreg.score(X, Y))"
   ]
  },
  {
   "cell_type": "code",
   "execution_count": 66,
   "metadata": {},
   "outputs": [],
   "source": [
    "lassoreg = LogisticRegression(penalty='l1')\n",
    "lasseau = lassoreg.fit(X, Y)"
   ]
  },
  {
   "cell_type": "code",
   "execution_count": 67,
   "metadata": {},
   "outputs": [
    {
     "name": "stdout",
     "output_type": "stream",
     "text": [
      "Coefficients:\n",
      "[[-4.91457263e-05 -4.27415169e-01  0.00000000e+00 -6.72379053e-01\n",
      "  -7.53156852e-01 -6.56726318e-01  3.93596620e-03 -2.74445277e-03\n",
      "  -1.03134583e-03  1.33023017e-01  1.51956186e-01 -5.69796866e-10]]\n",
      "[11.04094749]\n",
      "\n",
      "Accuracy by Danger level\n",
      "Bi_violent_crime  Dangerous  Safe\n",
      "row_0                            \n",
      "Dangerous               236   268\n",
      "\n",
      "Percentage accuracy\n",
      "0.46825396825396826\n"
     ]
    }
   ],
   "source": [
    "print(\"Coefficients:\")\n",
    "print(lasseau.coef_)\n",
    "print(lasseau.intercept_)\n",
    "pred_y_sklearn = logreg.predict(X)\n",
    "\n",
    "print('\\nAccuracy by Danger level')\n",
    "print(pd.crosstab(pred_y_sklearn, Y))\n",
    "\n",
    "print('\\nPercentage accuracy')\n",
    "print(logreg.score(X, Y))"
   ]
  }
 ],
 "metadata": {
  "kernelspec": {
   "display_name": "Python 3",
   "language": "python",
   "name": "python3"
  },
  "language_info": {
   "codemirror_mode": {
    "name": "ipython",
    "version": 3
   },
   "file_extension": ".py",
   "mimetype": "text/x-python",
   "name": "python",
   "nbconvert_exporter": "python",
   "pygments_lexer": "ipython3",
   "version": "3.6.4"
  }
 },
 "nbformat": 4,
 "nbformat_minor": 2
}
