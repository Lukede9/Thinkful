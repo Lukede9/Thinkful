{
 "cells": [
  {
   "cell_type": "markdown",
   "metadata": {},
   "source": [
    "### Feature Generation and Clustering\n",
    "https://github.com/Lukede9/Thinkful/blob/master/Bootcamp/Unit%204%20Capstone%20Feature%20Generation.ipynb"
   ]
  },
  {
   "cell_type": "code",
   "execution_count": 1,
   "metadata": {},
   "outputs": [],
   "source": [
    "import numpy as np\n",
    "import pandas as pd\n",
    "import sklearn\n",
    "\n",
    "from sklearn.model_selection import train_test_split\n",
    "from sklearn.feature_selection import SelectKBest\n",
    "from sklearn.feature_selection import chi2\n",
    "from sklearn import ensemble\n",
    "from sklearn.linear_model import LogisticRegression\n",
    "from sklearn.model_selection import cross_val_score\n",
    "from sklearn.model_selection import GridSearchCV\n",
    "from sklearn.cluster import KMeans\n",
    "from sklearn.cluster import MiniBatchKMeans\n",
    "from sklearn.cluster import SpectralClustering\n",
    "from sklearn.cluster import AffinityPropagation\n",
    "from sklearn.metrics import adjusted_rand_score\n",
    "from sklearn.metrics import silhouette_score\n",
    "\n",
    "from sklearn.preprocessing import normalize"
   ]
  },
  {
   "cell_type": "markdown",
   "metadata": {},
   "source": [
    "- bow_train = BoW for training set\n",
    "- bow_valid = BoW for the validation set\n",
    "- tfidf_features = tf-idf for the training set\n",
    "- tfidf_valid = tf-idf for the validation set\n",
    "- tfbow_train = both for training set\n",
    "- tfbow_valid = both for validation set\n",
    "\n",
    "- best_clusters_train = clusters for the training set\n",
    "- best_clusters_valid = clusters for the validation set"
   ]
  },
  {
   "cell_type": "code",
   "execution_count": 2,
   "metadata": {},
   "outputs": [],
   "source": [
    "# Bag of Words Features\n",
    "bow_train = pd.read_csv('bow_train.csv', index_col=0)\n",
    "bow_valid = pd.read_csv('bow_valid.csv', index_col=0)\n",
    "\n",
    "# tf-idf features\n",
    "tfidf_features = pd.read_csv('tfidf_features.csv', index_col=0)\n",
    "tfidf_valid = pd.read_csv('tfidf_valid.csv', index_col=0)\n",
    "\n",
    "# Both features\n",
    "tfbow_train = pd.read_csv('tfbow_train.csv', index_col=0)\n",
    "tfbow_valid = pd.read_csv('tfbow_valid.csv', index_col=0)\n",
    "\n",
    "# Importing cluster DataFrame\n",
    "best_clusters_train = pd.read_csv('best_clusters_train.csv', index_col=0)\n",
    "best_clusters_valid = pd.read_csv('best_clusters_valid.csv', index_col=0)\n",
    "\n",
    "\n",
    "# Bag of Words + best_clusters\n",
    "bowclusters_train = pd.concat([bow_train, best_clusters_train], axis=1)\n",
    "bowclusters_test = pd.concat([bow_valid, best_clusters_valid], axis=1)\n",
    "\n",
    "# tf-idf + best clusters\n",
    "tfidf_clusters_train = pd.concat([tfidf_features, best_clusters_train], axis=1)\n",
    "tfidf_clusters_valid = pd.concat([tfidf_valid, best_clusters_valid], axis=1)\n",
    "\n",
    "# Both + best clusters\n",
    "tfbow_feat_clusters_train = pd.concat([tfbow_train, best_clusters_train], axis=1)\n",
    "tfbow_feat_clusters_valid = pd.concat([tfbow_valid, best_clusters_valid], axis=1)"
   ]
  },
  {
   "cell_type": "code",
   "execution_count": 3,
   "metadata": {},
   "outputs": [],
   "source": [
    "target = bow_train['genre']"
   ]
  },
  {
   "cell_type": "code",
   "execution_count": 4,
   "metadata": {},
   "outputs": [],
   "source": [
    "# Train-test split here is for the DataFrames without clusters\n",
    "\n",
    "bowX_train, bowX_test, bowy_train, bowy_test = train_test_split(bow_train.drop(columns=['genre', 'text', 'article_words500']), \n",
    "                                                                target, \n",
    "                                                                test_size=.25, \n",
    "                                                                stratify=target, \n",
    "                                                                random_state=24\n",
    ")\n",
    "\n",
    "tfidfX_train, tfidfX_test, tfidfy_train, tfidfy_test = train_test_split(tfidf_features,\n",
    "                                                                        target,\n",
    "                                                                        test_size=.25,\n",
    "                                                                        stratify=target, \n",
    "                                                                        random_state=24\n",
    ")\n",
    "\n",
    "tfbowX_train, tfbowX_test, tfbowy_train, tfbowy_test = train_test_split(tfbow_train.drop(columns=['genre', 'text', 'article_words500']), \n",
    "                                                                        target,\n",
    "                                                                        test_size=.25,\n",
    "                                                                        stratify=target, \n",
    "                                                                        random_state=24\n",
    ")"
   ]
  },
  {
   "cell_type": "markdown",
   "metadata": {},
   "source": [
    "# Supervised Models using BoW Features"
   ]
  },
  {
   "cell_type": "markdown",
   "metadata": {},
   "source": [
    "#### Random Forest"
   ]
  },
  {
   "cell_type": "code",
   "execution_count": 5,
   "metadata": {
    "scrolled": true
   },
   "outputs": [
    {
     "name": "stdout",
     "output_type": "stream",
     "text": [
      "Training score: 1.0\n",
      "Test set score: 0.35714285714285715\n"
     ]
    }
   ],
   "source": [
    "rfc = ensemble.RandomForestClassifier(100)\n",
    "rfc_train = rfc.fit(bowX_train, bowy_train)\n",
    "\n",
    "print('Training score:', rfc.score(bowX_train, bowy_train))\n",
    "print('Test set score:', rfc.score(bowX_test, bowy_test))"
   ]
  },
  {
   "cell_type": "markdown",
   "metadata": {},
   "source": [
    "#### Logistic Regression"
   ]
  },
  {
   "cell_type": "code",
   "execution_count": 6,
   "metadata": {},
   "outputs": [
    {
     "name": "stdout",
     "output_type": "stream",
     "text": [
      "Training score: 1.0\n",
      "Test set score: 0.35714285714285715\n"
     ]
    }
   ],
   "source": [
    "lr = LogisticRegression(solver='lbfgs', multi_class='auto', max_iter=500)\n",
    "lr_train = lr.fit(bowX_train, bowy_train)\n",
    "\n",
    "print('Training score:', lr.score(bowX_train, bowy_train))\n",
    "print('Test set score:', lr.score(bowX_test, bowy_test))"
   ]
  },
  {
   "cell_type": "markdown",
   "metadata": {},
   "source": [
    "#### Gradient Boosting"
   ]
  },
  {
   "cell_type": "code",
   "execution_count": 7,
   "metadata": {
    "scrolled": true
   },
   "outputs": [
    {
     "name": "stdout",
     "output_type": "stream",
     "text": [
      "Training set score: 1.0\n",
      "Test set score: 0.2619047619047619\n"
     ]
    }
   ],
   "source": [
    "clf = ensemble.GradientBoostingClassifier()\n",
    "clf_train = clf.fit(bowX_train, bowy_train)\n",
    "\n",
    "print('Training set score:', clf.score(bowX_train, bowy_train))\n",
    "print('Test set score:', clf.score(bowX_test, bowy_test))"
   ]
  },
  {
   "cell_type": "markdown",
   "metadata": {},
   "source": [
    "# Supervised Models using tf-idf Features"
   ]
  },
  {
   "cell_type": "markdown",
   "metadata": {},
   "source": [
    "#### Random Forest"
   ]
  },
  {
   "cell_type": "code",
   "execution_count": 8,
   "metadata": {},
   "outputs": [
    {
     "name": "stdout",
     "output_type": "stream",
     "text": [
      "Training score: 1.0\n",
      "Test set score: 0.30952380952380953\n"
     ]
    }
   ],
   "source": [
    "rfc1 = ensemble.RandomForestClassifier(100)\n",
    "rfc1_train = rfc1.fit(tfidfX_train, tfidfy_train)\n",
    "\n",
    "print('Training score:', rfc1.score(tfidfX_train, tfidfy_train))\n",
    "print('Test set score:', rfc1.score(tfidfX_test, tfidfy_test))"
   ]
  },
  {
   "cell_type": "markdown",
   "metadata": {},
   "source": [
    "#### Logistic Regression"
   ]
  },
  {
   "cell_type": "code",
   "execution_count": 9,
   "metadata": {},
   "outputs": [
    {
     "name": "stdout",
     "output_type": "stream",
     "text": [
      "Training score: 1.0\n",
      "Test set score: 0.35714285714285715\n"
     ]
    }
   ],
   "source": [
    "lr1 = LogisticRegression(solver='lbfgs', multi_class='auto', max_iter=500)\n",
    "lr1_train = lr1.fit(tfidfX_train, tfidfy_train)\n",
    "\n",
    "print('Training score:', lr1.score(tfidfX_train, tfidfy_train))\n",
    "print('Test set score:', lr1.score(tfidfX_test, tfidfy_test))"
   ]
  },
  {
   "cell_type": "markdown",
   "metadata": {},
   "source": [
    "#### Gradient Boosting"
   ]
  },
  {
   "cell_type": "code",
   "execution_count": 10,
   "metadata": {},
   "outputs": [
    {
     "name": "stdout",
     "output_type": "stream",
     "text": [
      "Training set score: 1.0\n",
      "Test set score: 0.23809523809523808\n"
     ]
    }
   ],
   "source": [
    "clf1 = ensemble.GradientBoostingClassifier()\n",
    "clf1_train = clf1.fit(tfidfX_train, tfidfy_train)\n",
    "\n",
    "print('Training set score:', clf1.score(tfidfX_train, tfidfy_train))\n",
    "print('Test set score:', clf1.score(tfidfX_test, tfidfy_test))"
   ]
  },
  {
   "cell_type": "markdown",
   "metadata": {},
   "source": [
    "# Supervised Models using BoW and tf-idf Features"
   ]
  },
  {
   "cell_type": "markdown",
   "metadata": {},
   "source": [
    "#### Random Forest"
   ]
  },
  {
   "cell_type": "code",
   "execution_count": 11,
   "metadata": {},
   "outputs": [
    {
     "name": "stdout",
     "output_type": "stream",
     "text": [
      "Training score: 1.0\n",
      "Test set score: 0.3333333333333333\n"
     ]
    }
   ],
   "source": [
    "rfc2 = ensemble.RandomForestClassifier(100)\n",
    "rfc2_train = rfc2.fit(tfbowX_train, tfbowy_train)\n",
    "\n",
    "print('Training score:', rfc2.score(tfbowX_train, tfbowy_train))\n",
    "print('Test set score:', rfc2.score(tfbowX_test, tfbowy_test))"
   ]
  },
  {
   "cell_type": "markdown",
   "metadata": {},
   "source": [
    "#### Logistic Regression"
   ]
  },
  {
   "cell_type": "code",
   "execution_count": 12,
   "metadata": {},
   "outputs": [
    {
     "name": "stdout",
     "output_type": "stream",
     "text": [
      "Training score: 1.0\n",
      "Test set score: 0.35714285714285715\n"
     ]
    }
   ],
   "source": [
    "lr2 = LogisticRegression(solver='lbfgs', multi_class='auto', max_iter=500)\n",
    "lr2_train = lr2.fit(tfbowX_train, tfbowy_train)\n",
    "\n",
    "print('Training score:', lr2.score(tfbowX_train, tfbowy_train))\n",
    "print('Test set score:', lr2.score(tfbowX_test, tfbowy_test))"
   ]
  },
  {
   "cell_type": "markdown",
   "metadata": {},
   "source": [
    "#### Gradient Boosting"
   ]
  },
  {
   "cell_type": "code",
   "execution_count": 13,
   "metadata": {},
   "outputs": [
    {
     "name": "stdout",
     "output_type": "stream",
     "text": [
      "Training set score: 1.0\n",
      "Test set score: 0.14285714285714285\n"
     ]
    }
   ],
   "source": [
    "clf2 = ensemble.GradientBoostingClassifier()\n",
    "clf2_train = clf2.fit(tfbowX_train, tfbowy_train)\n",
    "\n",
    "print('Training set score:', clf2.score(tfbowX_train, tfbowy_train))\n",
    "print('Test set score:', clf2.score(tfbowX_test, tfbowy_test))"
   ]
  },
  {
   "cell_type": "markdown",
   "metadata": {},
   "source": [
    "# Train-Test Split for various permutations of features/clusters"
   ]
  },
  {
   "cell_type": "code",
   "execution_count": 14,
   "metadata": {},
   "outputs": [],
   "source": [
    "# BoW + (tf-idf based) k-means clusters\n",
    "bowkmX_train, bowkmX_test, bowkmy_train, bowkmy_test = train_test_split(bowclusters_train.drop(columns=['genre', 'text', 'article_words500']), \n",
    "                                                                target, \n",
    "                                                                test_size=.25, \n",
    "                                                                stratify=target, \n",
    "                                                                random_state=24\n",
    ")\n",
    "\n",
    "\n",
    "# tf-idf + (tf-idf based) k-means clusters\n",
    "tfkmX_train, tfkmX_test, tfkmy_train, tfkmy_test = train_test_split(tfidf_clusters_train,\n",
    "                                                                        target,\n",
    "                                                                        test_size=.25,\n",
    "                                                                        stratify=target, \n",
    "                                                                        random_state=24\n",
    ")                      "
   ]
  },
  {
   "cell_type": "markdown",
   "metadata": {},
   "source": [
    "# Supervised Models for BoW Features + K-Means Clusters"
   ]
  },
  {
   "cell_type": "code",
   "execution_count": 15,
   "metadata": {},
   "outputs": [
    {
     "name": "stdout",
     "output_type": "stream",
     "text": [
      "Random Forest\n",
      "Training score: 1.0\n",
      "Test set score: 0.2619047619047619\n",
      "Logistic Regression\n",
      "Training score: 1.0\n",
      "Test set score: 0.35714285714285715\n",
      "Gradient Boosting Classifier\n",
      "Training set score: 1.0\n",
      "Test set score: 0.23809523809523808\n"
     ]
    }
   ],
   "source": [
    "crfc1 = ensemble.RandomForestClassifier(100)\n",
    "crfc1_train = crfc1.fit(bowkmX_train, bowkmy_train)\n",
    "\n",
    "print('Random Forest')\n",
    "print('Training score:', crfc1.score(bowkmX_train, bowkmy_train))\n",
    "print('Test set score:', crfc1.score(bowkmX_test, bowkmy_test))\n",
    "\n",
    "clr1 = LogisticRegression(solver='lbfgs', multi_class='auto', max_iter=500)\n",
    "clr1_train = clr1.fit(bowkmX_train, bowkmy_train)\n",
    "\n",
    "print('Logistic Regression')\n",
    "print('Training score:', clr1.score(bowkmX_train, bowkmy_train))\n",
    "print('Test set score:', clr1.score(bowkmX_test, bowkmy_test))\n",
    "\n",
    "cclf1 = ensemble.GradientBoostingClassifier()\n",
    "cclf1_train = cclf1.fit(bowkmX_train, bowkmy_train)\n",
    "\n",
    "print('Gradient Boosting Classifier')\n",
    "print('Training set score:', cclf1.score(bowkmX_train, bowkmy_train))\n",
    "print('Test set score:', cclf1.score(bowkmX_test, bowkmy_test))"
   ]
  },
  {
   "cell_type": "markdown",
   "metadata": {},
   "source": [
    "# Supervised Models using tf-idf Features and K-Means Clusters"
   ]
  },
  {
   "cell_type": "code",
   "execution_count": 16,
   "metadata": {
    "scrolled": true
   },
   "outputs": [
    {
     "name": "stdout",
     "output_type": "stream",
     "text": [
      "Random Forest\n",
      "Training score: 1.0\n",
      "Test set score: 0.38095238095238093\n",
      "Logistic Regression\n",
      "Training score: 0.9105691056910569\n",
      "Test set score: 0.2857142857142857\n",
      "Gradient Boosting Classifier\n",
      "Training set score: 1.0\n",
      "Test set score: 0.21428571428571427\n"
     ]
    }
   ],
   "source": [
    "crfc2 = ensemble.RandomForestClassifier(100)\n",
    "crfc2_train = crfc2.fit(tfkmX_train, tfkmy_train)\n",
    "\n",
    "print('Random Forest')\n",
    "print('Training score:', crfc2.score(tfkmX_train, tfkmy_train))\n",
    "print('Test set score:', crfc2.score(tfkmX_test, tfkmy_test))\n",
    "\n",
    "clr2 = LogisticRegression(solver='lbfgs', multi_class='auto', max_iter=500)\n",
    "clr2_train = clr2.fit(tfkmX_train, tfkmy_train)\n",
    "\n",
    "print('Logistic Regression')\n",
    "print('Training score:', clr2.score(tfkmX_train, tfkmy_train))\n",
    "print('Test set score:', clr2.score(tfkmX_test, tfkmy_test))\n",
    "\n",
    "cclf2 = ensemble.GradientBoostingClassifier()\n",
    "cclf2_train = cclf2.fit(tfkmX_train, tfkmy_train)\n",
    "\n",
    "print('Gradient Boosting Classifier')\n",
    "print('Training set score:', cclf2.score(tfkmX_train, tfkmy_train))\n",
    "print('Test set score:', cclf2.score(tfkmX_test, tfkmy_test))"
   ]
  },
  {
   "cell_type": "markdown",
   "metadata": {},
   "source": [
    "### Summary:\n",
    "\n",
    "The best feature/model combinations were:\n",
    "- RF/BoW .4047\n",
    "- RF/BoW & tf-idf .3809\n",
    "- RF/BoW + kmeans clusters .4523\n",
    "\n",
    "- Logistic regression scored the same on most of them\n",
    "\n",
    "### I am going to play around a bit with the regularization/min samples parameters."
   ]
  },
  {
   "cell_type": "markdown",
   "metadata": {},
   "source": [
    "# Fine-Tuning the best models"
   ]
  },
  {
   "cell_type": "markdown",
   "metadata": {},
   "source": [
    "### Fine-Tuning the Logistic Regression model."
   ]
  },
  {
   "cell_type": "code",
   "execution_count": 17,
   "metadata": {
    "scrolled": true
   },
   "outputs": [
    {
     "name": "stderr",
     "output_type": "stream",
     "text": [
      "/Library/Frameworks/Python.framework/Versions/3.6/lib/python3.6/site-packages/sklearn/linear_model/logistic.py:757: ConvergenceWarning: lbfgs failed to converge. Increase the number of iterations.\n",
      "  \"of iterations.\", ConvergenceWarning)\n",
      "/Library/Frameworks/Python.framework/Versions/3.6/lib/python3.6/site-packages/sklearn/linear_model/logistic.py:757: ConvergenceWarning: lbfgs failed to converge. Increase the number of iterations.\n",
      "  \"of iterations.\", ConvergenceWarning)\n",
      "/Library/Frameworks/Python.framework/Versions/3.6/lib/python3.6/site-packages/sklearn/linear_model/logistic.py:757: ConvergenceWarning: lbfgs failed to converge. Increase the number of iterations.\n",
      "  \"of iterations.\", ConvergenceWarning)\n",
      "/Library/Frameworks/Python.framework/Versions/3.6/lib/python3.6/site-packages/sklearn/linear_model/sag.py:334: ConvergenceWarning: The max_iter was reached which means the coef_ did not converge\n",
      "  \"the coef_ did not converge\", ConvergenceWarning)\n",
      "/Library/Frameworks/Python.framework/Versions/3.6/lib/python3.6/site-packages/sklearn/linear_model/sag.py:334: ConvergenceWarning: The max_iter was reached which means the coef_ did not converge\n",
      "  \"the coef_ did not converge\", ConvergenceWarning)\n",
      "/Library/Frameworks/Python.framework/Versions/3.6/lib/python3.6/site-packages/sklearn/linear_model/sag.py:334: ConvergenceWarning: The max_iter was reached which means the coef_ did not converge\n",
      "  \"the coef_ did not converge\", ConvergenceWarning)\n",
      "/Library/Frameworks/Python.framework/Versions/3.6/lib/python3.6/site-packages/sklearn/linear_model/sag.py:334: ConvergenceWarning: The max_iter was reached which means the coef_ did not converge\n",
      "  \"the coef_ did not converge\", ConvergenceWarning)\n",
      "/Library/Frameworks/Python.framework/Versions/3.6/lib/python3.6/site-packages/sklearn/linear_model/sag.py:334: ConvergenceWarning: The max_iter was reached which means the coef_ did not converge\n",
      "  \"the coef_ did not converge\", ConvergenceWarning)\n",
      "/Library/Frameworks/Python.framework/Versions/3.6/lib/python3.6/site-packages/sklearn/linear_model/sag.py:334: ConvergenceWarning: The max_iter was reached which means the coef_ did not converge\n",
      "  \"the coef_ did not converge\", ConvergenceWarning)\n",
      "/Library/Frameworks/Python.framework/Versions/3.6/lib/python3.6/site-packages/sklearn/linear_model/sag.py:334: ConvergenceWarning: The max_iter was reached which means the coef_ did not converge\n",
      "  \"the coef_ did not converge\", ConvergenceWarning)\n",
      "/Library/Frameworks/Python.framework/Versions/3.6/lib/python3.6/site-packages/sklearn/linear_model/sag.py:334: ConvergenceWarning: The max_iter was reached which means the coef_ did not converge\n",
      "  \"the coef_ did not converge\", ConvergenceWarning)\n",
      "/Library/Frameworks/Python.framework/Versions/3.6/lib/python3.6/site-packages/sklearn/linear_model/sag.py:334: ConvergenceWarning: The max_iter was reached which means the coef_ did not converge\n",
      "  \"the coef_ did not converge\", ConvergenceWarning)\n",
      "/Library/Frameworks/Python.framework/Versions/3.6/lib/python3.6/site-packages/sklearn/linear_model/sag.py:334: ConvergenceWarning: The max_iter was reached which means the coef_ did not converge\n",
      "  \"the coef_ did not converge\", ConvergenceWarning)\n",
      "/Library/Frameworks/Python.framework/Versions/3.6/lib/python3.6/site-packages/sklearn/linear_model/sag.py:334: ConvergenceWarning: The max_iter was reached which means the coef_ did not converge\n",
      "  \"the coef_ did not converge\", ConvergenceWarning)\n",
      "/Library/Frameworks/Python.framework/Versions/3.6/lib/python3.6/site-packages/sklearn/linear_model/sag.py:334: ConvergenceWarning: The max_iter was reached which means the coef_ did not converge\n",
      "  \"the coef_ did not converge\", ConvergenceWarning)\n",
      "/Library/Frameworks/Python.framework/Versions/3.6/lib/python3.6/site-packages/sklearn/linear_model/sag.py:334: ConvergenceWarning: The max_iter was reached which means the coef_ did not converge\n",
      "  \"the coef_ did not converge\", ConvergenceWarning)\n",
      "/Library/Frameworks/Python.framework/Versions/3.6/lib/python3.6/site-packages/sklearn/linear_model/sag.py:334: ConvergenceWarning: The max_iter was reached which means the coef_ did not converge\n",
      "  \"the coef_ did not converge\", ConvergenceWarning)\n",
      "/Library/Frameworks/Python.framework/Versions/3.6/lib/python3.6/site-packages/sklearn/linear_model/sag.py:334: ConvergenceWarning: The max_iter was reached which means the coef_ did not converge\n",
      "  \"the coef_ did not converge\", ConvergenceWarning)\n",
      "/Library/Frameworks/Python.framework/Versions/3.6/lib/python3.6/site-packages/sklearn/linear_model/sag.py:334: ConvergenceWarning: The max_iter was reached which means the coef_ did not converge\n",
      "  \"the coef_ did not converge\", ConvergenceWarning)\n",
      "/Library/Frameworks/Python.framework/Versions/3.6/lib/python3.6/site-packages/sklearn/model_selection/_search.py:841: DeprecationWarning: The default of the `iid` parameter will change from True to False in version 0.22 and will be removed in 0.24. This will change numeric results when test-set sizes are unequal.\n",
      "  DeprecationWarning)\n",
      "/Library/Frameworks/Python.framework/Versions/3.6/lib/python3.6/site-packages/sklearn/linear_model/sag.py:334: ConvergenceWarning: The max_iter was reached which means the coef_ did not converge\n",
      "  \"the coef_ did not converge\", ConvergenceWarning)\n"
     ]
    },
    {
     "data": {
      "text/plain": [
       "GridSearchCV(cv=5, error_score='raise-deprecating',\n",
       "       estimator=LogisticRegression(C=1.0, class_weight=None, dual=False, fit_intercept=True,\n",
       "          intercept_scaling=1, max_iter=500, multi_class='auto',\n",
       "          n_jobs=None, penalty='l2', random_state=None, solver='lbfgs',\n",
       "          tol=0.0001, verbose=0, warm_start=False),\n",
       "       fit_params=None, iid='warn', n_jobs=None,\n",
       "       param_grid={'solver': ['newton-cg', 'lbfgs', 'liblinear', 'sag', 'saga'], 'multi_class': ['auto'], 'max_iter': [250, 500, 1000]},\n",
       "       pre_dispatch='2*n_jobs', refit=True, return_train_score='warn',\n",
       "       scoring=None, verbose=0)"
      ]
     },
     "execution_count": 17,
     "metadata": {},
     "output_type": "execute_result"
    }
   ],
   "source": [
    "params = {'solver' : ['newton-cg', 'lbfgs', 'liblinear', 'sag', 'saga'], \n",
    "          'multi_class' : ['auto'], \n",
    "          'max_iter' : [250, 500, 1000]}\n",
    "\n",
    "lr_grid = GridSearchCV(lr, param_grid=params, cv=5)\n",
    "lr_grid.fit(bowX_train, bowy_train)"
   ]
  },
  {
   "cell_type": "code",
   "execution_count": 18,
   "metadata": {},
   "outputs": [
    {
     "name": "stdout",
     "output_type": "stream",
     "text": [
      "0.37398373983739835\n",
      "{'max_iter': 250, 'multi_class': 'auto', 'solver': 'sag'}\n"
     ]
    }
   ],
   "source": [
    "print(lr_grid.best_score_)\n",
    "print(lr_grid.best_params_)"
   ]
  },
  {
   "cell_type": "code",
   "execution_count": 19,
   "metadata": {},
   "outputs": [
    {
     "name": "stderr",
     "output_type": "stream",
     "text": [
      "/Library/Frameworks/Python.framework/Versions/3.6/lib/python3.6/site-packages/sklearn/linear_model/sag.py:334: ConvergenceWarning: The max_iter was reached which means the coef_ did not converge\n",
      "  \"the coef_ did not converge\", ConvergenceWarning)\n",
      "/Library/Frameworks/Python.framework/Versions/3.6/lib/python3.6/site-packages/sklearn/linear_model/sag.py:334: ConvergenceWarning: The max_iter was reached which means the coef_ did not converge\n",
      "  \"the coef_ did not converge\", ConvergenceWarning)\n",
      "/Library/Frameworks/Python.framework/Versions/3.6/lib/python3.6/site-packages/sklearn/linear_model/sag.py:334: ConvergenceWarning: The max_iter was reached which means the coef_ did not converge\n",
      "  \"the coef_ did not converge\", ConvergenceWarning)\n",
      "/Library/Frameworks/Python.framework/Versions/3.6/lib/python3.6/site-packages/sklearn/linear_model/sag.py:334: ConvergenceWarning: The max_iter was reached which means the coef_ did not converge\n",
      "  \"the coef_ did not converge\", ConvergenceWarning)\n",
      "/Library/Frameworks/Python.framework/Versions/3.6/lib/python3.6/site-packages/sklearn/linear_model/sag.py:334: ConvergenceWarning: The max_iter was reached which means the coef_ did not converge\n",
      "  \"the coef_ did not converge\", ConvergenceWarning)\n",
      "/Library/Frameworks/Python.framework/Versions/3.6/lib/python3.6/site-packages/sklearn/linear_model/sag.py:334: ConvergenceWarning: The max_iter was reached which means the coef_ did not converge\n",
      "  \"the coef_ did not converge\", ConvergenceWarning)\n",
      "/Library/Frameworks/Python.framework/Versions/3.6/lib/python3.6/site-packages/sklearn/linear_model/sag.py:334: ConvergenceWarning: The max_iter was reached which means the coef_ did not converge\n",
      "  \"the coef_ did not converge\", ConvergenceWarning)\n",
      "/Library/Frameworks/Python.framework/Versions/3.6/lib/python3.6/site-packages/sklearn/linear_model/sag.py:334: ConvergenceWarning: The max_iter was reached which means the coef_ did not converge\n",
      "  \"the coef_ did not converge\", ConvergenceWarning)\n",
      "/Library/Frameworks/Python.framework/Versions/3.6/lib/python3.6/site-packages/sklearn/linear_model/sag.py:334: ConvergenceWarning: The max_iter was reached which means the coef_ did not converge\n",
      "  \"the coef_ did not converge\", ConvergenceWarning)\n",
      "/Library/Frameworks/Python.framework/Versions/3.6/lib/python3.6/site-packages/sklearn/linear_model/sag.py:334: ConvergenceWarning: The max_iter was reached which means the coef_ did not converge\n",
      "  \"the coef_ did not converge\", ConvergenceWarning)\n",
      "/Library/Frameworks/Python.framework/Versions/3.6/lib/python3.6/site-packages/sklearn/model_selection/_search.py:841: DeprecationWarning: The default of the `iid` parameter will change from True to False in version 0.22 and will be removed in 0.24. This will change numeric results when test-set sizes are unequal.\n",
      "  DeprecationWarning)\n"
     ]
    },
    {
     "name": "stdout",
     "output_type": "stream",
     "text": [
      "0.37398373983739835\n",
      "{'max_iter': 250, 'multi_class': 'auto', 'penalty': 'l2', 'solver': 'saga'}\n"
     ]
    },
    {
     "name": "stderr",
     "output_type": "stream",
     "text": [
      "/Library/Frameworks/Python.framework/Versions/3.6/lib/python3.6/site-packages/sklearn/linear_model/sag.py:334: ConvergenceWarning: The max_iter was reached which means the coef_ did not converge\n",
      "  \"the coef_ did not converge\", ConvergenceWarning)\n"
     ]
    }
   ],
   "source": [
    "# Need to do another gridsearch because some of the solvers were not compatible with both penalty options\n",
    "params2 = {'penalty' : ['l1', 'l2'],\n",
    "          'solver' : ['liblinear', 'saga'],\n",
    "          'multi_class' : ['auto'],\n",
    "          'max_iter' : [250]}\n",
    "\n",
    "lr_grid1 = GridSearchCV(lr, param_grid=params2, cv=5)\n",
    "lr_grid1.fit(bowX_train, bowy_train)\n",
    "\n",
    "print(lr_grid1.best_score_)\n",
    "print(lr_grid1.best_params_)"
   ]
  },
  {
   "cell_type": "code",
   "execution_count": 20,
   "metadata": {},
   "outputs": [],
   "source": [
    "lr_best = lr_grid1.best_estimator_"
   ]
  },
  {
   "cell_type": "markdown",
   "metadata": {},
   "source": [
    "### Fine-tuning the Random Forest Model"
   ]
  },
  {
   "cell_type": "code",
   "execution_count": 21,
   "metadata": {},
   "outputs": [
    {
     "name": "stderr",
     "output_type": "stream",
     "text": [
      "/Library/Frameworks/Python.framework/Versions/3.6/lib/python3.6/site-packages/sklearn/model_selection/_search.py:841: DeprecationWarning: The default of the `iid` parameter will change from True to False in version 0.22 and will be removed in 0.24. This will change numeric results when test-set sizes are unequal.\n",
      "  DeprecationWarning)\n"
     ]
    },
    {
     "name": "stdout",
     "output_type": "stream",
     "text": [
      "{'min_samples_split': 5, 'n_estimators': 200} 0.43902439024390244\n"
     ]
    }
   ],
   "source": [
    "rf_params = {'min_samples_split' : [2, 3, 5],\n",
    "            'n_estimators' : [200, 300]}\n",
    "\n",
    "rf_grid = GridSearchCV(crfc1, param_grid=rf_params, cv=5)\n",
    "rf_grid.fit(bowkmX_train, bowkmy_train)\n",
    "\n",
    "print(rf_grid.best_params_, rf_grid.best_score_)"
   ]
  },
  {
   "cell_type": "code",
   "execution_count": 22,
   "metadata": {},
   "outputs": [],
   "source": [
    "r_forest = rf_grid.best_estimator_"
   ]
  },
  {
   "cell_type": "markdown",
   "metadata": {},
   "source": [
    "# Validation Sets"
   ]
  },
  {
   "cell_type": "markdown",
   "metadata": {},
   "source": [
    "I already brought in the validation sets after they went through all the necessary transformations. Now it is time to see how much the models are overfitting."
   ]
  },
  {
   "cell_type": "code",
   "execution_count": 23,
   "metadata": {},
   "outputs": [],
   "source": [
    "X = bowclusters_test.drop(columns=['text', 'genre', 'article_words500'])\n",
    "y = bowclusters_test['genre']"
   ]
  },
  {
   "cell_type": "code",
   "execution_count": 24,
   "metadata": {},
   "outputs": [
    {
     "data": {
      "text/plain": [
       "0.43636363636363634"
      ]
     },
     "execution_count": 24,
     "metadata": {},
     "output_type": "execute_result"
    }
   ],
   "source": [
    "r_forest.fit(bowkmX_train, bowkmy_train)\n",
    "r_forest.score(X, y)"
   ]
  },
  {
   "cell_type": "markdown",
   "metadata": {},
   "source": [
    "I did very little optimization of the models so it is no surprise that it does not seem to be overfitting at all."
   ]
  },
  {
   "cell_type": "code",
   "execution_count": 25,
   "metadata": {},
   "outputs": [
    {
     "name": "stderr",
     "output_type": "stream",
     "text": [
      "/Library/Frameworks/Python.framework/Versions/3.6/lib/python3.6/site-packages/sklearn/linear_model/sag.py:334: ConvergenceWarning: The max_iter was reached which means the coef_ did not converge\n",
      "  \"the coef_ did not converge\", ConvergenceWarning)\n"
     ]
    },
    {
     "data": {
      "text/plain": [
       "0.4"
      ]
     },
     "execution_count": 25,
     "metadata": {},
     "output_type": "execute_result"
    }
   ],
   "source": [
    "lr_best.fit(bowkmX_train, bowkmy_train)\n",
    "lr_best.score(X, y)"
   ]
  },
  {
   "cell_type": "markdown",
   "metadata": {},
   "source": [
    "It is also worth noting that my corpus/sample size is very small."
   ]
  }
 ],
 "metadata": {
  "kernelspec": {
   "display_name": "Python 3",
   "language": "python",
   "name": "python3"
  },
  "language_info": {
   "codemirror_mode": {
    "name": "ipython",
    "version": 3
   },
   "file_extension": ".py",
   "mimetype": "text/x-python",
   "name": "python",
   "nbconvert_exporter": "python",
   "pygments_lexer": "ipython3",
   "version": "3.6.4"
  }
 },
 "nbformat": 4,
 "nbformat_minor": 2
}
