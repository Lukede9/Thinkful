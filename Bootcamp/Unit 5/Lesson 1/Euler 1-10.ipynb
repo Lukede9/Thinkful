{
 "cells": [
  {
   "cell_type": "code",
   "execution_count": 1,
   "metadata": {},
   "outputs": [],
   "source": [
    "import time"
   ]
  },
  {
   "cell_type": "markdown",
   "metadata": {},
   "source": [
    "### Euler 1"
   ]
  },
  {
   "cell_type": "code",
   "execution_count": 2,
   "metadata": {},
   "outputs": [
    {
     "data": {
      "text/plain": [
       "233168"
      ]
     },
     "execution_count": 2,
     "metadata": {},
     "output_type": "execute_result"
    }
   ],
   "source": [
    "mults = []\n",
    "for num in range(1000):\n",
    "    if num % 3 == 0:\n",
    "        mults.append(num)\n",
    "    elif (num % 5 == 0) and (num % 3 != 0):\n",
    "        mults.append(num)\n",
    "sum(mults)"
   ]
  },
  {
   "cell_type": "markdown",
   "metadata": {},
   "source": [
    "### Euler 2"
   ]
  },
  {
   "cell_type": "code",
   "execution_count": 3,
   "metadata": {},
   "outputs": [
    {
     "data": {
      "text/plain": [
       "4613732"
      ]
     },
     "execution_count": 3,
     "metadata": {},
     "output_type": "execute_result"
    }
   ],
   "source": [
    "a = 1\n",
    "b = 2\n",
    "fib = [a, b]\n",
    "while fib[-1] + fib[-2] < 4000000:\n",
    "    fib.append(fib[-1]+fib[-2])\n",
    "    \n",
    "fib_even = []\n",
    "for num in fib:\n",
    "    if num % 2 == 0:\n",
    "        fib_even.append(num)\n",
    "sum(fib_even)"
   ]
  },
  {
   "cell_type": "markdown",
   "metadata": {},
   "source": [
    "### Euler 3"
   ]
  },
  {
   "cell_type": "code",
   "execution_count": 4,
   "metadata": {},
   "outputs": [],
   "source": [
    "# Tells me if the number is prime\n",
    "def is_prime(num):\n",
    "    factors = []\n",
    "    for i in range(1, num+1):\n",
    "        if num % i == 0:\n",
    "            factors.append(i)\n",
    "    if len(factors) == 2:\n",
    "        return True\n",
    "    else:\n",
    "        return False"
   ]
  },
  {
   "cell_type": "code",
   "execution_count": 5,
   "metadata": {},
   "outputs": [],
   "source": [
    "# Tells me the lowest prime factor of a number\n",
    "def lowest_prime_factor(num):\n",
    "    for i in range(2, int(num)):\n",
    "        if (is_prime(i) == True) and (num%i == 0):\n",
    "            return i\n",
    "            "
   ]
  },
  {
   "cell_type": "code",
   "execution_count": 6,
   "metadata": {},
   "outputs": [],
   "source": [
    "# Generates the new, smaller number to factor\n",
    "def new_number(num):\n",
    "    return num / lowest_prime_factor(num)"
   ]
  },
  {
   "cell_type": "code",
   "execution_count": 7,
   "metadata": {},
   "outputs": [
    {
     "data": {
      "text/plain": [
       "6857.0"
      ]
     },
     "execution_count": 7,
     "metadata": {},
     "output_type": "execute_result"
    }
   ],
   "source": [
    "# Solution\n",
    "new_number(new_number(new_number(600851475143)))"
   ]
  },
  {
   "cell_type": "code",
   "execution_count": 8,
   "metadata": {},
   "outputs": [
    {
     "ename": "TypeError",
     "evalue": "unsupported operand type(s) for /: 'float' and 'NoneType'",
     "output_type": "error",
     "traceback": [
      "\u001b[0;31m---------------------------------------------------------------------------\u001b[0m",
      "\u001b[0;31mTypeError\u001b[0m                                 Traceback (most recent call last)",
      "\u001b[0;32m<ipython-input-8-f5e9c8496254>\u001b[0m in \u001b[0;36m<module>\u001b[0;34m()\u001b[0m\n\u001b[0;32m----> 1\u001b[0;31m \u001b[0mnew_number\u001b[0m\u001b[0;34m(\u001b[0m\u001b[0mnew_number\u001b[0m\u001b[0;34m(\u001b[0m\u001b[0mnew_number\u001b[0m\u001b[0;34m(\u001b[0m\u001b[0mnew_number\u001b[0m\u001b[0;34m(\u001b[0m\u001b[0;36m600851475143\u001b[0m\u001b[0;34m)\u001b[0m\u001b[0;34m)\u001b[0m\u001b[0;34m)\u001b[0m\u001b[0;34m)\u001b[0m\u001b[0;34m\u001b[0m\u001b[0m\n\u001b[0m",
      "\u001b[0;32m<ipython-input-6-15b3cd3a990b>\u001b[0m in \u001b[0;36mnew_number\u001b[0;34m(num)\u001b[0m\n\u001b[1;32m      1\u001b[0m \u001b[0;31m# Generates the new, smaller number to factor\u001b[0m\u001b[0;34m\u001b[0m\u001b[0;34m\u001b[0m\u001b[0m\n\u001b[1;32m      2\u001b[0m \u001b[0;32mdef\u001b[0m \u001b[0mnew_number\u001b[0m\u001b[0;34m(\u001b[0m\u001b[0mnum\u001b[0m\u001b[0;34m)\u001b[0m\u001b[0;34m:\u001b[0m\u001b[0;34m\u001b[0m\u001b[0m\n\u001b[0;32m----> 3\u001b[0;31m     \u001b[0;32mreturn\u001b[0m \u001b[0mnum\u001b[0m \u001b[0;34m/\u001b[0m \u001b[0mlowest_prime_factor\u001b[0m\u001b[0;34m(\u001b[0m\u001b[0mnum\u001b[0m\u001b[0;34m)\u001b[0m\u001b[0;34m\u001b[0m\u001b[0m\n\u001b[0m",
      "\u001b[0;31mTypeError\u001b[0m: unsupported operand type(s) for /: 'float' and 'NoneType'"
     ]
    }
   ],
   "source": [
    "new_number(new_number(new_number(new_number(600851475143))))"
   ]
  },
  {
   "cell_type": "markdown",
   "metadata": {},
   "source": [
    "### Euler 4"
   ]
  },
  {
   "cell_type": "code",
   "execution_count": 9,
   "metadata": {},
   "outputs": [],
   "source": [
    "# Tells me if a number is a palindrome\n",
    "def palindrome(number):\n",
    "    if str(number) == str(number)[::-1]:\n",
    "        return True\n",
    "    else: \n",
    "        return False"
   ]
  },
  {
   "cell_type": "code",
   "execution_count": 10,
   "metadata": {},
   "outputs": [],
   "source": [
    "pals = []  # A list of candidate palindromes\n",
    "for number in range((100**2), (999**2)):\n",
    "    if palindrome(number) == True:\n",
    "        pals.append(number)"
   ]
  },
  {
   "cell_type": "code",
   "execution_count": 11,
   "metadata": {},
   "outputs": [],
   "source": [
    "three_digs = range(100, 999)"
   ]
  },
  {
   "cell_type": "code",
   "execution_count": 12,
   "metadata": {},
   "outputs": [],
   "source": [
    "# Tells me if a number is the product of 2 three digit numbers\n",
    "def product_of_three_digit(number):\n",
    "    for num in three_digs:\n",
    "        if (number % num == 0) and (number / num > 100) and (number / num < 999):\n",
    "            return True\n",
    "    return False"
   ]
  },
  {
   "cell_type": "code",
   "execution_count": 13,
   "metadata": {},
   "outputs": [],
   "source": [
    "pal_prods = []\n",
    "for i in pals:\n",
    "    if product_of_three_digit(i) == True:\n",
    "        pal_prods.append(i)"
   ]
  },
  {
   "cell_type": "code",
   "execution_count": 14,
   "metadata": {},
   "outputs": [
    {
     "data": {
      "text/plain": [
       "906609"
      ]
     },
     "execution_count": 14,
     "metadata": {},
     "output_type": "execute_result"
    }
   ],
   "source": [
    "max(pal_prods)"
   ]
  },
  {
   "cell_type": "markdown",
   "metadata": {},
   "source": [
    "### Euler 5"
   ]
  },
  {
   "cell_type": "code",
   "execution_count": 15,
   "metadata": {},
   "outputs": [],
   "source": [
    "# Tells me if a number is divisible by all numbers lower than \"factor\"\n",
    "def divisible_by_all(number, factor):\n",
    "    for num in list(range(factor//2, factor+1)):\n",
    "        if number%num != 0:\n",
    "            return False\n",
    "    return True"
   ]
  },
  {
   "cell_type": "code",
   "execution_count": 16,
   "metadata": {},
   "outputs": [],
   "source": [
    "'''Takes in a start value and a step value-\n",
    "-returns the next value that is a multiple of all the numbers lower\n",
    "than the step value'''\n",
    "\n",
    "def find_next_solution(new_start, step):\n",
    "    for number in list(range(new_start, 1000000000, step)):\n",
    "        if divisible_by_all(number, step) == True:\n",
    "            return (number, step)\n",
    "            break"
   ]
  },
  {
   "cell_type": "code",
   "execution_count": 17,
   "metadata": {},
   "outputs": [],
   "source": [
    "'''Takes the previous solution and a new step value and gives the\n",
    "new value that we will start iterating from'''\n",
    "def find_next_start(previous_solution, new_step):\n",
    "    while previous_solution%new_step != 0:\n",
    "        previous_solution+=1\n",
    "    else:\n",
    "        return previous_solution\n"
   ]
  },
  {
   "cell_type": "code",
   "execution_count": 18,
   "metadata": {},
   "outputs": [
    {
     "name": "stdout",
     "output_type": "stream",
     "text": [
      "(232792560, 20)\n",
      "119.5068769454956\n"
     ]
    }
   ],
   "source": [
    "start = time.time()\n",
    "\n",
    "def combine_recursively(start, step):\n",
    "    step += 1\n",
    "    new_start = find_next_start(start, step)\n",
    "    next_solution = find_next_solution(new_start, step)\n",
    "    if next_solution[1] < 20:\n",
    "        combine_recursively(next_solution[0], next_solution[1])\n",
    "    else: print(next_solution)\n",
    "    \n",
    "    \n",
    "combine_recursively(2520, 10)\n",
    "\n",
    "print(time.time() - start)"
   ]
  },
  {
   "cell_type": "markdown",
   "metadata": {},
   "source": [
    "### Euler 6"
   ]
  },
  {
   "cell_type": "code",
   "execution_count": 19,
   "metadata": {},
   "outputs": [],
   "source": [
    "# Returns square of sum of any number you put in.\n",
    "def square_of_sums(num):\n",
    "    return sum(list(range(num+1)))**2\n",
    "\n",
    "# Returns the sum of all the squares of any number you put in.\n",
    "def sum_of_squares(num):\n",
    "    squares = []\n",
    "    for n in range(1, num+1):\n",
    "        squares.append(n**2)\n",
    "    return(sum(squares))\n",
    "\n",
    "def euler_six(num):\n",
    "    return square_of_sums(num) - sum_of_squares(num)"
   ]
  },
  {
   "cell_type": "code",
   "execution_count": 20,
   "metadata": {},
   "outputs": [
    {
     "data": {
      "text/plain": [
       "25164150"
      ]
     },
     "execution_count": 20,
     "metadata": {},
     "output_type": "execute_result"
    }
   ],
   "source": [
    "euler_six(100)"
   ]
  },
  {
   "cell_type": "markdown",
   "metadata": {},
   "source": [
    "### Euler 7"
   ]
  },
  {
   "cell_type": "code",
   "execution_count": 21,
   "metadata": {},
   "outputs": [],
   "source": [
    "def is_prime(num):\n",
    "    factors = 1\n",
    "    candidate = 1\n",
    "    \n",
    "    while factors <= 2 and candidate <= ((num+1)//2):\n",
    "        if num % candidate == 0:\n",
    "            factors += 1\n",
    "            candidate += 1\n",
    "        else:\n",
    "            candidate += 1\n",
    "    if factors == 2:\n",
    "        return True\n",
    "    else:\n",
    "        return False"
   ]
  },
  {
   "cell_type": "code",
   "execution_count": 22,
   "metadata": {},
   "outputs": [
    {
     "name": "stdout",
     "output_type": "stream",
     "text": [
      "104743 10001\n",
      "83.6501669883728\n"
     ]
    }
   ],
   "source": [
    "start = time.time()\n",
    "\n",
    "primes = [2]\n",
    "ticker = 1\n",
    "n = 3\n",
    "while ticker < 10001:\n",
    "    if ticker < 10001 and is_prime(n) == True:\n",
    "        primes.append(n)\n",
    "        ticker +=1\n",
    "        n += 2\n",
    "    else: n += 2\n",
    "\n",
    "        \n",
    "print((primes[-1]), ticker) \n",
    "    \n",
    "print(time.time()-start)"
   ]
  },
  {
   "cell_type": "markdown",
   "metadata": {},
   "source": [
    "### Euler 8"
   ]
  },
  {
   "cell_type": "code",
   "execution_count": 23,
   "metadata": {},
   "outputs": [
    {
     "name": "stdout",
     "output_type": "stream",
     "text": [
      "23514624000\n"
     ]
    }
   ],
   "source": [
    "thousand_digs = 7316717653133062491922511967442657474235534919493496983520312774506326239578318016984801869478851843858615607891129494954595017379583319528532088055111254069874715852386305071569329096329522744304355766896648950445244523161731856403098711121722383113622298934233803081353362766142828064444866452387493035890729629049156044077239071381051585930796086670172427121883998797908792274921901699720888093776657273330010533678812202354218097512545405947522435258490771167055601360483958644670632441572215539753697817977846174064955149290862569321978468622482839722413756570560574902614079729686524145351004748216637048440319989000889524345065854122758866688116427171479924442928230863465674813919123162824586178664583591245665294765456828489128831426076900422421902267105562632111110937054421750694165896040807198403850962455444362981230987879927244284909188845801561660979191338754992005240636899125607176060588611646710940507754100225698315520005593572972571636269561882670428252483600823257530420752963450\n",
    "str_digs = str(thousand_digs)\n",
    "\n",
    "candidates = []\n",
    "for i in range(13, 1001):\n",
    "    if '0' not in str_digs[(i-13): i]:\n",
    "        candidates.append(str_digs[i-13: i])\n",
    "\n",
    "# Multiplies all digits of a string together\n",
    "def dig_prod(number_string):\n",
    "    prod = 1\n",
    "    for i in number_string:\n",
    "        prod *= int(i)\n",
    "    return prod        \n",
    "        \n",
    "        \n",
    "        \n",
    "candidate_prods = []\n",
    "for i in candidates:\n",
    "    candidate_prods.append(dig_prod(i))\n",
    "\n",
    "print(max(candidate_prods))\n"
   ]
  },
  {
   "cell_type": "markdown",
   "metadata": {},
   "source": [
    "### Euler 9"
   ]
  },
  {
   "cell_type": "code",
   "execution_count": 24,
   "metadata": {},
   "outputs": [],
   "source": [
    "# Checks if the conditions are satisfied\n",
    "def satisfies(a, b, c):\n",
    "    if a**2 + b**2 == c**2 and a+b+c==1000:\n",
    "        return True\n",
    "    else: return False\n",
    "    \n",
    "def solution(a, b, c):\n",
    "    return a*b*c"
   ]
  },
  {
   "cell_type": "code",
   "execution_count": 25,
   "metadata": {},
   "outputs": [],
   "source": [
    "candidate_numbers = list(range(1, 500))"
   ]
  },
  {
   "cell_type": "code",
   "execution_count": 26,
   "metadata": {},
   "outputs": [
    {
     "name": "stdout",
     "output_type": "stream",
     "text": [
      "200 375 425\n"
     ]
    }
   ],
   "source": [
    "a = 1\n",
    "b = 2\n",
    "c = 3\n",
    "\n",
    "for n in candidate_numbers:\n",
    "    a = n\n",
    "    for nu in range((a+1), (1000-a)):\n",
    "        b = nu\n",
    "        c = 1000 - (a+b)\n",
    "        if satisfies(a, b, c) == True:\n",
    "            print(a, b, c)"
   ]
  },
  {
   "cell_type": "code",
   "execution_count": 27,
   "metadata": {},
   "outputs": [
    {
     "data": {
      "text/plain": [
       "31875000"
      ]
     },
     "execution_count": 27,
     "metadata": {},
     "output_type": "execute_result"
    }
   ],
   "source": [
    "solution(200, 375, 425)"
   ]
  },
  {
   "cell_type": "markdown",
   "metadata": {},
   "source": [
    "### Euler 10"
   ]
  },
  {
   "cell_type": "code",
   "execution_count": 28,
   "metadata": {},
   "outputs": [],
   "source": [
    "def is_prime(num):\n",
    "    for i in range(2, round(num**.5)+1):\n",
    "        if num % i == 0:\n",
    "            return False\n",
    "    return True"
   ]
  },
  {
   "cell_type": "code",
   "execution_count": 29,
   "metadata": {},
   "outputs": [
    {
     "name": "stdout",
     "output_type": "stream",
     "text": [
      "142913828922\n",
      "23.524300813674927\n"
     ]
    }
   ],
   "source": [
    "start = time.time()\n",
    "\n",
    "primes = []\n",
    "for n in range(2, 2000000):\n",
    "    if is_prime(n) == True:\n",
    "        primes.append(n)\n",
    "\n",
    "print(sum(primes))\n",
    "print(time.time() - start)"
   ]
  }
 ],
 "metadata": {
  "kernelspec": {
   "display_name": "Python 3",
   "language": "python",
   "name": "python3"
  },
  "language_info": {
   "codemirror_mode": {
    "name": "ipython",
    "version": 3
   },
   "file_extension": ".py",
   "mimetype": "text/x-python",
   "name": "python",
   "nbconvert_exporter": "python",
   "pygments_lexer": "ipython3",
   "version": "3.6.4"
  }
 },
 "nbformat": 4,
 "nbformat_minor": 2
}
