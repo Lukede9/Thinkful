{
 "cells": [
  {
   "cell_type": "markdown",
   "metadata": {},
   "source": [
    "# Used Car Appraisal"
   ]
  },
  {
   "cell_type": "markdown",
   "metadata": {},
   "source": [
    "### Data: \n",
    "For this project, I used a [dataset found on Kaggle.com](https://www.kaggle.com/orgesleka/used-cars-database/home) containing information scraped from 350,000+ German eBay pages. They were all in German and included relevant information for car shoppers such as the type of car and the mileage."
   ]
  },
  {
   "cell_type": "markdown",
   "metadata": {},
   "source": [
    "### What I did with it:\n",
    "- Explored and cleaned the data [here.](https://github.com/Lukede9/Thinkful/blob/master/Final%20Capstone/Used%20Cars%20EDA.ipynb)\n",
    "- Created models to predict the price of a car based on other car features [here.](https://github.com/Lukede9/Thinkful/blob/master/Final%20Capstone/Used%20Cars%20Models.ipynb)\n",
    "- Scraped a fresh dataset from eBay Kleinanzeigen and made it to match the initial one in format [here.](https://github.com/Lukede9/Thinkful/blob/master/Final%20Capstone/eBay%20Scraper.ipynb)\n",
    "- Predicted the eBay selling price of the cars in my new dataset to identify underpriced cars [(Bottom of models notebook)](https://github.com/Lukede9/Thinkful/blob/master/Final%20Capstone/Used%20Cars%20Models.ipynb).\n",
    "- Explained my process in detail through a slide deck [here.](https://docs.google.com/presentation/d/1KNIHyU9f_8sHPtJPl8_7xGWiUKiRQWzdaR5oo-JOWMA/edit?usp=sharing)"
   ]
  }
 ],
 "metadata": {
  "kernelspec": {
   "display_name": "Python 3",
   "language": "python",
   "name": "python3"
  },
  "language_info": {
   "codemirror_mode": {
    "name": "ipython",
    "version": 3
   },
   "file_extension": ".py",
   "mimetype": "text/x-python",
   "name": "python",
   "nbconvert_exporter": "python",
   "pygments_lexer": "ipython3",
   "version": "3.6.4"
  }
 },
 "nbformat": 4,
 "nbformat_minor": 2
}
