{
 "cells": [
  {
   "cell_type": "markdown",
   "metadata": {},
   "source": [
    "# Used Car Models"
   ]
  },
  {
   "cell_type": "markdown",
   "metadata": {},
   "source": [
    "### In this notebook:\n",
    "I will attempt to use car details to predict the price of a used car. I will be using data that I cleaned in another notebook."
   ]
  },
  {
   "cell_type": "code",
   "execution_count": 1,
   "metadata": {},
   "outputs": [
    {
     "name": "stdout",
     "output_type": "stream",
     "text": [
      "1.12.0\n"
     ]
    }
   ],
   "source": [
    "import time\n",
    "\n",
    "import numpy as np\n",
    "import pandas as pd\n",
    "\n",
    "import matplotlib.pyplot as plt\n",
    "import seaborn as sns\n",
    "\n",
    "import sklearn\n",
    "from sklearn.model_selection import train_test_split\n",
    "\n",
    "from sklearn import ensemble\n",
    "from sklearn.neighbors import KNeighborsClassifier\n",
    "from sklearn.svm import SVC\n",
    "from sklearn import tree\n",
    "from sklearn.linear_model import LogisticRegression\n",
    "\n",
    "from sklearn.model_selection import GridSearchCV\n",
    "\n",
    "import tensorflow as tf\n",
    "from tensorflow import keras\n",
    "from tensorflow.keras import layers\n",
    "\n",
    "print(tf.__version__)"
   ]
  },
  {
   "cell_type": "code",
   "execution_count": 2,
   "metadata": {},
   "outputs": [],
   "source": [
    "# Bringing in the data from the other notebook\n",
    "autos_import = pd.read_csv(\"autos_export.csv\", index_col=0)\n",
    "\n",
    "# The newly scraped data\n",
    "new_used_cars = pd.read_csv('new_used_cars.csv', index_col=0)"
   ]
  },
  {
   "cell_type": "code",
   "execution_count": 3,
   "metadata": {},
   "outputs": [
    {
     "data": {
      "text/plain": [
       "(180, 11)"
      ]
     },
     "execution_count": 3,
     "metadata": {},
     "output_type": "execute_result"
    }
   ],
   "source": [
    "new_used_cars.shape"
   ]
  },
  {
   "cell_type": "code",
   "execution_count": 4,
   "metadata": {},
   "outputs": [],
   "source": [
    "# Sampling down because my computer is weak\n",
    "autos_sample = autos_import.sample(n=25000, random_state=24)\n",
    "\n",
    "# Combining the two datasets\n",
    "autos = pd.concat([autos_sample, new_used_cars], axis=0)"
   ]
  },
  {
   "cell_type": "code",
   "execution_count": 5,
   "metadata": {},
   "outputs": [
    {
     "data": {
      "text/html": [
       "<div>\n",
       "<style scoped>\n",
       "    .dataframe tbody tr th:only-of-type {\n",
       "        vertical-align: middle;\n",
       "    }\n",
       "\n",
       "    .dataframe tbody tr th {\n",
       "        vertical-align: top;\n",
       "    }\n",
       "\n",
       "    .dataframe thead th {\n",
       "        text-align: right;\n",
       "    }\n",
       "</style>\n",
       "<table border=\"1\" class=\"dataframe\">\n",
       "  <thead>\n",
       "    <tr style=\"text-align: right;\">\n",
       "      <th></th>\n",
       "      <th>age</th>\n",
       "      <th>brand</th>\n",
       "      <th>fuelType</th>\n",
       "      <th>gearbox</th>\n",
       "      <th>kilometer</th>\n",
       "      <th>model</th>\n",
       "      <th>name</th>\n",
       "      <th>notRepairedDamage</th>\n",
       "      <th>powerPS</th>\n",
       "      <th>price</th>\n",
       "      <th>vehicleType</th>\n",
       "    </tr>\n",
       "  </thead>\n",
       "  <tbody>\n",
       "    <tr>\n",
       "      <th>135357</th>\n",
       "      <td>14.0</td>\n",
       "      <td>ford</td>\n",
       "      <td>benzin</td>\n",
       "      <td>manuell</td>\n",
       "      <td>150000</td>\n",
       "      <td>fiesta</td>\n",
       "      <td>Ford_Fiesta_Mod.2005</td>\n",
       "      <td>nein</td>\n",
       "      <td>60.0</td>\n",
       "      <td>1830.0</td>\n",
       "      <td>kleinwagen</td>\n",
       "    </tr>\n",
       "    <tr>\n",
       "      <th>57557</th>\n",
       "      <td>6.0</td>\n",
       "      <td>opel</td>\n",
       "      <td>benzin</td>\n",
       "      <td>manuell</td>\n",
       "      <td>50000</td>\n",
       "      <td>astra</td>\n",
       "      <td>Opel_Astra_1_4_Sports_Tourer_Kombi_Limosine__T...</td>\n",
       "      <td>nein</td>\n",
       "      <td>140.0</td>\n",
       "      <td>12500.0</td>\n",
       "      <td>limousine</td>\n",
       "    </tr>\n",
       "    <tr>\n",
       "      <th>30729</th>\n",
       "      <td>14.0</td>\n",
       "      <td>bmw</td>\n",
       "      <td>diesel</td>\n",
       "      <td>automatik</td>\n",
       "      <td>150000</td>\n",
       "      <td>x_reihe</td>\n",
       "      <td>BMW_X3_3.0_D</td>\n",
       "      <td>nein</td>\n",
       "      <td>204.0</td>\n",
       "      <td>10500.0</td>\n",
       "      <td>suv</td>\n",
       "    </tr>\n",
       "    <tr>\n",
       "      <th>249210</th>\n",
       "      <td>11.0</td>\n",
       "      <td>seat</td>\n",
       "      <td>benzin</td>\n",
       "      <td>manuell</td>\n",
       "      <td>125000</td>\n",
       "      <td>ibiza</td>\n",
       "      <td>Seat_Ibiza_1.2_12V__Klimaautomatik</td>\n",
       "      <td>blank</td>\n",
       "      <td>69.0</td>\n",
       "      <td>2800.0</td>\n",
       "      <td>kleinwagen</td>\n",
       "    </tr>\n",
       "    <tr>\n",
       "      <th>159151</th>\n",
       "      <td>11.0</td>\n",
       "      <td>suzuki</td>\n",
       "      <td>benzin</td>\n",
       "      <td>manuell</td>\n",
       "      <td>80000</td>\n",
       "      <td>swift</td>\n",
       "      <td>Suzuki_Swift_mit_neuem_Tuev</td>\n",
       "      <td>blank</td>\n",
       "      <td>92.0</td>\n",
       "      <td>3999.0</td>\n",
       "      <td>kleinwagen</td>\n",
       "    </tr>\n",
       "  </tbody>\n",
       "</table>\n",
       "</div>"
      ],
      "text/plain": [
       "         age   brand fuelType    gearbox  kilometer    model  \\\n",
       "135357  14.0    ford   benzin    manuell     150000   fiesta   \n",
       "57557    6.0    opel   benzin    manuell      50000    astra   \n",
       "30729   14.0     bmw   diesel  automatik     150000  x_reihe   \n",
       "249210  11.0    seat   benzin    manuell     125000    ibiza   \n",
       "159151  11.0  suzuki   benzin    manuell      80000    swift   \n",
       "\n",
       "                                                     name notRepairedDamage  \\\n",
       "135357                               Ford_Fiesta_Mod.2005              nein   \n",
       "57557   Opel_Astra_1_4_Sports_Tourer_Kombi_Limosine__T...              nein   \n",
       "30729                                        BMW_X3_3.0_D              nein   \n",
       "249210                 Seat_Ibiza_1.2_12V__Klimaautomatik             blank   \n",
       "159151                        Suzuki_Swift_mit_neuem_Tuev             blank   \n",
       "\n",
       "        powerPS    price vehicleType  \n",
       "135357     60.0   1830.0  kleinwagen  \n",
       "57557     140.0  12500.0   limousine  \n",
       "30729     204.0  10500.0         suv  \n",
       "249210     69.0   2800.0  kleinwagen  \n",
       "159151     92.0   3999.0  kleinwagen  "
      ]
     },
     "execution_count": 5,
     "metadata": {},
     "output_type": "execute_result"
    }
   ],
   "source": [
    "autos.head()"
   ]
  },
  {
   "cell_type": "code",
   "execution_count": 6,
   "metadata": {
    "scrolled": true
   },
   "outputs": [
    {
     "name": "stdout",
     "output_type": "stream",
     "text": [
      "<class 'pandas.core.frame.DataFrame'>\n",
      "Int64Index: 25180 entries, 135357 to 255\n",
      "Data columns (total 11 columns):\n",
      "age                  25180 non-null float64\n",
      "brand                25180 non-null object\n",
      "fuelType             25180 non-null object\n",
      "gearbox              25180 non-null object\n",
      "kilometer            25180 non-null int64\n",
      "model                25180 non-null object\n",
      "name                 25180 non-null object\n",
      "notRepairedDamage    25180 non-null object\n",
      "powerPS              25180 non-null float64\n",
      "price                25180 non-null float64\n",
      "vehicleType          25180 non-null object\n",
      "dtypes: float64(3), int64(1), object(7)\n",
      "memory usage: 2.3+ MB\n"
     ]
    }
   ],
   "source": [
    "# Looking good\n",
    "autos.info()"
   ]
  },
  {
   "cell_type": "code",
   "execution_count": 7,
   "metadata": {},
   "outputs": [],
   "source": [
    "# Splitting categorical and continuous data so I can make dummies\n",
    "autos_cat = autos.select_dtypes(exclude=['float', 'int'])\n",
    "autos_cont = autos.select_dtypes(include=['float', 'int'])"
   ]
  },
  {
   "cell_type": "code",
   "execution_count": 8,
   "metadata": {},
   "outputs": [],
   "source": [
    "# Creating dummy variabels out of the categorical variables\n",
    "autos_dummies = autos_cat.drop(columns=['name'])\n",
    "autos_dummies = pd.get_dummies(autos_dummies)"
   ]
  },
  {
   "cell_type": "code",
   "execution_count": 9,
   "metadata": {},
   "outputs": [],
   "source": [
    "combined_datasets = pd.concat([autos_cont.drop(columns=['price']), autos_dummies], axis=1)"
   ]
  },
  {
   "cell_type": "code",
   "execution_count": 10,
   "metadata": {},
   "outputs": [],
   "source": [
    "features = combined_datasets.iloc[:(len(combined_datasets)-180)]\n",
    "outcome = autos.price.iloc[:(len(combined_datasets)-180)]"
   ]
  },
  {
   "cell_type": "code",
   "execution_count": 11,
   "metadata": {},
   "outputs": [],
   "source": [
    "later_features = combined_datasets.iloc[(len(combined_datasets)-180):]\n",
    "later_outcome = autos.price.iloc[(len(combined_datasets)-180):]"
   ]
  },
  {
   "cell_type": "code",
   "execution_count": 12,
   "metadata": {},
   "outputs": [],
   "source": [
    "X_train, X_test, y_train, y_test = train_test_split(features, \n",
    "                                                    outcome,\n",
    "                                                    test_size=.3,\n",
    "                                                    random_state=24)"
   ]
  },
  {
   "cell_type": "code",
   "execution_count": 13,
   "metadata": {},
   "outputs": [
    {
     "data": {
      "text/html": [
       "<div>\n",
       "<style scoped>\n",
       "    .dataframe tbody tr th:only-of-type {\n",
       "        vertical-align: middle;\n",
       "    }\n",
       "\n",
       "    .dataframe tbody tr th {\n",
       "        vertical-align: top;\n",
       "    }\n",
       "\n",
       "    .dataframe thead th {\n",
       "        text-align: right;\n",
       "    }\n",
       "</style>\n",
       "<table border=\"1\" class=\"dataframe\">\n",
       "  <thead>\n",
       "    <tr style=\"text-align: right;\">\n",
       "      <th></th>\n",
       "      <th>age</th>\n",
       "      <th>kilometer</th>\n",
       "      <th>powerPS</th>\n",
       "      <th>brand_alfa romeo</th>\n",
       "      <th>brand_alfa_romeo</th>\n",
       "      <th>brand_audi</th>\n",
       "      <th>brand_bmw</th>\n",
       "      <th>brand_chevrolet</th>\n",
       "      <th>brand_chrysler</th>\n",
       "      <th>brand_citroen</th>\n",
       "      <th>...</th>\n",
       "      <th>notRepairedDamage_ja</th>\n",
       "      <th>notRepairedDamage_nein</th>\n",
       "      <th>vehicleType_andere</th>\n",
       "      <th>vehicleType_bus</th>\n",
       "      <th>vehicleType_cabrio</th>\n",
       "      <th>vehicleType_coupe</th>\n",
       "      <th>vehicleType_kleinwagen</th>\n",
       "      <th>vehicleType_kombi</th>\n",
       "      <th>vehicleType_limousine</th>\n",
       "      <th>vehicleType_suv</th>\n",
       "    </tr>\n",
       "  </thead>\n",
       "  <tbody>\n",
       "    <tr>\n",
       "      <th>277428</th>\n",
       "      <td>22.0</td>\n",
       "      <td>150000</td>\n",
       "      <td>75.0</td>\n",
       "      <td>0</td>\n",
       "      <td>0</td>\n",
       "      <td>0</td>\n",
       "      <td>0</td>\n",
       "      <td>0</td>\n",
       "      <td>0</td>\n",
       "      <td>0</td>\n",
       "      <td>...</td>\n",
       "      <td>0</td>\n",
       "      <td>0</td>\n",
       "      <td>0</td>\n",
       "      <td>0</td>\n",
       "      <td>0</td>\n",
       "      <td>0</td>\n",
       "      <td>0</td>\n",
       "      <td>0</td>\n",
       "      <td>1</td>\n",
       "      <td>0</td>\n",
       "    </tr>\n",
       "    <tr>\n",
       "      <th>147288</th>\n",
       "      <td>21.0</td>\n",
       "      <td>150000</td>\n",
       "      <td>139.0</td>\n",
       "      <td>0</td>\n",
       "      <td>0</td>\n",
       "      <td>0</td>\n",
       "      <td>1</td>\n",
       "      <td>0</td>\n",
       "      <td>0</td>\n",
       "      <td>0</td>\n",
       "      <td>...</td>\n",
       "      <td>0</td>\n",
       "      <td>1</td>\n",
       "      <td>0</td>\n",
       "      <td>0</td>\n",
       "      <td>1</td>\n",
       "      <td>0</td>\n",
       "      <td>0</td>\n",
       "      <td>0</td>\n",
       "      <td>0</td>\n",
       "      <td>0</td>\n",
       "    </tr>\n",
       "    <tr>\n",
       "      <th>271765</th>\n",
       "      <td>26.0</td>\n",
       "      <td>150000</td>\n",
       "      <td>150.0</td>\n",
       "      <td>0</td>\n",
       "      <td>0</td>\n",
       "      <td>1</td>\n",
       "      <td>0</td>\n",
       "      <td>0</td>\n",
       "      <td>0</td>\n",
       "      <td>0</td>\n",
       "      <td>...</td>\n",
       "      <td>0</td>\n",
       "      <td>1</td>\n",
       "      <td>0</td>\n",
       "      <td>0</td>\n",
       "      <td>0</td>\n",
       "      <td>1</td>\n",
       "      <td>0</td>\n",
       "      <td>0</td>\n",
       "      <td>0</td>\n",
       "      <td>0</td>\n",
       "    </tr>\n",
       "    <tr>\n",
       "      <th>179659</th>\n",
       "      <td>13.0</td>\n",
       "      <td>150000</td>\n",
       "      <td>116.0</td>\n",
       "      <td>0</td>\n",
       "      <td>0</td>\n",
       "      <td>0</td>\n",
       "      <td>0</td>\n",
       "      <td>0</td>\n",
       "      <td>0</td>\n",
       "      <td>0</td>\n",
       "      <td>...</td>\n",
       "      <td>0</td>\n",
       "      <td>1</td>\n",
       "      <td>0</td>\n",
       "      <td>0</td>\n",
       "      <td>0</td>\n",
       "      <td>0</td>\n",
       "      <td>0</td>\n",
       "      <td>0</td>\n",
       "      <td>1</td>\n",
       "      <td>0</td>\n",
       "    </tr>\n",
       "    <tr>\n",
       "      <th>108415</th>\n",
       "      <td>10.0</td>\n",
       "      <td>125000</td>\n",
       "      <td>170.0</td>\n",
       "      <td>0</td>\n",
       "      <td>0</td>\n",
       "      <td>0</td>\n",
       "      <td>0</td>\n",
       "      <td>0</td>\n",
       "      <td>0</td>\n",
       "      <td>0</td>\n",
       "      <td>...</td>\n",
       "      <td>0</td>\n",
       "      <td>1</td>\n",
       "      <td>0</td>\n",
       "      <td>0</td>\n",
       "      <td>0</td>\n",
       "      <td>0</td>\n",
       "      <td>0</td>\n",
       "      <td>1</td>\n",
       "      <td>0</td>\n",
       "      <td>0</td>\n",
       "    </tr>\n",
       "  </tbody>\n",
       "</table>\n",
       "<p>5 rows × 167 columns</p>\n",
       "</div>"
      ],
      "text/plain": [
       "         age  kilometer  powerPS  brand_alfa romeo  brand_alfa_romeo  \\\n",
       "277428  22.0     150000     75.0                 0                 0   \n",
       "147288  21.0     150000    139.0                 0                 0   \n",
       "271765  26.0     150000    150.0                 0                 0   \n",
       "179659  13.0     150000    116.0                 0                 0   \n",
       "108415  10.0     125000    170.0                 0                 0   \n",
       "\n",
       "        brand_audi  brand_bmw  brand_chevrolet  brand_chrysler  brand_citroen  \\\n",
       "277428           0          0                0               0              0   \n",
       "147288           0          1                0               0              0   \n",
       "271765           1          0                0               0              0   \n",
       "179659           0          0                0               0              0   \n",
       "108415           0          0                0               0              0   \n",
       "\n",
       "             ...         notRepairedDamage_ja  notRepairedDamage_nein  \\\n",
       "277428       ...                            0                       0   \n",
       "147288       ...                            0                       1   \n",
       "271765       ...                            0                       1   \n",
       "179659       ...                            0                       1   \n",
       "108415       ...                            0                       1   \n",
       "\n",
       "        vehicleType_andere  vehicleType_bus  vehicleType_cabrio  \\\n",
       "277428                   0                0                   0   \n",
       "147288                   0                0                   1   \n",
       "271765                   0                0                   0   \n",
       "179659                   0                0                   0   \n",
       "108415                   0                0                   0   \n",
       "\n",
       "        vehicleType_coupe  vehicleType_kleinwagen  vehicleType_kombi  \\\n",
       "277428                  0                       0                  0   \n",
       "147288                  0                       0                  0   \n",
       "271765                  1                       0                  0   \n",
       "179659                  0                       0                  0   \n",
       "108415                  0                       0                  1   \n",
       "\n",
       "        vehicleType_limousine  vehicleType_suv  \n",
       "277428                      1                0  \n",
       "147288                      0                0  \n",
       "271765                      0                0  \n",
       "179659                      1                0  \n",
       "108415                      0                0  \n",
       "\n",
       "[5 rows x 167 columns]"
      ]
     },
     "execution_count": 13,
     "metadata": {},
     "output_type": "execute_result"
    }
   ],
   "source": [
    "X_train.head()"
   ]
  },
  {
   "cell_type": "markdown",
   "metadata": {},
   "source": [
    "### Scaling\n",
    "StandardScaler is useful if there are large outliers. But I dealt with that thoroughly in my cleaning process. MinMaxScaler is useful for the neural networks that I will be trying later so I will use that."
   ]
  },
  {
   "cell_type": "code",
   "execution_count": 14,
   "metadata": {},
   "outputs": [
    {
     "name": "stderr",
     "output_type": "stream",
     "text": [
      "/Library/Frameworks/Python.framework/Versions/3.6/lib/python3.6/site-packages/sklearn/preprocessing/data.py:323: DataConversionWarning: Data with input dtype uint8, int64, float64 were all converted to float64 by MinMaxScaler.\n",
      "  return self.partial_fit(X, y)\n",
      "/Library/Frameworks/Python.framework/Versions/3.6/lib/python3.6/site-packages/sklearn/preprocessing/data.py:323: DataConversionWarning: Data with input dtype uint8, int64, float64 were all converted to float64 by MinMaxScaler.\n",
      "  return self.partial_fit(X, y)\n"
     ]
    }
   ],
   "source": [
    "# MinMaxScaler\n",
    "mms = sklearn.preprocessing.MinMaxScaler()\n",
    "X_train_scaled = mms.fit_transform(X_train)\n",
    "X_test_scaled = mms.fit_transform(X_test)"
   ]
  },
  {
   "cell_type": "markdown",
   "metadata": {},
   "source": [
    "### K Nearest Neighbors"
   ]
  },
  {
   "cell_type": "code",
   "execution_count": 15,
   "metadata": {},
   "outputs": [
    {
     "name": "stdout",
     "output_type": "stream",
     "text": [
      "0.6293126575672813\n",
      "25.38869285583496\n"
     ]
    }
   ],
   "source": [
    "# Using default parameters\n",
    "start = time.time()\n",
    "\n",
    "knn = sklearn.neighbors.KNeighborsRegressor()\n",
    "knn.fit(X_train_scaled, y_train)\n",
    "knn_preds = knn.predict(X_test_scaled)\n",
    "print(sklearn.metrics.r2_score(y_test, knn_preds))\n",
    "\n",
    "knn_time = time.time() - start\n",
    "print(knn_time)"
   ]
  },
  {
   "cell_type": "markdown",
   "metadata": {},
   "source": [
    "### Random Forest"
   ]
  },
  {
   "cell_type": "code",
   "execution_count": 16,
   "metadata": {},
   "outputs": [
    {
     "name": "stderr",
     "output_type": "stream",
     "text": [
      "/Library/Frameworks/Python.framework/Versions/3.6/lib/python3.6/site-packages/sklearn/ensemble/forest.py:248: FutureWarning: The default value of n_estimators will change from 10 in version 0.20 to 100 in 0.22.\n",
      "  \"10 in version 0.20 to 100 in 0.22.\", FutureWarning)\n"
     ]
    },
    {
     "name": "stdout",
     "output_type": "stream",
     "text": [
      "0.8177188967137915\n",
      "2.5202600955963135\n"
     ]
    }
   ],
   "source": [
    "# Using default parameters\n",
    "start = time.time()\n",
    "\n",
    "rfc = ensemble.RandomForestRegressor(random_state=24)\n",
    "rfc.fit(X_train, y_train)\n",
    "rfc_preds = rfc.predict(X_test)\n",
    "print(sklearn.metrics.r2_score(y_test, rfc_preds))\n",
    "\n",
    "rfc_time = time.time() - start\n",
    "print(rfc_time)"
   ]
  },
  {
   "cell_type": "markdown",
   "metadata": {},
   "source": [
    "### Gradient Boosting"
   ]
  },
  {
   "cell_type": "code",
   "execution_count": 17,
   "metadata": {},
   "outputs": [
    {
     "name": "stdout",
     "output_type": "stream",
     "text": [
      "0.7818630029084347\n",
      "6.794547080993652\n"
     ]
    }
   ],
   "source": [
    "# Using default parameters\n",
    "start = time.time()\n",
    "\n",
    "gbc = ensemble.GradientBoostingRegressor()\n",
    "gbc.fit(X_train, y_train)\n",
    "gbc_preds = gbc.predict(X_test)\n",
    "print(sklearn.metrics.r2_score(y_test, gbc_preds))\n",
    "\n",
    "gbc_time = time.time() - start\n",
    "print(gbc_time)"
   ]
  },
  {
   "cell_type": "markdown",
   "metadata": {},
   "source": [
    "Random Forest and Gradient boosting are significantly faster and more accurate than KNN so I will focus in on those."
   ]
  },
  {
   "cell_type": "markdown",
   "metadata": {},
   "source": [
    "### Optimized Random Forest"
   ]
  },
  {
   "cell_type": "code",
   "execution_count": 18,
   "metadata": {},
   "outputs": [],
   "source": [
    "# rfr_params =[{'n_estimators':[10, 90, 100, 200, 300, 400],\n",
    "#              'max_features' : ['auto', 'sqrt', 'log2'],\n",
    "#              'min_sample_split' [2, 10]\n",
    "# }]\n",
    "# I commented this out because it takes forever to run. It chose the defult parameters with 'n_estimators' = 300"
   ]
  },
  {
   "cell_type": "code",
   "execution_count": 19,
   "metadata": {},
   "outputs": [],
   "source": [
    "# rfr_search = GridSearchCV(estimator=rfc, param_grid=rfr_params, scoring='r2', cv=5)\n",
    "# rfr_search.fit(X_train, y_train)\n",
    "# tuned_rfr = rfr_search.best_estimator_"
   ]
  },
  {
   "cell_type": "code",
   "execution_count": 23,
   "metadata": {},
   "outputs": [
    {
     "data": {
      "text/plain": [
       "RandomForestRegressor(bootstrap=True, criterion='mse', max_depth=None,\n",
       "           max_features='auto', max_leaf_nodes=None,\n",
       "           min_impurity_decrease=0.0, min_impurity_split=None,\n",
       "           min_samples_leaf=1, min_samples_split=2,\n",
       "           min_weight_fraction_leaf=0.0, n_estimators=300, n_jobs=None,\n",
       "           oob_score=False, random_state=24, verbose=0, warm_start=False)"
      ]
     },
     "execution_count": 23,
     "metadata": {},
     "output_type": "execute_result"
    }
   ],
   "source": [
    "tuned_rfr = ensemble.RandomForestRegressor(n_estimators=300, random_state=24)\n",
    "tuned_rfr.fit(X_train, y_train)"
   ]
  },
  {
   "cell_type": "code",
   "execution_count": 25,
   "metadata": {},
   "outputs": [
    {
     "name": "stdout",
     "output_type": "stream",
     "text": [
      "0.8221253693854778\n"
     ]
    }
   ],
   "source": [
    "tuned_rfr_preds = tuned_rfr.predict(X_test)\n",
    "print(sklearn.metrics.r2_score(y_test, tuned_rfr_preds))"
   ]
  },
  {
   "cell_type": "markdown",
   "metadata": {},
   "source": [
    "### Optimized Gradient Boosting"
   ]
  },
  {
   "cell_type": "code",
   "execution_count": null,
   "metadata": {},
   "outputs": [],
   "source": [
    "# gbc_params = [{'learning_rate' : [.05, .09, .1, .15, .25, .3], \n",
    "#                'n_estimators' : [100, 150, 200, 250, 350, 400, 500, 600]\n",
    "# }]\n",
    "\n",
    "# I commented this out so I would not have to run it again and again. It chose learning_rate=0.25 and\n",
    "# n_estimators=400"
   ]
  },
  {
   "cell_type": "code",
   "execution_count": null,
   "metadata": {},
   "outputs": [],
   "source": [
    "# gbc_search = GridSearchCV(estimator=gbc, param_grid=gbc_params, scoring='r2', cv=5)\n",
    "# gbc_search.fit(X_train, y_train)\n",
    "# tuned_gbc = gbc_search.best_estimator_"
   ]
  },
  {
   "cell_type": "code",
   "execution_count": 27,
   "metadata": {},
   "outputs": [
    {
     "data": {
      "text/plain": [
       "GradientBoostingRegressor(alpha=0.9, criterion='friedman_mse', init=None,\n",
       "             learning_rate=0.25, loss='ls', max_depth=3, max_features=None,\n",
       "             max_leaf_nodes=None, min_impurity_decrease=0.0,\n",
       "             min_impurity_split=None, min_samples_leaf=1,\n",
       "             min_samples_split=2, min_weight_fraction_leaf=0.0,\n",
       "             n_estimators=400, n_iter_no_change=None, presort='auto',\n",
       "             random_state=None, subsample=1.0, tol=0.0001,\n",
       "             validation_fraction=0.1, verbose=0, warm_start=False)"
      ]
     },
     "execution_count": 27,
     "metadata": {},
     "output_type": "execute_result"
    }
   ],
   "source": [
    "# Ended up choosing learning rate of .25 and 400 estimators\n",
    "tuned_gbr = ensemble.GradientBoostingRegressor(learning_rate=0.25, n_estimators=400)\n",
    "tuned_gbr.fit(X_train, y_train)"
   ]
  },
  {
   "cell_type": "code",
   "execution_count": 29,
   "metadata": {},
   "outputs": [
    {
     "name": "stdout",
     "output_type": "stream",
     "text": [
      "0.8150663624650674\n"
     ]
    }
   ],
   "source": [
    "tuned_gbr_preds = tuned_gbr.predict(X_test)\n",
    "print(sklearn.metrics.r2_score(y_test, tuned_gbr_preds))"
   ]
  },
  {
   "cell_type": "markdown",
   "metadata": {},
   "source": [
    "## Scikit Learn modeling Summary\n",
    "- Gradient Boosting and Random Forest outperformed other models for predicting price.\n",
    "- Once tuned, they improved to achieve r2 scores of roughly .82"
   ]
  },
  {
   "cell_type": "markdown",
   "metadata": {},
   "source": [
    "## Modeling with TensorFlow"
   ]
  },
  {
   "cell_type": "markdown",
   "metadata": {},
   "source": [
    "X_train_scaled.shape"
   ]
  },
  {
   "cell_type": "markdown",
   "metadata": {},
   "source": [
    "def build_model():\n",
    "    model = keras.Sequential([\n",
    "        layers.Dense(160, activation=tf.nn.relu, input_shape=[X_train_scaled.shape[1]]),\n",
    "        layers.Dense(80, activation=tf.nn.relu),\n",
    "        layers.Dense(40, activation=tf.nn.relu),\n",
    "        layers.Dense(20, activation=tf.nn.relu),\n",
    "        layers.Dense(1)\n",
    "    ])\n",
    "    \n",
    "    optimizer = tf.keras.optimizers.RMSprop(0.001)\n",
    "    \n",
    "    model.compile(loss='mean_squared_error',\n",
    "                 optimizer=optimizer,\n",
    "                 metrics=['mean_absolute_error', 'mean_squared_error'])\n",
    "    return model"
   ]
  },
  {
   "cell_type": "markdown",
   "metadata": {},
   "source": [
    "model = build_model()"
   ]
  },
  {
   "cell_type": "markdown",
   "metadata": {},
   "source": [
    "model.summary()"
   ]
  },
  {
   "cell_type": "markdown",
   "metadata": {},
   "source": [
    "example_batch = X_train_scaled[:10]"
   ]
  },
  {
   "cell_type": "markdown",
   "metadata": {},
   "source": [
    "example_result = model.predict(example_batch)\n",
    "example_result"
   ]
  },
  {
   "cell_type": "markdown",
   "metadata": {},
   "source": [
    "class PrintDot(keras.callbacks.Callback):\n",
    "    def on_epoch_end(self, epoch, logs):\n",
    "        if epoch % 100 == 0: print('')\n",
    "        print('.', end='')\n",
    "        \n",
    "EPOCHS = 30\n",
    "\n",
    "history = model.fit(X_train_scaled, y_train, epochs=EPOCHS, validation_split=.2, verbose=1,\n",
    "                   callbacks=[PrintDot()])"
   ]
  },
  {
   "cell_type": "markdown",
   "metadata": {},
   "source": [
    "# Modeling the Newly Scraped Data\n",
    "At this point I have created some models to predict the price of cars on the large eBay used cars dataset that I found on Kaggle.com. I also scraped a new dataset, cleaned it, and preprocessed it the same way as the old dataset. I am now ready to run some predictions on this new dataset."
   ]
  },
  {
   "cell_type": "markdown",
   "metadata": {},
   "source": [
    "My random forest regressor was the most accurate predictor so I will be using that to run my predictions now."
   ]
  },
  {
   "cell_type": "code",
   "execution_count": 30,
   "metadata": {},
   "outputs": [],
   "source": [
    "final_predictions = tuned_rfr.predict(later_features)"
   ]
  },
  {
   "cell_type": "code",
   "execution_count": 32,
   "metadata": {},
   "outputs": [
    {
     "data": {
      "text/plain": [
       "0.743358854826337"
      ]
     },
     "execution_count": 32,
     "metadata": {},
     "output_type": "execute_result"
    }
   ],
   "source": [
    "# Let's see how close my predictions came to the actual sale prices\n",
    "sklearn.metrics.r2_score(later_outcome, final_predictions)"
   ]
  },
  {
   "cell_type": "markdown",
   "metadata": {},
   "source": [
    "That's pretty good for how small the datasets were that I used. The data science product will be finding which of these cars are underpriced. That way we can buy them and make a profit."
   ]
  },
  {
   "cell_type": "code",
   "execution_count": 36,
   "metadata": {},
   "outputs": [
    {
     "data": {
      "text/plain": [
       "0      -1019.502222\n",
       "1     -53261.563333\n",
       "2       -140.273475\n",
       "3        403.901667\n",
       "4       1260.960873\n",
       "5      -4083.026667\n",
       "6      -5744.880000\n",
       "7        994.857683\n",
       "8       1426.738333\n",
       "9         35.620952\n",
       "10      2625.122152\n",
       "12      1904.677690\n",
       "13     -5372.270000\n",
       "15     -2233.250556\n",
       "16      3886.085777\n",
       "17      -968.229778\n",
       "18      5036.201905\n",
       "20      3513.147460\n",
       "21      -878.315885\n",
       "23       569.093440\n",
       "25      -537.464722\n",
       "27      2880.332111\n",
       "29     -2342.973103\n",
       "30       235.640016\n",
       "33      2084.670856\n",
       "37      1181.211111\n",
       "38      4323.344444\n",
       "39      -221.623901\n",
       "41      2121.014877\n",
       "42       235.640016\n",
       "           ...     \n",
       "212    -1979.678611\n",
       "213     1024.683333\n",
       "215     2585.793981\n",
       "216     -358.571111\n",
       "217     -608.803889\n",
       "218      529.580524\n",
       "220       51.230889\n",
       "222      733.077612\n",
       "224    -2381.461667\n",
       "225     2050.482167\n",
       "228     1465.349667\n",
       "230     3293.319907\n",
       "233      961.625288\n",
       "234     1326.897778\n",
       "235      447.205413\n",
       "236     3139.433333\n",
       "237     1195.637341\n",
       "239       50.722222\n",
       "242     3199.816359\n",
       "243    -6107.597484\n",
       "244     1084.606667\n",
       "245      836.460556\n",
       "246      851.438519\n",
       "247      152.999956\n",
       "249      296.452063\n",
       "250     4480.130368\n",
       "251      176.996333\n",
       "252    -1401.573111\n",
       "254      -24.422270\n",
       "255      407.538778\n",
       "Name: price, Length: 180, dtype: float64"
      ]
     },
     "execution_count": 36,
     "metadata": {},
     "output_type": "execute_result"
    }
   ],
   "source": [
    "# Subtracting the sale price from the car's value. Higher values represent good deals on cars.\n",
    "final_predictions - later_outcome"
   ]
  },
  {
   "cell_type": "code",
   "execution_count": null,
   "metadata": {},
   "outputs": [],
   "source": []
  }
 ],
 "metadata": {
  "kernelspec": {
   "display_name": "Python 3",
   "language": "python",
   "name": "python3"
  },
  "language_info": {
   "codemirror_mode": {
    "name": "ipython",
    "version": 3
   },
   "file_extension": ".py",
   "mimetype": "text/x-python",
   "name": "python",
   "nbconvert_exporter": "python",
   "pygments_lexer": "ipython3",
   "version": "3.6.4"
  }
 },
 "nbformat": 4,
 "nbformat_minor": 2
}
