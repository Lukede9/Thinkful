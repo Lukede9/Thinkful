{
 "cells": [
  {
   "cell_type": "code",
   "execution_count": 58,
   "metadata": {},
   "outputs": [],
   "source": [
    "import numpy as np\n",
    "import pandas as pd\n",
    "import matplotlib.pyplot as plt\n",
    "import scipy\n",
    "%matplotlib inline"
   ]
  },
  {
   "cell_type": "code",
   "execution_count": 59,
   "metadata": {},
   "outputs": [
    {
     "name": "stdout",
     "output_type": "stream",
     "text": [
      "mean of samp1 = 2.14\n",
      "mean of samp2 = 4.81\n",
      "std of samp1 = 1.2330450113438682\n",
      "std of samp2 = 1.4331433982682962\n"
     ]
    }
   ],
   "source": [
    "#Sample of 100\n",
    "pop1 = np.random.binomial(10, .2, 10000)\n",
    "pop2 = np.random.binomial(10, .5, 10000)\n",
    "\n",
    "sample1 = np.random.choice(pop1, 100)\n",
    "sample2 = np.random.choice(pop2, 100)\n",
    "\n",
    "print('mean of samp1 = {}'.format(sample1.mean()))\n",
    "print('mean of samp2 = {}'.format(sample2.mean()))\n",
    "print('std of samp1 = {}'.format(sample1.std()))\n",
    "print('std of samp2 = {}'.format(sample2.std()))"
   ]
  },
  {
   "cell_type": "markdown",
   "metadata": {},
   "source": [
    "1) Increase the size of your samples from 100 to 1000, then calculate the means and standard deviations for your new samples and create histograms for each. Repeat this again, decreasing the size of your samples to 20. What values change, and what remain the same?"
   ]
  },
  {
   "cell_type": "markdown",
   "metadata": {},
   "source": [
    "When we increase the sample size, I expect it to draw the means closer to 2 and 5. I'm expecting the standard deviation to go down as well because it will be less influenced by outliers.\n",
    "\n",
    "When we decrease the sample size, I am expecting the means to stray further from 2 and 5 and for the standard deviations to increase as well because of the influence of outliers."
   ]
  },
  {
   "cell_type": "code",
   "execution_count": 60,
   "metadata": {},
   "outputs": [
    {
     "name": "stdout",
     "output_type": "stream",
     "text": [
      "mean of samp1 = 1.965\n",
      "mean of samp2 = 4.959\n",
      "std of samp1 = 1.271917843258754\n",
      "std of samp2 = 1.5764894544525188\n"
     ]
    }
   ],
   "source": [
    "#Sample of 1000\n",
    "pop1 = np.random.binomial(10, .2, 10000)\n",
    "pop2 = np.random.binomial(10, .5, 10000)\n",
    "\n",
    "sample1 = np.random.choice(pop1, 1000)\n",
    "sample2 = np.random.choice(pop2, 1000)\n",
    "\n",
    "print('mean of samp1 = {}'.format(sample1.mean()))\n",
    "print('mean of samp2 = {}'.format(sample2.mean()))\n",
    "print('std of samp1 = {}'.format(sample1.std()))\n",
    "print('std of samp2 = {}'.format(sample2.std()))"
   ]
  },
  {
   "cell_type": "code",
   "execution_count": 61,
   "metadata": {},
   "outputs": [
    {
     "name": "stdout",
     "output_type": "stream",
     "text": [
      "mean of samp1 = 2.2\n",
      "mean of samp2 = 5.05\n",
      "std of samp1 = 0.9797958971132712\n",
      "std of samp2 = 1.2439855304624727\n"
     ]
    }
   ],
   "source": [
    "#Sample of 20\n",
    "pop1 = np.random.binomial(10, .2, 10000)\n",
    "pop2 = np.random.binomial(10, .5, 10000)\n",
    "\n",
    "sample1 = np.random.choice(pop1, 20)\n",
    "sample2 = np.random.choice(pop2, 20)\n",
    "\n",
    "print('mean of samp1 = {}'.format(sample1.mean()))\n",
    "print('mean of samp2 = {}'.format(sample2.mean()))\n",
    "print('std of samp1 = {}'.format(sample1.std()))\n",
    "print('std of samp2 = {}'.format(sample2.std()))"
   ]
  },
  {
   "cell_type": "markdown",
   "metadata": {},
   "source": [
    "After experimenting with changing the sample size, I found that the changes in the larger samples were much easier to predict. Running the sample of 20 over and over produced different results over and over.\n",
    "\n",
    "Not seeing much change in the standard deviation from 100 to 1000."
   ]
  },
  {
   "cell_type": "markdown",
   "metadata": {},
   "source": [
    "2) Change the probability value (p in the NumPy documentation) for pop1 to 0.3, then take new samples and compute the t-statistic and p-value. Then change the probability value p for group 1 to 0.4, and do it again. What changes, and why?"
   ]
  },
  {
   "cell_type": "markdown",
   "metadata": {},
   "source": [
    "By making the probability values of the two populations more similar, it will be harder to prove that they are, in fact, different. So, all things equal, the t-statistic and p-value should have less confidence the closer we set the means of the populations.\n",
    "\n",
    "I expect T-Statistics be lower and for the p-value to be higher when we move the means closer together. (It's a bit hard for me to describe why I think this. Mostly I think that the p-value will be higher and that means the t-stat will have to be lower.)"
   ]
  },
  {
   "cell_type": "code",
   "execution_count": 62,
   "metadata": {},
   "outputs": [
    {
     "name": "stdout",
     "output_type": "stream",
     "text": [
      "mean of samp1 = 2.15\n",
      "mean of samp2 = 5.06\n",
      "std of samp1 = 1.4168627315304754\n",
      "std of samp2 = 1.398713694792469\n",
      "Ttest_indResult(statistic=14.542840515094825, pvalue=4.501622682409492e-33)\n"
     ]
    }
   ],
   "source": [
    "#Sample of 100, pop1 p = .2\n",
    "pop1 = np.random.binomial(10, .2, 10000)\n",
    "pop2 = np.random.binomial(10, .5, 10000)\n",
    "\n",
    "sample1 = np.random.choice(pop1, 100)\n",
    "sample2 = np.random.choice(pop2, 100)\n",
    "\n",
    "print('mean of samp1 = {}'.format(sample1.mean()))\n",
    "print('mean of samp2 = {}'.format(sample2.mean()))\n",
    "print('std of samp1 = {}'.format(sample1.std()))\n",
    "print('std of samp2 = {}'.format(sample2.std()))\n",
    "\n",
    "from scipy.stats import ttest_ind\n",
    "print(ttest_ind(sample2, sample1, equal_var=False))"
   ]
  },
  {
   "cell_type": "code",
   "execution_count": 63,
   "metadata": {},
   "outputs": [
    {
     "name": "stdout",
     "output_type": "stream",
     "text": [
      "mean of samp1 = 2.86\n",
      "mean of samp2 = 4.98\n",
      "std of samp1 = 1.4901006677402704\n",
      "std of samp2 = 1.3709850473291094\n",
      "Ttest_indResult(statistic=10.417452523202147, pvalue=1.6208949668297585e-20)\n"
     ]
    }
   ],
   "source": [
    "#Sample of 100, pop1 p = .3\n",
    "pop1 = np.random.binomial(10, .3, 10000)\n",
    "pop2 = np.random.binomial(10, .5, 10000)\n",
    "\n",
    "sample1 = np.random.choice(pop1, 100)\n",
    "sample2 = np.random.choice(pop2, 100)\n",
    "\n",
    "print('mean of samp1 = {}'.format(sample1.mean()))\n",
    "print('mean of samp2 = {}'.format(sample2.mean()))\n",
    "print('std of samp1 = {}'.format(sample1.std()))\n",
    "print('std of samp2 = {}'.format(sample2.std()))\n",
    "\n",
    "from scipy.stats import ttest_ind\n",
    "print(ttest_ind(sample2, sample1, equal_var=False))"
   ]
  },
  {
   "cell_type": "code",
   "execution_count": 64,
   "metadata": {},
   "outputs": [
    {
     "name": "stdout",
     "output_type": "stream",
     "text": [
      "mean of samp1 = 3.63\n",
      "mean of samp2 = 5.12\n",
      "std of samp1 = 1.3011917614248871\n",
      "std of samp2 = 1.5638414241859688\n",
      "Ttest_indResult(statistic=7.287387984086525, pvalue=8.037256084563199e-12)\n"
     ]
    }
   ],
   "source": [
    "#Sample of 100, pop1 p = .4\n",
    "pop1 = np.random.binomial(10, .4, 10000)\n",
    "pop2 = np.random.binomial(10, .5, 10000)\n",
    "\n",
    "sample1 = np.random.choice(pop1, 100)\n",
    "sample2 = np.random.choice(pop2, 100)\n",
    "\n",
    "print('mean of samp1 = {}'.format(sample1.mean()))\n",
    "print('mean of samp2 = {}'.format(sample2.mean()))\n",
    "print('std of samp1 = {}'.format(sample1.std()))\n",
    "print('std of samp2 = {}'.format(sample2.std()))\n",
    "\n",
    "from scipy.stats import ttest_ind\n",
    "print(ttest_ind(sample2, sample1, equal_var=False))"
   ]
  },
  {
   "cell_type": "markdown",
   "metadata": {},
   "source": [
    "Ok, so I was right. It's harder to prove that these aren't from the same population or at least populations from the same mean because they are more similar samples. It's always harder to differentiate between more similar things."
   ]
  },
  {
   "cell_type": "markdown",
   "metadata": {},
   "source": [
    "3) Change the distribution of your populations from binomial to a distribution of your choice. Do the sample mean values still accurately represent the population values?"
   ]
  },
  {
   "cell_type": "markdown",
   "metadata": {},
   "source": [
    "I am expecting it to still work out about the same. Mostly because I am assuming that is the point of the CLT"
   ]
  },
  {
   "cell_type": "code",
   "execution_count": 85,
   "metadata": {},
   "outputs": [
    {
     "name": "stdout",
     "output_type": "stream",
     "text": [
      "mean of samp1 = 13.32655514642701\n",
      "mean of samp2 = 24.005562878535773\n",
      "std of samp1 = 6.626685925512251\n",
      "std of samp2 = 14.032671465203062\n",
      "Ttest_indResult(statistic=6.846904273428001, pvalue=2.1385485748840155e-10)\n"
     ]
    }
   ],
   "source": [
    "#Sample of 100 rayleigh distribution\n",
    "pop1 = np.random.rayleigh(10, 10000)\n",
    "pop2 = np.random.rayleigh(20, 10000)\n",
    "\n",
    "sample1 = np.random.choice(pop1, 100)\n",
    "sample2 = np.random.choice(pop2, 100)\n",
    "\n",
    "print('mean of samp1 = {}'.format(sample1.mean()))\n",
    "print('mean of samp2 = {}'.format(sample2.mean()))\n",
    "print('std of samp1 = {}'.format(sample1.std()))\n",
    "print('std of samp2 = {}'.format(sample2.std()))\n",
    "\n",
    "from scipy.stats import ttest_ind\n",
    "print(ttest_ind(sample2, sample1, equal_var=False))"
   ]
  },
  {
   "cell_type": "code",
   "execution_count": null,
   "metadata": {},
   "outputs": [],
   "source": []
  }
 ],
 "metadata": {
  "kernelspec": {
   "display_name": "Python 3",
   "language": "python",
   "name": "python3"
  },
  "language_info": {
   "codemirror_mode": {
    "name": "ipython",
    "version": 3
   },
   "file_extension": ".py",
   "mimetype": "text/x-python",
   "name": "python",
   "nbconvert_exporter": "python",
   "pygments_lexer": "ipython3",
   "version": "3.6.4"
  }
 },
 "nbformat": 4,
 "nbformat_minor": 2
}
