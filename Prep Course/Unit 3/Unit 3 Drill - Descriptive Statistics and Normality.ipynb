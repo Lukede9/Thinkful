{
 "cells": [
  {
   "cell_type": "code",
   "execution_count": 9,
   "metadata": {},
   "outputs": [],
   "source": [
    "import numpy as np\n",
    "import pandas as pd\n",
    "import matplotlib.pyplot as plt\n",
    "%matplotlib inline"
   ]
  },
  {
   "cell_type": "code",
   "execution_count": 31,
   "metadata": {},
   "outputs": [],
   "source": [
    "beta_dist = np.random.beta(1000, 1000, 100)"
   ]
  },
  {
   "cell_type": "code",
   "execution_count": 42,
   "metadata": {},
   "outputs": [
    {
     "data": {
      "image/png": "[encoded data removed]",
      "text/plain": [
       "<Figure size 432x288 with 1 Axes>"
      ]
     },
     "metadata": {},
     "output_type": "display_data"
    }
   ],
   "source": [
    "plt.hist(beta_dist, color='g')\n",
    "\n",
    "plt.axvline(beta_dist.mean(), color='m', linestyle='solid', linewidth=2)\n",
    "plt.axvline(beta_dist.mean() + beta_dist.std(), color='k', linestyle='dashed', linewidth=2)\n",
    "plt.axvline(beta_dist.mean() - beta_dist.std(), color='k', linestyle='dashed', linewidth=2)\n",
    "plt.show()"
   ]
  },
  {
   "cell_type": "code",
   "execution_count": 53,
   "metadata": {},
   "outputs": [
    {
     "data": {
      "text/plain": [
       "'mean of beta_dist = 0.5008520746193231'"
      ]
     },
     "execution_count": 53,
     "metadata": {},
     "output_type": "execute_result"
    }
   ],
   "source": [
    "'mean of beta_dist = {}'.format(beta_dist.mean())"
   ]
  },
  {
   "cell_type": "code",
   "execution_count": 54,
   "metadata": {},
   "outputs": [
    {
     "data": {
      "text/plain": [
       "'standard deviation of beta_dist = 0.01038922721415934'"
      ]
     },
     "execution_count": 54,
     "metadata": {},
     "output_type": "execute_result"
    }
   ],
   "source": [
    "'standard deviation of beta_dist = {}'.format(beta_dist.std())"
   ]
  },
  {
   "cell_type": "markdown",
   "metadata": {},
   "source": [
    "The mean and standard distribution of the beta distribution seem to be helpful measures of central tendency."
   ]
  },
  {
   "cell_type": "code",
   "execution_count": 65,
   "metadata": {},
   "outputs": [],
   "source": [
    "rayleigh_dist = np.random.rayleigh(500, 100)"
   ]
  },
  {
   "cell_type": "code",
   "execution_count": 66,
   "metadata": {},
   "outputs": [
    {
     "data": {
      "image/png": "[encoded data removed]",
      "text/plain": [
       "<Figure size 432x288 with 1 Axes>"
      ]
     },
     "metadata": {},
     "output_type": "display_data"
    }
   ],
   "source": [
    "plt.hist(rayleigh_dist, color='r')\n",
    "plt.axvline(rayleigh_dist.mean(), color='g', linestyle='solid', linewidth=2)\n",
    "plt.axvline(rayleigh_dist.mean() + rayleigh_dist.std(), color='k', linestyle='dashed', linewidth=2)\n",
    "plt.axvline(rayleigh_dist.mean() - rayleigh_dist.std(), color='k', linestyle='dashed', linewidth=2)\n",
    "plt.show()"
   ]
  },
  {
   "cell_type": "code",
   "execution_count": 67,
   "metadata": {},
   "outputs": [
    {
     "data": {
      "text/plain": [
       "'standard deviation of rayleigh_dist is 315.54030737194756'"
      ]
     },
     "execution_count": 67,
     "metadata": {},
     "output_type": "execute_result"
    }
   ],
   "source": [
    "'standard deviation of rayleigh_dist is {}'.format(rayleigh_dist.std())"
   ]
  },
  {
   "cell_type": "code",
   "execution_count": 68,
   "metadata": {},
   "outputs": [
    {
     "data": {
      "text/plain": [
       "'mean of rayleigh_dist is 588.0392198939625'"
      ]
     },
     "execution_count": 68,
     "metadata": {},
     "output_type": "execute_result"
    }
   ],
   "source": [
    "'mean of rayleigh_dist is {}'.format(rayleigh_dist.mean())"
   ]
  },
  {
   "cell_type": "markdown",
   "metadata": {},
   "source": [
    "The mean and standard deviation are decent but the data seems skewed right."
   ]
  },
  {
   "cell_type": "code",
   "execution_count": 69,
   "metadata": {},
   "outputs": [],
   "source": [
    "power_dist = np.random.power(800, 100)"
   ]
  },
  {
   "cell_type": "code",
   "execution_count": 70,
   "metadata": {},
   "outputs": [
    {
     "data": {
      "image/png": "[encoded data removed]",
      "text/plain": [
       "<Figure size 432x288 with 1 Axes>"
      ]
     },
     "metadata": {},
     "output_type": "display_data"
    }
   ],
   "source": [
    "plt.hist(power_dist, color='magenta')\n",
    "plt.axvline(power_dist.mean(), color='k', linestyle='solid', linewidth=1)\n",
    "plt.axvline(power_dist.mean() + power_dist.std(), color='k', linestyle=\"dashed\", linewidth=1)\n",
    "plt.axvline(power_dist.mean() - power_dist.std(), color='k', linestyle=\"dashed\", linewidth=1)\n",
    "plt.show()"
   ]
  },
  {
   "cell_type": "code",
   "execution_count": 71,
   "metadata": {},
   "outputs": [
    {
     "data": {
      "text/plain": [
       "'mean of power_dist is 0.9989927566894995'"
      ]
     },
     "execution_count": 71,
     "metadata": {},
     "output_type": "execute_result"
    }
   ],
   "source": [
    "'mean of power_dist is {}'.format(power_dist.mean())"
   ]
  },
  {
   "cell_type": "code",
   "execution_count": 72,
   "metadata": {},
   "outputs": [
    {
     "data": {
      "text/plain": [
       "'standard deviation of power_dist is 0.0010120285116558855'"
      ]
     },
     "execution_count": 72,
     "metadata": {},
     "output_type": "execute_result"
    }
   ],
   "source": [
    "'standard deviation of power_dist is {}'.format(power_dist.std())"
   ]
  },
  {
   "cell_type": "markdown",
   "metadata": {},
   "source": [
    "This distribution is skewed left making the standard deviation and mean much less useful."
   ]
  },
  {
   "cell_type": "code",
   "execution_count": 85,
   "metadata": {},
   "outputs": [],
   "source": [
    "weibull_dist = np.random.weibull(5, 100)"
   ]
  },
  {
   "cell_type": "code",
   "execution_count": 86,
   "metadata": {},
   "outputs": [
    {
     "data": {
      "image/png": "[encoded data removed]",
      "text/plain": [
       "<Figure size 432x288 with 1 Axes>"
      ]
     },
     "metadata": {},
     "output_type": "display_data"
    }
   ],
   "source": [
    "plt.hist(weibull_dist, color='b')\n",
    "plt.axvline(weibull_dist.mean(), color='y', linestyle='solid', linewidth=4)\n",
    "plt.axvline(weibull_dist.mean() + weibull_dist.std(), color='y', linestyle='dashed', linewidth=4)\n",
    "plt.axvline(weibull_dist.mean() - weibull_dist.std(), color='y', linestyle='dashed', linewidth=4)\n",
    "plt.show()"
   ]
  },
  {
   "cell_type": "code",
   "execution_count": 87,
   "metadata": {},
   "outputs": [
    {
     "data": {
      "text/plain": [
       "'the mean of weibull is 0.8974713131509015'"
      ]
     },
     "execution_count": 87,
     "metadata": {},
     "output_type": "execute_result"
    }
   ],
   "source": [
    "'the mean of weibull is {}'.format(weibull_dist.mean())"
   ]
  },
  {
   "cell_type": "code",
   "execution_count": 88,
   "metadata": {},
   "outputs": [
    {
     "data": {
      "text/plain": [
       "'the std of weibull is 0.19766278739707138'"
      ]
     },
     "execution_count": 88,
     "metadata": {},
     "output_type": "execute_result"
    }
   ],
   "source": [
    "'the std of weibull is {}'.format(weibull_dist.std())"
   ]
  },
  {
   "cell_type": "markdown",
   "metadata": {},
   "source": [
    "The mean and standard deviation of this one seem to be useful measures of central tendency."
   ]
  },
  {
   "cell_type": "code",
   "execution_count": 107,
   "metadata": {},
   "outputs": [],
   "source": [
    "zipf_dist = np.random.zipf(1000, 100)"
   ]
  },
  {
   "cell_type": "code",
   "execution_count": 108,
   "metadata": {},
   "outputs": [
    {
     "data": {
      "image/png": "[encoded data removed]",
      "text/plain": [
       "<Figure size 432x288 with 1 Axes>"
      ]
     },
     "metadata": {},
     "output_type": "display_data"
    }
   ],
   "source": [
    "plt.hist(zipf_dist, color='m')\n",
    "plt.axvline(zipf_dist.mean(), color='c', linestyle='solid', linewidth=2)\n",
    "plt.axvline(zipf_dist.mean() + zipf_dist.std(), color='k', linestyle='dashed', linewidth=2)\n",
    "plt.axvline(zipf_dist.mean() - zipf_dist.std(), color='k', linestyle='dashed', linewidth=2)\n",
    "plt.show()"
   ]
  },
  {
   "cell_type": "markdown",
   "metadata": {},
   "source": [
    "The mean is 1 and the standard deviation is 0. Goofy distribution. I don't think mean and standard deviation are necessary for describing this data. It explains itself."
   ]
  },
  {
   "cell_type": "code",
   "execution_count": 109,
   "metadata": {},
   "outputs": [
    {
     "data": {
      "text/plain": [
       "0.0"
      ]
     },
     "execution_count": 109,
     "metadata": {},
     "output_type": "execute_result"
    }
   ],
   "source": [
    "zipf_dist.std()"
   ]
  },
  {
   "cell_type": "code",
   "execution_count": 110,
   "metadata": {},
   "outputs": [
    {
     "data": {
      "text/plain": [
       "1.0"
      ]
     },
     "execution_count": 110,
     "metadata": {},
     "output_type": "execute_result"
    }
   ],
   "source": [
    "zipf_dist.mean()"
   ]
  },
  {
   "cell_type": "code",
   "execution_count": 111,
   "metadata": {},
   "outputs": [],
   "source": [
    "pareto_dist = np.random.pareto(500, 100)"
   ]
  },
  {
   "cell_type": "code",
   "execution_count": 114,
   "metadata": {},
   "outputs": [
    {
     "data": {
      "image/png": "[encoded data removed]",
      "text/plain": [
       "<Figure size 432x288 with 1 Axes>"
      ]
     },
     "metadata": {},
     "output_type": "display_data"
    }
   ],
   "source": [
    "plt.hist(pareto_dist, color='yellow')\n",
    "\n",
    "plt.axvline(pareto_dist.mean(), color='navy', linestyle='solid', linewidth=3)\n",
    "plt.axvline(pareto_dist.mean() - pareto_dist.std(), color='navy', linestyle='dashed', linewidth=3)\n",
    "plt.axvline(pareto_dist.mean() + pareto_dist.std(), color='navy', linestyle='dashed', linewidth=3)\n",
    "\n",
    "plt.show()"
   ]
  },
  {
   "cell_type": "code",
   "execution_count": 115,
   "metadata": {},
   "outputs": [
    {
     "data": {
      "text/plain": [
       "0.002131508731935512"
      ]
     },
     "execution_count": 115,
     "metadata": {},
     "output_type": "execute_result"
    }
   ],
   "source": [
    "pareto_dist.mean()"
   ]
  },
  {
   "cell_type": "code",
   "execution_count": 117,
   "metadata": {},
   "outputs": [
    {
     "data": {
      "text/plain": [
       "0.0019803003497148143"
      ]
     },
     "execution_count": 117,
     "metadata": {},
     "output_type": "execute_result"
    }
   ],
   "source": [
    "pareto_dist.std()"
   ]
  },
  {
   "cell_type": "markdown",
   "metadata": {},
   "source": [
    "Because this data is skewed right, the mean and standard deviation are not useful measures of central tendency."
   ]
  },
  {
   "cell_type": "markdown",
   "metadata": {},
   "source": [
    "The distributions that are usefully described with mean and standard deviation seem most similar to the bell curve. The ones that are lopsided are not."
   ]
  },
  {
   "cell_type": "code",
   "execution_count": 139,
   "metadata": {},
   "outputs": [],
   "source": [
    "smaller_norm_dist = np.random.normal(5, .5, 100)\n",
    "bigger_norm_dist = np.random.normal(10, 1, 100)\n",
    "added_norm_dist = smaller_norm_dist + bigger_norm_dist"
   ]
  },
  {
   "cell_type": "code",
   "execution_count": 140,
   "metadata": {},
   "outputs": [
    {
     "data": {
      "image/png": "[encoded data removed]",
      "text/plain": [
       "<Figure size 432x288 with 1 Axes>"
      ]
     },
     "metadata": {},
     "output_type": "display_data"
    }
   ],
   "source": [
    "plt.hist(added_norm_dist, color='orange')\n",
    "\n",
    "plt.axvline(added_norm_dist.mean(), color='k', linestyle='solid', linewidth=2)\n",
    "plt.axvline(added_norm_dist.mean() + added_norm_dist.std(), color='k', linestyle='dashed', linewidth=2)\n",
    "plt.axvline(added_norm_dist.mean() - added_norm_dist.std(), color='k', linestyle='dashed', linewidth=2)\n",
    "\n",
    "plt.show()"
   ]
  },
  {
   "cell_type": "code",
   "execution_count": 135,
   "metadata": {},
   "outputs": [
    {
     "data": {
      "text/plain": [
       "14.970946642242465"
      ]
     },
     "execution_count": 135,
     "metadata": {},
     "output_type": "execute_result"
    }
   ],
   "source": [
    "added_norm_dist.mean()"
   ]
  },
  {
   "cell_type": "code",
   "execution_count": 136,
   "metadata": {},
   "outputs": [
    {
     "data": {
      "text/plain": [
       "1.0893830118312255"
      ]
     },
     "execution_count": 136,
     "metadata": {},
     "output_type": "execute_result"
    }
   ],
   "source": [
    "added_norm_dist.std()"
   ]
  },
  {
   "cell_type": "markdown",
   "metadata": {},
   "source": [
    "The mean and standard deviation seem useful here as well as a regular \"noraml\" distribution."
   ]
  },
  {
   "cell_type": "code",
   "execution_count": 142,
   "metadata": {
    "scrolled": true
   },
   "outputs": [
    {
     "name": "stdout",
     "output_type": "stream",
     "text": [
      "[16.29559585 16.16864865 15.19769942 14.90829341 14.16062403 16.26438763\n",
      " 15.55176082 16.59307767 16.07723334 13.579742   13.88494541 15.88337828\n",
      " 14.58790683 16.72242292 12.94194735 16.27358991 14.06061769 14.67278141\n",
      " 13.29220728 14.13084532 14.7243258  13.70227768 14.25067833 15.55117905\n",
      " 13.70593372 13.39536143 15.69479769 16.31769165 13.95438856 14.52713925\n",
      " 14.78336719 15.14422033 14.14528091 14.09853313 13.96173605 14.93962365\n",
      " 16.38497325 13.24663922 15.13574161 14.76609608 14.87572055 15.36593247\n",
      " 14.95953373 15.62408916 15.99587884 13.15830323 14.02067995 14.97864855\n",
      " 14.3797679  16.56241501 16.14056148 15.46738798 14.51814489 17.03303328\n",
      " 12.80910728 14.76560024 15.70268474 16.18158175 14.19507633 12.86365106\n",
      " 15.19615119 14.68907115 14.72241552 16.16733729 13.45877557 15.07471724\n",
      " 14.29102251 14.34933359 15.40997899 15.28210792 16.52590337 13.97112451\n",
      " 14.32209783 14.87192649 16.39113326 13.95488213 15.32306472 15.92306203\n",
      " 13.53759413 14.37221042 13.90847183 16.06815628 14.41393637 13.46377761\n",
      " 15.08813441 13.89441379 15.72624347 14.08652937 13.77978327 13.5567338\n",
      " 16.10217641 16.27603785 13.87898048 15.45508792 16.39242597 17.06567037\n",
      " 15.16326774 15.82424335 15.12448574 16.54822144]\n"
     ]
    }
   ],
   "source": [
    "print(added_norm_dist)"
   ]
  },
  {
   "cell_type": "code",
   "execution_count": null,
   "metadata": {},
   "outputs": [],
   "source": []
  }
 ],
 "metadata": {
  "kernelspec": {
   "display_name": "Python 3",
   "language": "python",
   "name": "python3"
  },
  "language_info": {
   "codemirror_mode": {
    "name": "ipython",
    "version": 3
   },
   "file_extension": ".py",
   "mimetype": "text/x-python",
   "name": "python",
   "nbconvert_exporter": "python",
   "pygments_lexer": "ipython3",
   "version": "3.6.4"
  }
 },
 "nbformat": 4,
 "nbformat_minor": 2
}
