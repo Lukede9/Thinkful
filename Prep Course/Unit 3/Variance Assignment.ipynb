{
 "cells": [
  {
   "cell_type": "code",
   "execution_count": 1,
   "metadata": {},
   "outputs": [],
   "source": [
    "import numpy as np\n",
    "import pandas as pd"
   ]
  },
  {
   "cell_type": "markdown",
   "metadata": {},
   "source": [
    "# my work by hand\n",
    "1)\n",
    "(14 + 12 + 11 + 10 + 8 + 8 + 6)  /  7\n",
    "\n",
    "Median = 10\n",
    "Mode = 8\n",
    "Mean = 69/7 = 9.86\n",
    "Variance = 6.34\n",
    "Standard Deviation = 2.52\n",
    "Standard Error = .95\n",
    "\n",
    "((14-9.86)**2)/6 + ((12-9.86)**2)/6 + ((11-9.86)**2)/6 + ((10-9.86)**2)/6 + ((8-9.86)**2)/6 + ((8-9.86)**2)/6 + ((7-9.86)**2)/6\n",
    "\n",
    "2.86 + .76 + .22 + .003 + .57 + .57 + 1.36 = 6.34\n",
    "\n",
    "6.34 ** 0.5 = 2.52\n",
    "\n",
    "2.52 / (7**0.5) = .95\n",
    "\n",
    "2) If I had to choose just one measure of central tendency and variance I would pick the Mean and Standard Deviation. They seem to best reflect the general age of the children and that the range of their ages is not super big.\n"
   ]
  },
  {
   "cell_type": "code",
   "execution_count": 2,
   "metadata": {},
   "outputs": [],
   "source": [
    "Names = ['Greg',\n",
    "         'Marcia',\n",
    "         'Peter',\n",
    "         'Jan',\n",
    "         'Bobby',\n",
    "         'Cindy',\n",
    "         'Cousin Oliver']"
   ]
  },
  {
   "cell_type": "code",
   "execution_count": 18,
   "metadata": {},
   "outputs": [],
   "source": [
    "Ages = [14, 12, 11, 10, 8, 6, 8]\n",
    "Ages2 = [14, 12, 11, 10, 8, 7, 8]"
   ]
  },
  {
   "cell_type": "code",
   "execution_count": 4,
   "metadata": {},
   "outputs": [],
   "source": [
    "df = pd.DataFrame()\n",
    "df['Names'] = Names\n",
    "df['Ages'] = Ages"
   ]
  },
  {
   "cell_type": "code",
   "execution_count": 12,
   "metadata": {},
   "outputs": [
    {
     "data": {
      "text/plain": [
       "9.857142857142858"
      ]
     },
     "execution_count": 12,
     "metadata": {},
     "output_type": "execute_result"
    }
   ],
   "source": [
    "np.mean(df['Ages'])\n",
    "#Mean"
   ]
  },
  {
   "cell_type": "code",
   "execution_count": 13,
   "metadata": {},
   "outputs": [
    {
     "data": {
      "text/plain": [
       "10.0"
      ]
     },
     "execution_count": 13,
     "metadata": {},
     "output_type": "execute_result"
    }
   ],
   "source": [
    "np.median(df['Ages'])\n",
    "#Median"
   ]
  },
  {
   "cell_type": "code",
   "execution_count": 14,
   "metadata": {},
   "outputs": [
    {
     "data": {
      "text/plain": [
       "8"
      ]
     },
     "execution_count": 14,
     "metadata": {},
     "output_type": "execute_result"
    }
   ],
   "source": [
    "(values, counts) = np.unique(df['Ages'], return_counts=True)\n",
    "ind = np.argmax(counts)\n",
    "values[ind]\n",
    "#Mode"
   ]
  },
  {
   "cell_type": "code",
   "execution_count": 15,
   "metadata": {},
   "outputs": [
    {
     "data": {
      "text/plain": [
       "6.408163265306122"
      ]
     },
     "execution_count": 15,
     "metadata": {},
     "output_type": "execute_result"
    }
   ],
   "source": [
    "np.var(df.Ages)\n",
    "#Variance"
   ]
  },
  {
   "cell_type": "code",
   "execution_count": 16,
   "metadata": {},
   "outputs": [
    {
     "data": {
      "text/plain": [
       "2.734262327610589"
      ]
     },
     "execution_count": 16,
     "metadata": {},
     "output_type": "execute_result"
    }
   ],
   "source": [
    "np.std(df['Ages'], ddof=1)\n",
    "#Standard Deviation"
   ]
  },
  {
   "cell_type": "code",
   "execution_count": 17,
   "metadata": {},
   "outputs": [
    {
     "data": {
      "text/plain": [
       "1.0334540197243192"
      ]
     },
     "execution_count": 17,
     "metadata": {},
     "output_type": "execute_result"
    }
   ],
   "source": [
    "(np.std(df['Ages'], ddof=1)) / np.sqrt(len(df['Ages']))\n",
    "#Standard Error"
   ]
  },
  {
   "cell_type": "markdown",
   "metadata": {},
   "source": [
    "3) Cindy has a birthday, new calcs:\n",
    "\n",
    "Mean: (14 + 12 + 11 + 10 + 8 + 8 + 7)  /  7 = 10\n",
    "Median: 10\n",
    "Mode: 8\n",
    "Variance: 16/6 + 4/6 + 1/6 + 0 + 4/6 + 4/6 + 9/6 = 38/6 = 6.33\n",
    "Standard Deviation: v^0.5 = 2.51\n",
    "Standard Error: 2.51 / 7^0.5 = .95\n",
    "\n"
   ]
  },
  {
   "cell_type": "code",
   "execution_count": 19,
   "metadata": {},
   "outputs": [],
   "source": [
    "df2 = pd.DataFrame()\n",
    "df2['Names'] = Names\n",
    "df2['Ages'] = Ages2"
   ]
  },
  {
   "cell_type": "code",
   "execution_count": 21,
   "metadata": {},
   "outputs": [
    {
     "data": {
      "text/plain": [
       "10.0"
      ]
     },
     "execution_count": 21,
     "metadata": {},
     "output_type": "execute_result"
    }
   ],
   "source": [
    "np.mean(df2['Ages'])\n",
    "#Mean 2"
   ]
  },
  {
   "cell_type": "code",
   "execution_count": 22,
   "metadata": {},
   "outputs": [
    {
     "data": {
      "text/plain": [
       "10.0"
      ]
     },
     "execution_count": 22,
     "metadata": {},
     "output_type": "execute_result"
    }
   ],
   "source": [
    "np.median(df2['Ages'])\n",
    "#Median 2"
   ]
  },
  {
   "cell_type": "code",
   "execution_count": 23,
   "metadata": {},
   "outputs": [
    {
     "data": {
      "text/plain": [
       "8"
      ]
     },
     "execution_count": 23,
     "metadata": {},
     "output_type": "execute_result"
    }
   ],
   "source": [
    "(values, counts) = np.unique(df2['Ages'], return_counts=True)\n",
    "ind = np.argmax(counts)\n",
    "values[ind]\n",
    "#Mode 2"
   ]
  },
  {
   "cell_type": "code",
   "execution_count": 25,
   "metadata": {},
   "outputs": [
    {
     "data": {
      "text/plain": [
       "2.516611478423583"
      ]
     },
     "execution_count": 25,
     "metadata": {},
     "output_type": "execute_result"
    }
   ],
   "source": [
    "np.std(df2['Ages'], ddof=1)\n",
    "#Standard Deviation 2"
   ]
  },
  {
   "cell_type": "code",
   "execution_count": 26,
   "metadata": {},
   "outputs": [
    {
     "data": {
      "text/plain": [
       "5.428571428571429"
      ]
     },
     "execution_count": 26,
     "metadata": {},
     "output_type": "execute_result"
    }
   ],
   "source": [
    "np.var(df2.Ages)\n",
    "#Variance 2"
   ]
  },
  {
   "cell_type": "code",
   "execution_count": 27,
   "metadata": {},
   "outputs": [
    {
     "data": {
      "text/plain": [
       "0.9511897312113418"
      ]
     },
     "execution_count": 27,
     "metadata": {},
     "output_type": "execute_result"
    }
   ],
   "source": [
    "np.std(df2['Ages'], ddof=1) / np.sqrt(len(df2['Ages']))\n",
    "#Standard Error 2"
   ]
  },
  {
   "cell_type": "markdown",
   "metadata": {},
   "source": [
    "4) Nobody likes Cousin Oliver"
   ]
  },
  {
   "cell_type": "code",
   "execution_count": 29,
   "metadata": {},
   "outputs": [],
   "source": [
    "df3 = pd.DataFrame()\n",
    "Names3 = ['Greg',\n",
    "         'Marcia',\n",
    "         'Peter',\n",
    "         'Jan',\n",
    "         'Bobby',\n",
    "         'Cindy',\n",
    "         'Jessica']\n",
    "\n",
    "Ages3 = [14, 12, 11, 10, 8, 7, 1]\n",
    "df3['Names'] = Names3\n",
    "df3['Ages'] = Ages3"
   ]
  },
  {
   "cell_type": "code",
   "execution_count": 30,
   "metadata": {},
   "outputs": [
    {
     "data": {
      "text/plain": [
       "9.0"
      ]
     },
     "execution_count": 30,
     "metadata": {},
     "output_type": "execute_result"
    }
   ],
   "source": [
    "np.mean(df3['Ages'])"
   ]
  },
  {
   "cell_type": "code",
   "execution_count": 31,
   "metadata": {},
   "outputs": [
    {
     "data": {
      "text/plain": [
       "10.0"
      ]
     },
     "execution_count": 31,
     "metadata": {},
     "output_type": "execute_result"
    }
   ],
   "source": [
    "np.median(df3['Ages'])"
   ]
  },
  {
   "cell_type": "markdown",
   "metadata": {},
   "source": [
    "no mode"
   ]
  },
  {
   "cell_type": "code",
   "execution_count": 34,
   "metadata": {},
   "outputs": [
    {
     "data": {
      "text/plain": [
       "15.428571428571429"
      ]
     },
     "execution_count": 34,
     "metadata": {},
     "output_type": "execute_result"
    }
   ],
   "source": [
    "np.var(df3.Ages)"
   ]
  },
  {
   "cell_type": "code",
   "execution_count": 39,
   "metadata": {},
   "outputs": [
    {
     "data": {
      "text/plain": [
       "4.242640687119285"
      ]
     },
     "execution_count": 39,
     "metadata": {},
     "output_type": "execute_result"
    }
   ],
   "source": [
    "np.std(df3['Ages'], ddof=1)"
   ]
  },
  {
   "cell_type": "code",
   "execution_count": 40,
   "metadata": {},
   "outputs": [
    {
     "data": {
      "text/plain": [
       "4.038463151317183"
      ]
     },
     "execution_count": 40,
     "metadata": {},
     "output_type": "execute_result"
    }
   ],
   "source": [
    "np.std(df3['Ages'], ddof=1 / np.sqrt(len(df3['Ages'])))"
   ]
  },
  {
   "cell_type": "markdown",
   "metadata": {},
   "source": [
    "Doesn't seem to change my choice of central tendency or variance."
   ]
  },
  {
   "cell_type": "markdown",
   "metadata": {},
   "source": [
    "This is a sample of different magazine readers. Not a sample of all adult Americans. I would guess based on these numbers that the average adults are even less likely to be fans because reading magazines is a bit old fashioned just like the show. Maybe around 10% of all Americans."
   ]
  },
  {
   "cell_type": "code",
   "execution_count": null,
   "metadata": {},
   "outputs": [],
   "source": []
  }
 ],
 "metadata": {
  "kernelspec": {
   "display_name": "Python 3",
   "language": "python",
   "name": "python3"
  },
  "language_info": {
   "codemirror_mode": {
    "name": "ipython",
    "version": 3
   },
   "file_extension": ".py",
   "mimetype": "text/x-python",
   "name": "python",
   "nbconvert_exporter": "python",
   "pygments_lexer": "ipython3",
   "version": "3.6.4"
  }
 },
 "nbformat": 4,
 "nbformat_minor": 2
}
